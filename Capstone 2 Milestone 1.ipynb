{
 "cells": [
  {
   "cell_type": "code",
   "execution_count": 1,
   "metadata": {},
   "outputs": [],
   "source": [
    "import pandas as pd\n",
    "import numpy as np\n",
    "import matplotlib as mpl\n",
    "from matplotlib import pyplot as plt\n",
    "import seaborn as sns\n",
    "import datetime as dt\n",
    "import collections\n",
    "%matplotlib inline\n",
    "\n",
    "from sklearn import linear_model\n",
    "from sklearn import metrics\n",
    "from sklearn import model_selection\n",
    "from sklearn.linear_model import LinearRegression\n",
    "from sklearn.metrics import mean_squared_error\n",
    "from sklearn.model_selection import train_test_split\n",
    "from sklearn.ensemble import RandomForestRegressor\n",
    "\n",
    "from scipy import stats\n",
    "from statsmodels.formula.api import ols"
   ]
  },
  {
   "cell_type": "markdown",
   "metadata": {},
   "source": [
    "# Raw DataFrame"
   ]
  },
  {
   "cell_type": "code",
   "execution_count": 2,
   "metadata": {},
   "outputs": [
    {
     "data": {
      "text/html": [
       "<div>\n",
       "<style scoped>\n",
       "    .dataframe tbody tr th:only-of-type {\n",
       "        vertical-align: middle;\n",
       "    }\n",
       "\n",
       "    .dataframe tbody tr th {\n",
       "        vertical-align: top;\n",
       "    }\n",
       "\n",
       "    .dataframe thead th {\n",
       "        text-align: right;\n",
       "    }\n",
       "</style>\n",
       "<table border=\"1\" class=\"dataframe\">\n",
       "  <thead>\n",
       "    <tr style=\"text-align: right;\">\n",
       "      <th></th>\n",
       "      <th>trip_id</th>\n",
       "      <th>year</th>\n",
       "      <th>month</th>\n",
       "      <th>week</th>\n",
       "      <th>day</th>\n",
       "      <th>hour</th>\n",
       "      <th>usertype</th>\n",
       "      <th>gender</th>\n",
       "      <th>starttime</th>\n",
       "      <th>stoptime</th>\n",
       "      <th>tripduration</th>\n",
       "      <th>temperature</th>\n",
       "      <th>events</th>\n",
       "      <th>from_station_id</th>\n",
       "      <th>from_station_name</th>\n",
       "      <th>latitude_start</th>\n",
       "      <th>longitude_start</th>\n",
       "      <th>dpcapacity_start</th>\n",
       "      <th>to_station_id</th>\n",
       "      <th>to_station_name</th>\n",
       "      <th>latitude_end</th>\n",
       "      <th>longitude_end</th>\n",
       "      <th>dpcapacity_end</th>\n",
       "    </tr>\n",
       "  </thead>\n",
       "  <tbody>\n",
       "    <tr>\n",
       "      <th>0</th>\n",
       "      <td>2355134</td>\n",
       "      <td>2014</td>\n",
       "      <td>6</td>\n",
       "      <td>27</td>\n",
       "      <td>0</td>\n",
       "      <td>23</td>\n",
       "      <td>Subscriber</td>\n",
       "      <td>Male</td>\n",
       "      <td>2014-06-30 23:57:00</td>\n",
       "      <td>2014-07-01 00:07:00</td>\n",
       "      <td>10.066667</td>\n",
       "      <td>68.0</td>\n",
       "      <td>tstorms</td>\n",
       "      <td>131</td>\n",
       "      <td>Lincoln Ave &amp; Belmont Ave</td>\n",
       "      <td>41.939365</td>\n",
       "      <td>-87.668385</td>\n",
       "      <td>15.0</td>\n",
       "      <td>303</td>\n",
       "      <td>Broadway &amp; Cornelia Ave</td>\n",
       "      <td>41.945512</td>\n",
       "      <td>-87.645980</td>\n",
       "      <td>15.0</td>\n",
       "    </tr>\n",
       "    <tr>\n",
       "      <th>1</th>\n",
       "      <td>2355133</td>\n",
       "      <td>2014</td>\n",
       "      <td>6</td>\n",
       "      <td>27</td>\n",
       "      <td>0</td>\n",
       "      <td>23</td>\n",
       "      <td>Subscriber</td>\n",
       "      <td>Male</td>\n",
       "      <td>2014-06-30 23:56:00</td>\n",
       "      <td>2014-07-01 00:00:00</td>\n",
       "      <td>4.383333</td>\n",
       "      <td>68.0</td>\n",
       "      <td>tstorms</td>\n",
       "      <td>282</td>\n",
       "      <td>Halsted St &amp; Maxwell St</td>\n",
       "      <td>41.864580</td>\n",
       "      <td>-87.646930</td>\n",
       "      <td>15.0</td>\n",
       "      <td>22</td>\n",
       "      <td>May St &amp; Taylor St</td>\n",
       "      <td>41.869482</td>\n",
       "      <td>-87.655486</td>\n",
       "      <td>15.0</td>\n",
       "    </tr>\n",
       "    <tr>\n",
       "      <th>2</th>\n",
       "      <td>2355130</td>\n",
       "      <td>2014</td>\n",
       "      <td>6</td>\n",
       "      <td>27</td>\n",
       "      <td>0</td>\n",
       "      <td>23</td>\n",
       "      <td>Subscriber</td>\n",
       "      <td>Male</td>\n",
       "      <td>2014-06-30 23:33:00</td>\n",
       "      <td>2014-06-30 23:35:00</td>\n",
       "      <td>2.100000</td>\n",
       "      <td>68.0</td>\n",
       "      <td>tstorms</td>\n",
       "      <td>327</td>\n",
       "      <td>Sheffield Ave &amp; Webster Ave</td>\n",
       "      <td>41.921687</td>\n",
       "      <td>-87.653714</td>\n",
       "      <td>19.0</td>\n",
       "      <td>225</td>\n",
       "      <td>Halsted St &amp; Dickens Ave</td>\n",
       "      <td>41.919936</td>\n",
       "      <td>-87.648830</td>\n",
       "      <td>15.0</td>\n",
       "    </tr>\n",
       "    <tr>\n",
       "      <th>3</th>\n",
       "      <td>2355129</td>\n",
       "      <td>2014</td>\n",
       "      <td>6</td>\n",
       "      <td>27</td>\n",
       "      <td>0</td>\n",
       "      <td>23</td>\n",
       "      <td>Subscriber</td>\n",
       "      <td>Female</td>\n",
       "      <td>2014-06-30 23:26:00</td>\n",
       "      <td>2014-07-01 00:24:00</td>\n",
       "      <td>58.016667</td>\n",
       "      <td>68.0</td>\n",
       "      <td>tstorms</td>\n",
       "      <td>134</td>\n",
       "      <td>Peoria St &amp; Jackson Blvd</td>\n",
       "      <td>41.877749</td>\n",
       "      <td>-87.649633</td>\n",
       "      <td>19.0</td>\n",
       "      <td>194</td>\n",
       "      <td>State St &amp; Wacker Dr</td>\n",
       "      <td>41.887155</td>\n",
       "      <td>-87.627750</td>\n",
       "      <td>11.0</td>\n",
       "    </tr>\n",
       "    <tr>\n",
       "      <th>4</th>\n",
       "      <td>2355128</td>\n",
       "      <td>2014</td>\n",
       "      <td>6</td>\n",
       "      <td>27</td>\n",
       "      <td>0</td>\n",
       "      <td>23</td>\n",
       "      <td>Subscriber</td>\n",
       "      <td>Female</td>\n",
       "      <td>2014-06-30 23:16:00</td>\n",
       "      <td>2014-06-30 23:26:00</td>\n",
       "      <td>10.633333</td>\n",
       "      <td>68.0</td>\n",
       "      <td>tstorms</td>\n",
       "      <td>320</td>\n",
       "      <td>Loomis St &amp; Lexington St</td>\n",
       "      <td>41.872187</td>\n",
       "      <td>-87.661501</td>\n",
       "      <td>15.0</td>\n",
       "      <td>134</td>\n",
       "      <td>Peoria St &amp; Jackson Blvd</td>\n",
       "      <td>41.877749</td>\n",
       "      <td>-87.649633</td>\n",
       "      <td>19.0</td>\n",
       "    </tr>\n",
       "  </tbody>\n",
       "</table>\n",
       "</div>"
      ],
      "text/plain": [
       "   trip_id  year  month  week  day  hour    usertype  gender  \\\n",
       "0  2355134  2014      6    27    0    23  Subscriber    Male   \n",
       "1  2355133  2014      6    27    0    23  Subscriber    Male   \n",
       "2  2355130  2014      6    27    0    23  Subscriber    Male   \n",
       "3  2355129  2014      6    27    0    23  Subscriber  Female   \n",
       "4  2355128  2014      6    27    0    23  Subscriber  Female   \n",
       "\n",
       "             starttime             stoptime  tripduration  temperature  \\\n",
       "0  2014-06-30 23:57:00  2014-07-01 00:07:00     10.066667         68.0   \n",
       "1  2014-06-30 23:56:00  2014-07-01 00:00:00      4.383333         68.0   \n",
       "2  2014-06-30 23:33:00  2014-06-30 23:35:00      2.100000         68.0   \n",
       "3  2014-06-30 23:26:00  2014-07-01 00:24:00     58.016667         68.0   \n",
       "4  2014-06-30 23:16:00  2014-06-30 23:26:00     10.633333         68.0   \n",
       "\n",
       "    events  from_station_id            from_station_name  latitude_start  \\\n",
       "0  tstorms              131    Lincoln Ave & Belmont Ave       41.939365   \n",
       "1  tstorms              282      Halsted St & Maxwell St       41.864580   \n",
       "2  tstorms              327  Sheffield Ave & Webster Ave       41.921687   \n",
       "3  tstorms              134     Peoria St & Jackson Blvd       41.877749   \n",
       "4  tstorms              320     Loomis St & Lexington St       41.872187   \n",
       "\n",
       "   longitude_start  dpcapacity_start  to_station_id           to_station_name  \\\n",
       "0       -87.668385              15.0            303   Broadway & Cornelia Ave   \n",
       "1       -87.646930              15.0             22        May St & Taylor St   \n",
       "2       -87.653714              19.0            225  Halsted St & Dickens Ave   \n",
       "3       -87.649633              19.0            194      State St & Wacker Dr   \n",
       "4       -87.661501              15.0            134  Peoria St & Jackson Blvd   \n",
       "\n",
       "   latitude_end  longitude_end  dpcapacity_end  \n",
       "0     41.945512     -87.645980            15.0  \n",
       "1     41.869482     -87.655486            15.0  \n",
       "2     41.919936     -87.648830            15.0  \n",
       "3     41.887155     -87.627750            11.0  \n",
       "4     41.877749     -87.649633            19.0  "
      ]
     },
     "execution_count": 2,
     "metadata": {},
     "output_type": "execute_result"
    }
   ],
   "source": [
    "# read in the Chicagov Divvy Bicycle Sharing Data csv files from Kaggle\n",
    "pd.set_option('display.max_columns', 25)\n",
    "filename = 'data.csv'\n",
    "df = pd.read_csv(filename)\n",
    "df.head()"
   ]
  },
  {
   "cell_type": "code",
   "execution_count": 3,
   "metadata": {},
   "outputs": [
    {
     "name": "stdout",
     "output_type": "stream",
     "text": [
      "<class 'pandas.core.frame.DataFrame'>\n",
      "RangeIndex: 9495235 entries, 0 to 9495234\n",
      "Data columns (total 23 columns):\n",
      "trip_id              9495235 non-null int64\n",
      "year                 9495235 non-null int64\n",
      "month                9495235 non-null int64\n",
      "week                 9495235 non-null int64\n",
      "day                  9495235 non-null int64\n",
      "hour                 9495235 non-null int64\n",
      "usertype             9495235 non-null object\n",
      "gender               9495235 non-null object\n",
      "starttime            9495235 non-null object\n",
      "stoptime             9495235 non-null object\n",
      "tripduration         9495235 non-null float64\n",
      "temperature          9495235 non-null float64\n",
      "events               9495235 non-null object\n",
      "from_station_id      9495235 non-null int64\n",
      "from_station_name    9495235 non-null object\n",
      "latitude_start       9495235 non-null float64\n",
      "longitude_start      9495235 non-null float64\n",
      "dpcapacity_start     9495235 non-null float64\n",
      "to_station_id        9495235 non-null int64\n",
      "to_station_name      9495235 non-null object\n",
      "latitude_end         9495235 non-null float64\n",
      "longitude_end        9495235 non-null float64\n",
      "dpcapacity_end       9495235 non-null float64\n",
      "dtypes: float64(8), int64(8), object(7)\n",
      "memory usage: 1.6+ GB\n"
     ]
    }
   ],
   "source": [
    "# show column types and if there are any null values present\n",
    "df.info(null_counts=True)"
   ]
  },
  {
   "cell_type": "markdown",
   "metadata": {},
   "source": [
    "# Data Cleaning and Wrangling"
   ]
  },
  {
   "cell_type": "markdown",
   "metadata": {},
   "source": [
    "### Trip ID Column"
   ]
  },
  {
   "cell_type": "code",
   "execution_count": 4,
   "metadata": {},
   "outputs": [],
   "source": [
    "# check for unique trip_ids\n",
    "df.trip_id.value_counts();"
   ]
  },
  {
   "cell_type": "code",
   "execution_count": 5,
   "metadata": {},
   "outputs": [
    {
     "data": {
      "text/html": [
       "<div>\n",
       "<style scoped>\n",
       "    .dataframe tbody tr th:only-of-type {\n",
       "        vertical-align: middle;\n",
       "    }\n",
       "\n",
       "    .dataframe tbody tr th {\n",
       "        vertical-align: top;\n",
       "    }\n",
       "\n",
       "    .dataframe thead th {\n",
       "        text-align: right;\n",
       "    }\n",
       "</style>\n",
       "<table border=\"1\" class=\"dataframe\">\n",
       "  <thead>\n",
       "    <tr style=\"text-align: right;\">\n",
       "      <th></th>\n",
       "      <th>trip_id</th>\n",
       "      <th>year</th>\n",
       "      <th>month</th>\n",
       "      <th>week</th>\n",
       "      <th>day</th>\n",
       "      <th>hour</th>\n",
       "      <th>usertype</th>\n",
       "      <th>gender</th>\n",
       "      <th>starttime</th>\n",
       "      <th>stoptime</th>\n",
       "      <th>tripduration</th>\n",
       "      <th>temperature</th>\n",
       "      <th>events</th>\n",
       "      <th>from_station_id</th>\n",
       "      <th>from_station_name</th>\n",
       "      <th>latitude_start</th>\n",
       "      <th>longitude_start</th>\n",
       "      <th>dpcapacity_start</th>\n",
       "      <th>to_station_id</th>\n",
       "      <th>to_station_name</th>\n",
       "      <th>latitude_end</th>\n",
       "      <th>longitude_end</th>\n",
       "      <th>dpcapacity_end</th>\n",
       "    </tr>\n",
       "  </thead>\n",
       "  <tbody>\n",
       "    <tr>\n",
       "      <th>5250863</th>\n",
       "      <td>11693784</td>\n",
       "      <td>2016</td>\n",
       "      <td>9</td>\n",
       "      <td>35</td>\n",
       "      <td>6</td>\n",
       "      <td>12</td>\n",
       "      <td>Subscriber</td>\n",
       "      <td>Male</td>\n",
       "      <td>2016-09-04 12:06:52</td>\n",
       "      <td>2016-09-04 12:12:57</td>\n",
       "      <td>6.1</td>\n",
       "      <td>78.1</td>\n",
       "      <td>cloudy</td>\n",
       "      <td>334</td>\n",
       "      <td>Lake Shore Dr &amp; Belmont Ave</td>\n",
       "      <td>41.940775</td>\n",
       "      <td>-87.639192</td>\n",
       "      <td>19.0</td>\n",
       "      <td>117</td>\n",
       "      <td>Wilton Ave &amp; Belmont Ave</td>\n",
       "      <td>41.94018</td>\n",
       "      <td>-87.65304</td>\n",
       "      <td>23.0</td>\n",
       "    </tr>\n",
       "    <tr>\n",
       "      <th>5250864</th>\n",
       "      <td>11693784</td>\n",
       "      <td>2016</td>\n",
       "      <td>9</td>\n",
       "      <td>35</td>\n",
       "      <td>6</td>\n",
       "      <td>12</td>\n",
       "      <td>Subscriber</td>\n",
       "      <td>Male</td>\n",
       "      <td>2016-09-04 12:06:52</td>\n",
       "      <td>2016-09-04 12:12:57</td>\n",
       "      <td>6.1</td>\n",
       "      <td>78.1</td>\n",
       "      <td>cloudy</td>\n",
       "      <td>334</td>\n",
       "      <td>Lake Shore Dr &amp; Belmont Ave</td>\n",
       "      <td>41.940775</td>\n",
       "      <td>-87.639192</td>\n",
       "      <td>19.0</td>\n",
       "      <td>117</td>\n",
       "      <td>Wilton Ave &amp; Belmont Ave</td>\n",
       "      <td>41.94018</td>\n",
       "      <td>-87.65304</td>\n",
       "      <td>23.0</td>\n",
       "    </tr>\n",
       "  </tbody>\n",
       "</table>\n",
       "</div>"
      ],
      "text/plain": [
       "          trip_id  year  month  week  day  hour    usertype gender  \\\n",
       "5250863  11693784  2016      9    35    6    12  Subscriber   Male   \n",
       "5250864  11693784  2016      9    35    6    12  Subscriber   Male   \n",
       "\n",
       "                   starttime             stoptime  tripduration  temperature  \\\n",
       "5250863  2016-09-04 12:06:52  2016-09-04 12:12:57           6.1         78.1   \n",
       "5250864  2016-09-04 12:06:52  2016-09-04 12:12:57           6.1         78.1   \n",
       "\n",
       "         events  from_station_id            from_station_name  latitude_start  \\\n",
       "5250863  cloudy              334  Lake Shore Dr & Belmont Ave       41.940775   \n",
       "5250864  cloudy              334  Lake Shore Dr & Belmont Ave       41.940775   \n",
       "\n",
       "         longitude_start  dpcapacity_start  to_station_id  \\\n",
       "5250863       -87.639192              19.0            117   \n",
       "5250864       -87.639192              19.0            117   \n",
       "\n",
       "                  to_station_name  latitude_end  longitude_end  dpcapacity_end  \n",
       "5250863  Wilton Ave & Belmont Ave      41.94018      -87.65304            23.0  \n",
       "5250864  Wilton Ave & Belmont Ave      41.94018      -87.65304            23.0  "
      ]
     },
     "execution_count": 5,
     "metadata": {},
     "output_type": "execute_result"
    }
   ],
   "source": [
    "# look at one instance of trip_id where there are duplicate rows\n",
    "df[df['trip_id']==11693784]"
   ]
  },
  {
   "cell_type": "code",
   "execution_count": 6,
   "metadata": {},
   "outputs": [
    {
     "data": {
      "text/plain": [
       "9495188"
      ]
     },
     "execution_count": 6,
     "metadata": {},
     "output_type": "execute_result"
    }
   ],
   "source": [
    "# since there were some trip_ids with more than one count, determine the count of unique rows\n",
    "df.trip_id.nunique()"
   ]
  },
  {
   "cell_type": "code",
   "execution_count": 7,
   "metadata": {},
   "outputs": [],
   "source": [
    "# drop rows with duplicate data \n",
    "data = df.copy()\n",
    "data = data.drop_duplicates()"
   ]
  },
  {
   "cell_type": "code",
   "execution_count": 8,
   "metadata": {},
   "outputs": [
    {
     "name": "stdout",
     "output_type": "stream",
     "text": [
      "<class 'pandas.core.frame.DataFrame'>\n",
      "Int64Index: 9495188 entries, 0 to 9495234\n",
      "Data columns (total 23 columns):\n",
      "trip_id              9495188 non-null int64\n",
      "year                 9495188 non-null int64\n",
      "month                9495188 non-null int64\n",
      "week                 9495188 non-null int64\n",
      "day                  9495188 non-null int64\n",
      "hour                 9495188 non-null int64\n",
      "usertype             9495188 non-null object\n",
      "gender               9495188 non-null object\n",
      "starttime            9495188 non-null object\n",
      "stoptime             9495188 non-null object\n",
      "tripduration         9495188 non-null float64\n",
      "temperature          9495188 non-null float64\n",
      "events               9495188 non-null object\n",
      "from_station_id      9495188 non-null int64\n",
      "from_station_name    9495188 non-null object\n",
      "latitude_start       9495188 non-null float64\n",
      "longitude_start      9495188 non-null float64\n",
      "dpcapacity_start     9495188 non-null float64\n",
      "to_station_id        9495188 non-null int64\n",
      "to_station_name      9495188 non-null object\n",
      "latitude_end         9495188 non-null float64\n",
      "longitude_end        9495188 non-null float64\n",
      "dpcapacity_end       9495188 non-null float64\n",
      "dtypes: float64(8), int64(8), object(7)\n",
      "memory usage: 1.7+ GB\n"
     ]
    }
   ],
   "source": [
    "# make sure the entries match our nunique count \n",
    "data.info(null_counts=True)"
   ]
  },
  {
   "cell_type": "code",
   "execution_count": 9,
   "metadata": {},
   "outputs": [],
   "source": [
    "# check each trip id has a single count\n",
    "data.trip_id.value_counts();"
   ]
  },
  {
   "cell_type": "markdown",
   "metadata": {},
   "source": [
    "The duplicate trip_ids have been dropped, so each trip_id is a unique event. There are 9495188 values in every column, and there are no null values. "
   ]
  },
  {
   "cell_type": "markdown",
   "metadata": {},
   "source": [
    "### Datetime: year, month, week, day, hour"
   ]
  },
  {
   "cell_type": "code",
   "execution_count": 10,
   "metadata": {},
   "outputs": [],
   "source": [
    "# convert start and stop times to datetimes\n",
    "data['starttime'] = pd.to_datetime(data['starttime'])\n",
    "data['stoptime'] = pd.to_datetime(data['stoptime'])"
   ]
  },
  {
   "cell_type": "code",
   "execution_count": 11,
   "metadata": {},
   "outputs": [],
   "source": [
    "## value counts of the number of trip sorted by month\n",
    "data.month.value_counts().sort_index();"
   ]
  },
  {
   "cell_type": "code",
   "execution_count": 12,
   "metadata": {},
   "outputs": [
    {
     "data": {
      "text/plain": [
       "<matplotlib.axes._subplots.AxesSubplot at 0x1aa894a9e8>"
      ]
     },
     "execution_count": 12,
     "metadata": {},
     "output_type": "execute_result"
    },
    {
     "data": {
      "image/png": "[encoded data removed]",
      "text/plain": [
       "<Figure size 432x288 with 1 Axes>"
      ]
     },
     "metadata": {},
     "output_type": "display_data"
    }
   ],
   "source": [
    "# group the year and month data and average the temperature\n",
    "year_month = data.groupby(['year','month']).agg({'temperature': 'mean',\n",
    "                                                 'trip_id': 'size'}).reset_index()\n",
    "year_month['date']=year_month['year'].astype(str)+'_'+year_month['month'].astype(str)\n",
    "year_month['trip_id_percentage'] = year_month['trip_id'] / year_month['trip_id'].sum()\n",
    "year_month.plot(x='date',y='trip_id_percentage')"
   ]
  },
  {
   "cell_type": "code",
   "execution_count": 13,
   "metadata": {},
   "outputs": [],
   "source": [
    "# value counts of the number of trip sorted by week\n",
    "data.week.value_counts().sort_index();"
   ]
  },
  {
   "cell_type": "code",
   "execution_count": 14,
   "metadata": {},
   "outputs": [
    {
     "data": {
      "text/plain": [
       "<matplotlib.axes._subplots.AxesSubplot at 0x114593c18>"
      ]
     },
     "execution_count": 14,
     "metadata": {},
     "output_type": "execute_result"
    },
    {
     "data": {
      "image/png": "[encoded data removed]",
      "text/plain": [
       "<Figure size 432x288 with 1 Axes>"
      ]
     },
     "metadata": {},
     "output_type": "display_data"
    }
   ],
   "source": [
    "# group the year and week data and average the temperature\n",
    "year_week = data.groupby(['year','week']).agg({'temperature': 'mean',\n",
    "                                               'trip_id': 'size'}).reset_index()\n",
    "year_week['date']=year_week['year'].astype(str)+'_'+year_week['week'].astype(str)\n",
    "year_week['trip_id_percentage'] = year_week['trip_id'] / year_week['trip_id'].sum()\n",
    "year_week.plot(x='date',y='trip_id_percentage')"
   ]
  },
  {
   "cell_type": "code",
   "execution_count": 15,
   "metadata": {},
   "outputs": [],
   "source": [
    "# value counts of the number of trip sorted by hour\n",
    "data.hour.value_counts().sort_index();"
   ]
  },
  {
   "cell_type": "code",
   "execution_count": 16,
   "metadata": {},
   "outputs": [
    {
     "data": {
      "text/plain": [
       "0      0.649497\n",
       "1      0.386153\n",
       "2      0.224061\n",
       "3      0.135521\n",
       "4      0.184504\n",
       "5      0.905890\n",
       "6      3.264717\n",
       "7      7.305753\n",
       "8      9.362205\n",
       "9      4.678938\n",
       "10     3.530567\n",
       "11     4.268868\n",
       "12     4.934036\n",
       "13     4.790648\n",
       "14     4.564881\n",
       "15     5.573444\n",
       "16     9.178502\n",
       "17    12.758168\n",
       "18     8.512680\n",
       "19     5.529306\n",
       "20     3.645878\n",
       "21     2.639516\n",
       "22     1.866303\n",
       "23     1.109962\n",
       "Name: hour, dtype: float64"
      ]
     },
     "execution_count": 16,
     "metadata": {},
     "output_type": "execute_result"
    }
   ],
   "source": [
    "# percentage of trips taken during different hours\n",
    "((data.hour.value_counts()/data.hour.count()) * 100).sort_index()"
   ]
  },
  {
   "cell_type": "markdown",
   "metadata": {},
   "source": [
    "### Usertype and Gender"
   ]
  },
  {
   "cell_type": "code",
   "execution_count": 17,
   "metadata": {},
   "outputs": [
    {
     "data": {
      "text/plain": [
       "Subscriber    99.984676\n",
       "Customer       0.013449\n",
       "Dependent      0.001875\n",
       "Name: usertype, dtype: float64"
      ]
     },
     "execution_count": 17,
     "metadata": {},
     "output_type": "execute_result"
    }
   ],
   "source": [
    "# percentage of trips taken by different usertypes\n",
    "(data.usertype.value_counts()/data.usertype.count()) * 100"
   ]
  },
  {
   "cell_type": "code",
   "execution_count": 18,
   "metadata": {},
   "outputs": [
    {
     "data": {
      "text/plain": [
       "Male      74.948785\n",
       "Female    25.051215\n",
       "Name: gender, dtype: float64"
      ]
     },
     "execution_count": 18,
     "metadata": {},
     "output_type": "execute_result"
    }
   ],
   "source": [
    "# percentage of trips taken by different gender\n",
    "(data.gender.value_counts()/data.gender.count()) * 100"
   ]
  },
  {
   "cell_type": "markdown",
   "metadata": {},
   "source": [
    "### Duration"
   ]
  },
  {
   "cell_type": "code",
   "execution_count": 19,
   "metadata": {},
   "outputs": [],
   "source": [
    "# see how the difference in stop/start time compares to the trip duration \n",
    "data['difference'] = data['stoptime'] - data['starttime']\n",
    "data['tripduration_round'] = data['tripduration'].round(0)\n",
    "data[['difference','tripduration_round']];"
   ]
  },
  {
   "cell_type": "code",
   "execution_count": 20,
   "metadata": {},
   "outputs": [
    {
     "data": {
      "text/plain": [
       "array([[<matplotlib.axes._subplots.AxesSubplot object at 0x110cc8d68>]],\n",
       "      dtype=object)"
      ]
     },
     "execution_count": 20,
     "metadata": {},
     "output_type": "execute_result"
    },
    {
     "data": {
      "image/png": "[encoded data removed]",
      "text/plain": [
       "<Figure size 432x288 with 1 Axes>"
      ]
     },
     "metadata": {},
     "output_type": "display_data"
    }
   ],
   "source": [
    "data.hist('tripduration', bins=30)"
   ]
  },
  {
   "cell_type": "markdown",
   "metadata": {},
   "source": [
    "### Day of Week"
   ]
  },
  {
   "cell_type": "code",
   "execution_count": 21,
   "metadata": {},
   "outputs": [],
   "source": [
    "# create new column with the name of the week \n",
    "data['day_of_week'] = data['starttime'].dt.weekday_name"
   ]
  },
  {
   "cell_type": "code",
   "execution_count": 22,
   "metadata": {},
   "outputs": [
    {
     "data": {
      "text/plain": [
       "Tuesday      16.752928\n",
       "Wednesday    16.197984\n",
       "Thursday     16.120460\n",
       "Monday       15.551467\n",
       "Friday       15.359928\n",
       "Saturday     10.315025\n",
       "Sunday        9.702209\n",
       "Name: day_of_week, dtype: float64"
      ]
     },
     "execution_count": 22,
     "metadata": {},
     "output_type": "execute_result"
    }
   ],
   "source": [
    "# percentage of trips taken by different gender\n",
    "(data['day_of_week'].value_counts()/data['day_of_week'].count()) * 100"
   ]
  },
  {
   "cell_type": "markdown",
   "metadata": {},
   "source": [
    "### Weather"
   ]
  },
  {
   "cell_type": "code",
   "execution_count": 23,
   "metadata": {},
   "outputs": [
    {
     "data": {
      "text/plain": [
       "array([[<matplotlib.axes._subplots.AxesSubplot object at 0x1a3f6a7278>]],\n",
       "      dtype=object)"
      ]
     },
     "execution_count": 23,
     "metadata": {},
     "output_type": "execute_result"
    },
    {
     "data": {
      "image/png": "[encoded data removed]",
      "text/plain": [
       "<Figure size 432x288 with 1 Axes>"
      ]
     },
     "metadata": {},
     "output_type": "display_data"
    }
   ],
   "source": [
    "# histogram of the temperature data\n",
    "data.hist('temperature', bins=20)"
   ]
  },
  {
   "cell_type": "code",
   "execution_count": 24,
   "metadata": {
    "scrolled": true
   },
   "outputs": [
    {
     "data": {
      "text/plain": [
       "cloudy          8398455\n",
       "clear            511818\n",
       "rain or snow     432077\n",
       "not clear         88159\n",
       "tstorms           64143\n",
       "unknown             536\n",
       "Name: events, dtype: int64"
      ]
     },
     "execution_count": 24,
     "metadata": {},
     "output_type": "execute_result"
    }
   ],
   "source": [
    "# weather events\n",
    "data.events.value_counts()"
   ]
  },
  {
   "cell_type": "code",
   "execution_count": 25,
   "metadata": {},
   "outputs": [
    {
     "data": {
      "text/plain": [
       "<matplotlib.axes._subplots.AxesSubplot at 0x1aa894a208>"
      ]
     },
     "execution_count": 25,
     "metadata": {},
     "output_type": "execute_result"
    },
    {
     "data": {
      "image/png": "[encoded data removed]",
      "text/plain": [
       "<Figure size 432x288 with 1 Axes>"
      ]
     },
     "metadata": {},
     "output_type": "display_data"
    }
   ],
   "source": [
    "# bar chart to show relative frequencies of each weather event\n",
    "data.events.value_counts().plot(kind='bar')"
   ]
  },
  {
   "cell_type": "markdown",
   "metadata": {},
   "source": [
    "### Weather Events"
   ]
  },
  {
   "cell_type": "code",
   "execution_count": 26,
   "metadata": {},
   "outputs": [],
   "source": [
    "events = data[['hour','events','temperature']]"
   ]
  },
  {
   "cell_type": "markdown",
   "metadata": {},
   "source": [
    "### Stations"
   ]
  },
  {
   "cell_type": "code",
   "execution_count": 27,
   "metadata": {},
   "outputs": [],
   "source": [
    "# create two lists with unique station ID's \n",
    "x = data['from_station_id'].drop_duplicates()\n",
    "y = data['to_station_id'].drop_duplicates()"
   ]
  },
  {
   "cell_type": "code",
   "execution_count": 28,
   "metadata": {},
   "outputs": [
    {
     "data": {
      "text/plain": [
       "True"
      ]
     },
     "execution_count": 28,
     "metadata": {},
     "output_type": "execute_result"
    }
   ],
   "source": [
    "# see if multisets are equal \n",
    "collections.Counter(x) == collections.Counter(y)"
   ]
  },
  {
   "cell_type": "markdown",
   "metadata": {},
   "source": [
    "### Location"
   ]
  },
  {
   "cell_type": "code",
   "execution_count": 29,
   "metadata": {},
   "outputs": [
    {
     "data": {
      "text/plain": [
       "latitude_start     42.064313\n",
       "longitude_start   -87.549386\n",
       "latitude_end       42.064313\n",
       "longitude_end     -87.549386\n",
       "dtype: float64"
      ]
     },
     "execution_count": 29,
     "metadata": {},
     "output_type": "execute_result"
    }
   ],
   "source": [
    "# check maximum values to see if they are within reason with Chicago latitude and longitude\n",
    "data[['latitude_start','longitude_start','latitude_end','longitude_end']].max()"
   ]
  },
  {
   "cell_type": "code",
   "execution_count": 30,
   "metadata": {},
   "outputs": [
    {
     "data": {
      "text/plain": [
       "latitude_start     41.736646\n",
       "longitude_start   -87.802870\n",
       "latitude_end       41.736646\n",
       "longitude_end     -87.802870\n",
       "dtype: float64"
      ]
     },
     "execution_count": 30,
     "metadata": {},
     "output_type": "execute_result"
    }
   ],
   "source": [
    "# check minimum values to see if they are within reason with Chicago latitude and longitude\n",
    "data[['latitude_start','longitude_start','latitude_end','longitude_end']].min()"
   ]
  },
  {
   "cell_type": "code",
   "execution_count": null,
   "metadata": {},
   "outputs": [],
   "source": []
  }
 ],
 "metadata": {
  "kernelspec": {
   "display_name": "Python 3",
   "language": "python",
   "name": "python3"
  },
  "language_info": {
   "codemirror_mode": {
    "name": "ipython",
    "version": 3
   },
   "file_extension": ".py",
   "mimetype": "text/x-python",
   "name": "python",
   "nbconvert_exporter": "python",
   "pygments_lexer": "ipython3",
   "version": "3.6.5"
  }
 },
 "nbformat": 4,
 "nbformat_minor": 2
}
