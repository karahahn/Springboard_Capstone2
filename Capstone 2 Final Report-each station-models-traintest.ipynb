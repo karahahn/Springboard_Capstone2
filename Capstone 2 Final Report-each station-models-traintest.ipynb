{
 "cells": [
  {
   "cell_type": "code",
   "execution_count": 1,
   "metadata": {},
   "outputs": [],
   "source": [
    "import pandas as pd\n",
    "import numpy as np\n",
    "import matplotlib as mpl\n",
    "from matplotlib import pyplot as plt\n",
    "import seaborn as sns\n",
    "import datetime as dt\n",
    "import collections\n",
    "%matplotlib inline\n",
    "\n",
    "from sklearn import linear_model\n",
    "from sklearn import metrics\n",
    "from sklearn import model_selection\n",
    "from sklearn.linear_model import LinearRegression\n",
    "from sklearn.metrics import mean_squared_error\n",
    "from sklearn.model_selection import train_test_split\n",
    "from sklearn.ensemble import RandomForestRegressor\n",
    "\n",
    "from scipy import stats\n",
    "from statsmodels.formula.api import ols\n",
    "from statsmodels.graphics.gofplots import qqplot"
   ]
  },
  {
   "cell_type": "markdown",
   "metadata": {},
   "source": [
    "# SGD"
   ]
  },
  {
   "cell_type": "code",
   "execution_count": 2,
   "metadata": {},
   "outputs": [
    {
     "data": {
      "text/html": [
       "<div>\n",
       "<style scoped>\n",
       "    .dataframe tbody tr th:only-of-type {\n",
       "        vertical-align: middle;\n",
       "    }\n",
       "\n",
       "    .dataframe tbody tr th {\n",
       "        vertical-align: top;\n",
       "    }\n",
       "\n",
       "    .dataframe thead th {\n",
       "        text-align: right;\n",
       "    }\n",
       "</style>\n",
       "<table border=\"1\" class=\"dataframe\">\n",
       "  <thead>\n",
       "    <tr style=\"text-align: right;\">\n",
       "      <th></th>\n",
       "      <th>from_station_name</th>\n",
       "      <th>year</th>\n",
       "      <th>month</th>\n",
       "      <th>day</th>\n",
       "      <th>hour</th>\n",
       "      <th>tripduration</th>\n",
       "      <th>temperature</th>\n",
       "      <th>events_cloudy_pct</th>\n",
       "      <th>events_clear_pct</th>\n",
       "      <th>events_not clear_pct</th>\n",
       "      <th>events_rain or snow_pct</th>\n",
       "      <th>events_tstorms_pct</th>\n",
       "      <th>usertype_Customer_pct</th>\n",
       "      <th>usertype_Dependent_pct</th>\n",
       "      <th>usertype_Subscriber_pct</th>\n",
       "      <th>gender_Female_pct</th>\n",
       "      <th>gender_Male_pct</th>\n",
       "      <th>trip_count</th>\n",
       "    </tr>\n",
       "  </thead>\n",
       "  <tbody>\n",
       "    <tr>\n",
       "      <th>0</th>\n",
       "      <td>2112 W Peterson Ave</td>\n",
       "      <td>2015</td>\n",
       "      <td>5</td>\n",
       "      <td>17</td>\n",
       "      <td>14</td>\n",
       "      <td>16.550000</td>\n",
       "      <td>81.0</td>\n",
       "      <td>100.0</td>\n",
       "      <td>0.0</td>\n",
       "      <td>0.0</td>\n",
       "      <td>0.0</td>\n",
       "      <td>0.0</td>\n",
       "      <td>0.0</td>\n",
       "      <td>0.0</td>\n",
       "      <td>100.0</td>\n",
       "      <td>100.0</td>\n",
       "      <td>0.0</td>\n",
       "      <td>1</td>\n",
       "    </tr>\n",
       "    <tr>\n",
       "      <th>1</th>\n",
       "      <td>2112 W Peterson Ave</td>\n",
       "      <td>2015</td>\n",
       "      <td>5</td>\n",
       "      <td>18</td>\n",
       "      <td>10</td>\n",
       "      <td>4.166667</td>\n",
       "      <td>75.0</td>\n",
       "      <td>100.0</td>\n",
       "      <td>0.0</td>\n",
       "      <td>0.0</td>\n",
       "      <td>0.0</td>\n",
       "      <td>0.0</td>\n",
       "      <td>0.0</td>\n",
       "      <td>0.0</td>\n",
       "      <td>100.0</td>\n",
       "      <td>0.0</td>\n",
       "      <td>100.0</td>\n",
       "      <td>1</td>\n",
       "    </tr>\n",
       "    <tr>\n",
       "      <th>2</th>\n",
       "      <td>2112 W Peterson Ave</td>\n",
       "      <td>2015</td>\n",
       "      <td>5</td>\n",
       "      <td>22</td>\n",
       "      <td>17</td>\n",
       "      <td>13.616667</td>\n",
       "      <td>60.1</td>\n",
       "      <td>100.0</td>\n",
       "      <td>0.0</td>\n",
       "      <td>0.0</td>\n",
       "      <td>0.0</td>\n",
       "      <td>0.0</td>\n",
       "      <td>0.0</td>\n",
       "      <td>0.0</td>\n",
       "      <td>100.0</td>\n",
       "      <td>0.0</td>\n",
       "      <td>100.0</td>\n",
       "      <td>1</td>\n",
       "    </tr>\n",
       "    <tr>\n",
       "      <th>3</th>\n",
       "      <td>2112 W Peterson Ave</td>\n",
       "      <td>2015</td>\n",
       "      <td>5</td>\n",
       "      <td>27</td>\n",
       "      <td>15</td>\n",
       "      <td>14.300000</td>\n",
       "      <td>71.1</td>\n",
       "      <td>100.0</td>\n",
       "      <td>0.0</td>\n",
       "      <td>0.0</td>\n",
       "      <td>0.0</td>\n",
       "      <td>0.0</td>\n",
       "      <td>0.0</td>\n",
       "      <td>0.0</td>\n",
       "      <td>100.0</td>\n",
       "      <td>0.0</td>\n",
       "      <td>100.0</td>\n",
       "      <td>1</td>\n",
       "    </tr>\n",
       "    <tr>\n",
       "      <th>4</th>\n",
       "      <td>2112 W Peterson Ave</td>\n",
       "      <td>2015</td>\n",
       "      <td>5</td>\n",
       "      <td>27</td>\n",
       "      <td>18</td>\n",
       "      <td>15.450000</td>\n",
       "      <td>72.0</td>\n",
       "      <td>0.0</td>\n",
       "      <td>100.0</td>\n",
       "      <td>0.0</td>\n",
       "      <td>0.0</td>\n",
       "      <td>0.0</td>\n",
       "      <td>0.0</td>\n",
       "      <td>0.0</td>\n",
       "      <td>100.0</td>\n",
       "      <td>0.0</td>\n",
       "      <td>100.0</td>\n",
       "      <td>1</td>\n",
       "    </tr>\n",
       "  </tbody>\n",
       "</table>\n",
       "</div>"
      ],
      "text/plain": [
       "     from_station_name  year  month  day  hour  tripduration  temperature  \\\n",
       "0  2112 W Peterson Ave  2015      5   17    14     16.550000         81.0   \n",
       "1  2112 W Peterson Ave  2015      5   18    10      4.166667         75.0   \n",
       "2  2112 W Peterson Ave  2015      5   22    17     13.616667         60.1   \n",
       "3  2112 W Peterson Ave  2015      5   27    15     14.300000         71.1   \n",
       "4  2112 W Peterson Ave  2015      5   27    18     15.450000         72.0   \n",
       "\n",
       "   events_cloudy_pct  events_clear_pct  events_not clear_pct  \\\n",
       "0              100.0               0.0                   0.0   \n",
       "1              100.0               0.0                   0.0   \n",
       "2              100.0               0.0                   0.0   \n",
       "3              100.0               0.0                   0.0   \n",
       "4                0.0             100.0                   0.0   \n",
       "\n",
       "   events_rain or snow_pct  events_tstorms_pct  usertype_Customer_pct  \\\n",
       "0                      0.0                 0.0                    0.0   \n",
       "1                      0.0                 0.0                    0.0   \n",
       "2                      0.0                 0.0                    0.0   \n",
       "3                      0.0                 0.0                    0.0   \n",
       "4                      0.0                 0.0                    0.0   \n",
       "\n",
       "   usertype_Dependent_pct  usertype_Subscriber_pct  gender_Female_pct  \\\n",
       "0                     0.0                    100.0              100.0   \n",
       "1                     0.0                    100.0                0.0   \n",
       "2                     0.0                    100.0                0.0   \n",
       "3                     0.0                    100.0                0.0   \n",
       "4                     0.0                    100.0                0.0   \n",
       "\n",
       "   gender_Male_pct  trip_count  \n",
       "0              0.0           1  \n",
       "1            100.0           1  \n",
       "2            100.0           1  \n",
       "3            100.0           1  \n",
       "4            100.0           1  "
      ]
     },
     "execution_count": 2,
     "metadata": {},
     "output_type": "execute_result"
    }
   ],
   "source": [
    "# read in saved csv files \n",
    "pd.set_option('display.max_columns', 30)\n",
    "filename = 'departure_joindf.csv'\n",
    "departure_joindf = pd.read_csv(filename)\n",
    "departure_joindf.head()"
   ]
  },
  {
   "cell_type": "code",
   "execution_count": null,
   "metadata": {},
   "outputs": [],
   "source": [
    "import numpy as np\n",
    "from sklearn import linear_model\n",
    "from sklearn.linear_model import SGDClassifier\n",
    "\n",
    "n_samples, n_features = 10, 5\n",
    "np.random.seed(0)\n",
    "y = np.random.randn(n_samples)\n",
    "X = np.random.randn(n_samples, n_features)\n",
    "\n",
    "sgd = linear_model.SGDRegressor(max_iter=1000, tol=1e-3)\n",
    "sgd.fit(X, y)"
   ]
  },
  {
   "cell_type": "code",
   "execution_count": 3,
   "metadata": {},
   "outputs": [],
   "source": [
    "data1 = pd.get_dummies(departure_joindf, 'from_station_name')"
   ]
  },
  {
   "cell_type": "code",
   "execution_count": null,
   "metadata": {},
   "outputs": [],
   "source": [
    "X = data1.drop(['trip_count'],axis=1).values\n",
    "y = data1['trip_count'].values\n",
    "    \n",
    "X_train, X_test, y_train, y_test = train_test_split(X, y, test_size=0.3, random_state=42)"
   ]
  },
  {
   "cell_type": "code",
   "execution_count": null,
   "metadata": {},
   "outputs": [],
   "source": [
    "# SGD regressor\n",
    "clf = linear_model.SGDRegressor(loss = \"squared_loss\", average=True)\n",
    "clf.fit(X, y)"
   ]
  },
  {
   "cell_type": "code",
   "execution_count": null,
   "metadata": {},
   "outputs": [],
   "source": []
  },
  {
   "cell_type": "markdown",
   "metadata": {},
   "source": [
    "# Year train-test split"
   ]
  },
  {
   "cell_type": "code",
   "execution_count": 2,
   "metadata": {},
   "outputs": [
    {
     "data": {
      "text/html": [
       "<div>\n",
       "<style scoped>\n",
       "    .dataframe tbody tr th:only-of-type {\n",
       "        vertical-align: middle;\n",
       "    }\n",
       "\n",
       "    .dataframe tbody tr th {\n",
       "        vertical-align: top;\n",
       "    }\n",
       "\n",
       "    .dataframe thead th {\n",
       "        text-align: right;\n",
       "    }\n",
       "</style>\n",
       "<table border=\"1\" class=\"dataframe\">\n",
       "  <thead>\n",
       "    <tr style=\"text-align: right;\">\n",
       "      <th></th>\n",
       "      <th>from_station_name</th>\n",
       "      <th>year</th>\n",
       "      <th>month</th>\n",
       "      <th>day</th>\n",
       "      <th>hour</th>\n",
       "      <th>num_day_of_week</th>\n",
       "      <th>tripduration</th>\n",
       "      <th>temperature</th>\n",
       "      <th>events_cloudy_pct</th>\n",
       "      <th>events_clear_pct</th>\n",
       "      <th>events_not clear_pct</th>\n",
       "      <th>events_rain or snow_pct</th>\n",
       "      <th>events_tstorms_pct</th>\n",
       "      <th>events_unknown_pct</th>\n",
       "      <th>usertype_Customer_pct</th>\n",
       "      <th>usertype_Dependent_pct</th>\n",
       "      <th>usertype_Subscriber_pct</th>\n",
       "      <th>gender_Female_pct</th>\n",
       "      <th>gender_Male_pct</th>\n",
       "      <th>trip_count</th>\n",
       "    </tr>\n",
       "  </thead>\n",
       "  <tbody>\n",
       "    <tr>\n",
       "      <th>0</th>\n",
       "      <td>2112 W Peterson Ave</td>\n",
       "      <td>2015</td>\n",
       "      <td>5</td>\n",
       "      <td>17</td>\n",
       "      <td>14</td>\n",
       "      <td>6</td>\n",
       "      <td>16.550000</td>\n",
       "      <td>81.0</td>\n",
       "      <td>100.0</td>\n",
       "      <td>0.0</td>\n",
       "      <td>0.0</td>\n",
       "      <td>0.0</td>\n",
       "      <td>0.0</td>\n",
       "      <td>0.0</td>\n",
       "      <td>0.0</td>\n",
       "      <td>0.0</td>\n",
       "      <td>100.0</td>\n",
       "      <td>100.0</td>\n",
       "      <td>0.0</td>\n",
       "      <td>1</td>\n",
       "    </tr>\n",
       "    <tr>\n",
       "      <th>1</th>\n",
       "      <td>2112 W Peterson Ave</td>\n",
       "      <td>2015</td>\n",
       "      <td>5</td>\n",
       "      <td>18</td>\n",
       "      <td>10</td>\n",
       "      <td>0</td>\n",
       "      <td>4.166667</td>\n",
       "      <td>75.0</td>\n",
       "      <td>100.0</td>\n",
       "      <td>0.0</td>\n",
       "      <td>0.0</td>\n",
       "      <td>0.0</td>\n",
       "      <td>0.0</td>\n",
       "      <td>0.0</td>\n",
       "      <td>0.0</td>\n",
       "      <td>0.0</td>\n",
       "      <td>100.0</td>\n",
       "      <td>0.0</td>\n",
       "      <td>100.0</td>\n",
       "      <td>1</td>\n",
       "    </tr>\n",
       "    <tr>\n",
       "      <th>2</th>\n",
       "      <td>2112 W Peterson Ave</td>\n",
       "      <td>2015</td>\n",
       "      <td>5</td>\n",
       "      <td>22</td>\n",
       "      <td>17</td>\n",
       "      <td>4</td>\n",
       "      <td>13.616667</td>\n",
       "      <td>60.1</td>\n",
       "      <td>100.0</td>\n",
       "      <td>0.0</td>\n",
       "      <td>0.0</td>\n",
       "      <td>0.0</td>\n",
       "      <td>0.0</td>\n",
       "      <td>0.0</td>\n",
       "      <td>0.0</td>\n",
       "      <td>0.0</td>\n",
       "      <td>100.0</td>\n",
       "      <td>0.0</td>\n",
       "      <td>100.0</td>\n",
       "      <td>1</td>\n",
       "    </tr>\n",
       "    <tr>\n",
       "      <th>3</th>\n",
       "      <td>2112 W Peterson Ave</td>\n",
       "      <td>2015</td>\n",
       "      <td>5</td>\n",
       "      <td>27</td>\n",
       "      <td>15</td>\n",
       "      <td>2</td>\n",
       "      <td>14.300000</td>\n",
       "      <td>71.1</td>\n",
       "      <td>100.0</td>\n",
       "      <td>0.0</td>\n",
       "      <td>0.0</td>\n",
       "      <td>0.0</td>\n",
       "      <td>0.0</td>\n",
       "      <td>0.0</td>\n",
       "      <td>0.0</td>\n",
       "      <td>0.0</td>\n",
       "      <td>100.0</td>\n",
       "      <td>0.0</td>\n",
       "      <td>100.0</td>\n",
       "      <td>1</td>\n",
       "    </tr>\n",
       "    <tr>\n",
       "      <th>4</th>\n",
       "      <td>2112 W Peterson Ave</td>\n",
       "      <td>2015</td>\n",
       "      <td>5</td>\n",
       "      <td>27</td>\n",
       "      <td>18</td>\n",
       "      <td>2</td>\n",
       "      <td>15.450000</td>\n",
       "      <td>72.0</td>\n",
       "      <td>0.0</td>\n",
       "      <td>100.0</td>\n",
       "      <td>0.0</td>\n",
       "      <td>0.0</td>\n",
       "      <td>0.0</td>\n",
       "      <td>0.0</td>\n",
       "      <td>0.0</td>\n",
       "      <td>0.0</td>\n",
       "      <td>100.0</td>\n",
       "      <td>0.0</td>\n",
       "      <td>100.0</td>\n",
       "      <td>1</td>\n",
       "    </tr>\n",
       "  </tbody>\n",
       "</table>\n",
       "</div>"
      ],
      "text/plain": [
       "     from_station_name  year  month  day  hour  num_day_of_week  tripduration  \\\n",
       "0  2112 W Peterson Ave  2015      5   17    14                6     16.550000   \n",
       "1  2112 W Peterson Ave  2015      5   18    10                0      4.166667   \n",
       "2  2112 W Peterson Ave  2015      5   22    17                4     13.616667   \n",
       "3  2112 W Peterson Ave  2015      5   27    15                2     14.300000   \n",
       "4  2112 W Peterson Ave  2015      5   27    18                2     15.450000   \n",
       "\n",
       "   temperature  events_cloudy_pct  events_clear_pct  events_not clear_pct  \\\n",
       "0         81.0              100.0               0.0                   0.0   \n",
       "1         75.0              100.0               0.0                   0.0   \n",
       "2         60.1              100.0               0.0                   0.0   \n",
       "3         71.1              100.0               0.0                   0.0   \n",
       "4         72.0                0.0             100.0                   0.0   \n",
       "\n",
       "   events_rain or snow_pct  events_tstorms_pct  events_unknown_pct  \\\n",
       "0                      0.0                 0.0                 0.0   \n",
       "1                      0.0                 0.0                 0.0   \n",
       "2                      0.0                 0.0                 0.0   \n",
       "3                      0.0                 0.0                 0.0   \n",
       "4                      0.0                 0.0                 0.0   \n",
       "\n",
       "   usertype_Customer_pct  usertype_Dependent_pct  usertype_Subscriber_pct  \\\n",
       "0                    0.0                     0.0                    100.0   \n",
       "1                    0.0                     0.0                    100.0   \n",
       "2                    0.0                     0.0                    100.0   \n",
       "3                    0.0                     0.0                    100.0   \n",
       "4                    0.0                     0.0                    100.0   \n",
       "\n",
       "   gender_Female_pct  gender_Male_pct  trip_count  \n",
       "0              100.0              0.0           1  \n",
       "1                0.0            100.0           1  \n",
       "2                0.0            100.0           1  \n",
       "3                0.0            100.0           1  \n",
       "4                0.0            100.0           1  "
      ]
     },
     "execution_count": 2,
     "metadata": {},
     "output_type": "execute_result"
    }
   ],
   "source": [
    "# read in saved csv files - departure\n",
    "pd.set_option('display.max_columns', 30)\n",
    "filename = 'departure_joindf.csv'\n",
    "departure_joindf = pd.read_csv(filename)\n",
    "departure_joindf.head()"
   ]
  },
  {
   "cell_type": "code",
   "execution_count": 3,
   "metadata": {},
   "outputs": [],
   "source": [
    "train = departure_joindf[departure_joindf['year'].isin([2014,2015,2016])]"
   ]
  },
  {
   "cell_type": "code",
   "execution_count": 4,
   "metadata": {
    "scrolled": true
   },
   "outputs": [],
   "source": [
    "test = departure_joindf[departure_joindf['year']==2017]"
   ]
  },
  {
   "cell_type": "code",
   "execution_count": 5,
   "metadata": {},
   "outputs": [],
   "source": [
    "trainlist = train['from_station_name'].unique().tolist()"
   ]
  },
  {
   "cell_type": "code",
   "execution_count": 6,
   "metadata": {},
   "outputs": [],
   "source": [
    "testlist = test['from_station_name'].unique().tolist()"
   ]
  },
  {
   "cell_type": "code",
   "execution_count": 7,
   "metadata": {},
   "outputs": [],
   "source": [
    "joinedlist = set(trainlist) & set(testlist)"
   ]
  },
  {
   "cell_type": "code",
   "execution_count": 8,
   "metadata": {},
   "outputs": [],
   "source": [
    "departure_joindf_inclusive = departure_joindf[departure_joindf['from_station_name'].isin(joinedlist)]"
   ]
  },
  {
   "cell_type": "code",
   "execution_count": 9,
   "metadata": {},
   "outputs": [
    {
     "data": {
      "text/html": [
       "<div>\n",
       "<style scoped>\n",
       "    .dataframe tbody tr th:only-of-type {\n",
       "        vertical-align: middle;\n",
       "    }\n",
       "\n",
       "    .dataframe tbody tr th {\n",
       "        vertical-align: top;\n",
       "    }\n",
       "\n",
       "    .dataframe thead th {\n",
       "        text-align: right;\n",
       "    }\n",
       "</style>\n",
       "<table border=\"1\" class=\"dataframe\">\n",
       "  <thead>\n",
       "    <tr style=\"text-align: right;\">\n",
       "      <th></th>\n",
       "      <th>to_station_name</th>\n",
       "      <th>year</th>\n",
       "      <th>month</th>\n",
       "      <th>day</th>\n",
       "      <th>hour</th>\n",
       "      <th>num_day_of_week</th>\n",
       "      <th>tripduration</th>\n",
       "      <th>temperature</th>\n",
       "      <th>events_cloudy_pct</th>\n",
       "      <th>events_clear_pct</th>\n",
       "      <th>events_not clear_pct</th>\n",
       "      <th>events_rain or snow_pct</th>\n",
       "      <th>events_tstorms_pct</th>\n",
       "      <th>events_unknown_pct</th>\n",
       "      <th>usertype_Customer_pct</th>\n",
       "      <th>usertype_Dependent_pct</th>\n",
       "      <th>usertype_Subscriber_pct</th>\n",
       "      <th>gender_Female_pct</th>\n",
       "      <th>gender_Male_pct</th>\n",
       "      <th>trip_count</th>\n",
       "    </tr>\n",
       "  </thead>\n",
       "  <tbody>\n",
       "    <tr>\n",
       "      <th>0</th>\n",
       "      <td>2112 W Peterson Ave</td>\n",
       "      <td>2015</td>\n",
       "      <td>5</td>\n",
       "      <td>17</td>\n",
       "      <td>13</td>\n",
       "      <td>6</td>\n",
       "      <td>25.916667</td>\n",
       "      <td>77.0</td>\n",
       "      <td>100.0</td>\n",
       "      <td>0.0</td>\n",
       "      <td>0.0</td>\n",
       "      <td>0.0</td>\n",
       "      <td>0.0</td>\n",
       "      <td>0.0</td>\n",
       "      <td>0.0</td>\n",
       "      <td>0.0</td>\n",
       "      <td>100.0</td>\n",
       "      <td>100.0</td>\n",
       "      <td>0.0</td>\n",
       "      <td>1</td>\n",
       "    </tr>\n",
       "    <tr>\n",
       "      <th>1</th>\n",
       "      <td>2112 W Peterson Ave</td>\n",
       "      <td>2015</td>\n",
       "      <td>5</td>\n",
       "      <td>18</td>\n",
       "      <td>10</td>\n",
       "      <td>0</td>\n",
       "      <td>9.600000</td>\n",
       "      <td>75.0</td>\n",
       "      <td>100.0</td>\n",
       "      <td>0.0</td>\n",
       "      <td>0.0</td>\n",
       "      <td>0.0</td>\n",
       "      <td>0.0</td>\n",
       "      <td>0.0</td>\n",
       "      <td>0.0</td>\n",
       "      <td>0.0</td>\n",
       "      <td>100.0</td>\n",
       "      <td>0.0</td>\n",
       "      <td>100.0</td>\n",
       "      <td>1</td>\n",
       "    </tr>\n",
       "    <tr>\n",
       "      <th>2</th>\n",
       "      <td>2112 W Peterson Ave</td>\n",
       "      <td>2015</td>\n",
       "      <td>5</td>\n",
       "      <td>22</td>\n",
       "      <td>16</td>\n",
       "      <td>4</td>\n",
       "      <td>11.850000</td>\n",
       "      <td>62.1</td>\n",
       "      <td>100.0</td>\n",
       "      <td>0.0</td>\n",
       "      <td>0.0</td>\n",
       "      <td>0.0</td>\n",
       "      <td>0.0</td>\n",
       "      <td>0.0</td>\n",
       "      <td>0.0</td>\n",
       "      <td>0.0</td>\n",
       "      <td>100.0</td>\n",
       "      <td>0.0</td>\n",
       "      <td>100.0</td>\n",
       "      <td>1</td>\n",
       "    </tr>\n",
       "    <tr>\n",
       "      <th>3</th>\n",
       "      <td>2112 W Peterson Ave</td>\n",
       "      <td>2015</td>\n",
       "      <td>5</td>\n",
       "      <td>23</td>\n",
       "      <td>12</td>\n",
       "      <td>5</td>\n",
       "      <td>13.333333</td>\n",
       "      <td>75.9</td>\n",
       "      <td>100.0</td>\n",
       "      <td>0.0</td>\n",
       "      <td>0.0</td>\n",
       "      <td>0.0</td>\n",
       "      <td>0.0</td>\n",
       "      <td>0.0</td>\n",
       "      <td>0.0</td>\n",
       "      <td>0.0</td>\n",
       "      <td>100.0</td>\n",
       "      <td>0.0</td>\n",
       "      <td>100.0</td>\n",
       "      <td>1</td>\n",
       "    </tr>\n",
       "    <tr>\n",
       "      <th>4</th>\n",
       "      <td>2112 W Peterson Ave</td>\n",
       "      <td>2015</td>\n",
       "      <td>5</td>\n",
       "      <td>25</td>\n",
       "      <td>9</td>\n",
       "      <td>0</td>\n",
       "      <td>18.300000</td>\n",
       "      <td>69.1</td>\n",
       "      <td>0.0</td>\n",
       "      <td>0.0</td>\n",
       "      <td>0.0</td>\n",
       "      <td>100.0</td>\n",
       "      <td>0.0</td>\n",
       "      <td>0.0</td>\n",
       "      <td>0.0</td>\n",
       "      <td>0.0</td>\n",
       "      <td>100.0</td>\n",
       "      <td>100.0</td>\n",
       "      <td>0.0</td>\n",
       "      <td>1</td>\n",
       "    </tr>\n",
       "  </tbody>\n",
       "</table>\n",
       "</div>"
      ],
      "text/plain": [
       "       to_station_name  year  month  day  hour  num_day_of_week  tripduration  \\\n",
       "0  2112 W Peterson Ave  2015      5   17    13                6     25.916667   \n",
       "1  2112 W Peterson Ave  2015      5   18    10                0      9.600000   \n",
       "2  2112 W Peterson Ave  2015      5   22    16                4     11.850000   \n",
       "3  2112 W Peterson Ave  2015      5   23    12                5     13.333333   \n",
       "4  2112 W Peterson Ave  2015      5   25     9                0     18.300000   \n",
       "\n",
       "   temperature  events_cloudy_pct  events_clear_pct  events_not clear_pct  \\\n",
       "0         77.0              100.0               0.0                   0.0   \n",
       "1         75.0              100.0               0.0                   0.0   \n",
       "2         62.1              100.0               0.0                   0.0   \n",
       "3         75.9              100.0               0.0                   0.0   \n",
       "4         69.1                0.0               0.0                   0.0   \n",
       "\n",
       "   events_rain or snow_pct  events_tstorms_pct  events_unknown_pct  \\\n",
       "0                      0.0                 0.0                 0.0   \n",
       "1                      0.0                 0.0                 0.0   \n",
       "2                      0.0                 0.0                 0.0   \n",
       "3                      0.0                 0.0                 0.0   \n",
       "4                    100.0                 0.0                 0.0   \n",
       "\n",
       "   usertype_Customer_pct  usertype_Dependent_pct  usertype_Subscriber_pct  \\\n",
       "0                    0.0                     0.0                    100.0   \n",
       "1                    0.0                     0.0                    100.0   \n",
       "2                    0.0                     0.0                    100.0   \n",
       "3                    0.0                     0.0                    100.0   \n",
       "4                    0.0                     0.0                    100.0   \n",
       "\n",
       "   gender_Female_pct  gender_Male_pct  trip_count  \n",
       "0              100.0              0.0           1  \n",
       "1                0.0            100.0           1  \n",
       "2                0.0            100.0           1  \n",
       "3                0.0            100.0           1  \n",
       "4              100.0              0.0           1  "
      ]
     },
     "execution_count": 9,
     "metadata": {},
     "output_type": "execute_result"
    }
   ],
   "source": [
    "# read in saved csv files - arrival\n",
    "pd.set_option('display.max_columns', 30)\n",
    "filename = 'arrival_joindf.csv'\n",
    "arrival_joindf = pd.read_csv(filename)\n",
    "arrival_joindf.head()"
   ]
  },
  {
   "cell_type": "code",
   "execution_count": 10,
   "metadata": {},
   "outputs": [],
   "source": [
    "train = arrival_joindf[arrival_joindf['year'].isin([2014,2015,2016])]"
   ]
  },
  {
   "cell_type": "code",
   "execution_count": 11,
   "metadata": {
    "scrolled": true
   },
   "outputs": [],
   "source": [
    "test = arrival_joindf[arrival_joindf['year']==2017]"
   ]
  },
  {
   "cell_type": "code",
   "execution_count": 12,
   "metadata": {},
   "outputs": [
    {
     "data": {
      "text/plain": [
       "635"
      ]
     },
     "execution_count": 12,
     "metadata": {},
     "output_type": "execute_result"
    }
   ],
   "source": [
    "trainlist = train['to_station_name'].unique().tolist()\n",
    "len(trainlist)"
   ]
  },
  {
   "cell_type": "code",
   "execution_count": 13,
   "metadata": {},
   "outputs": [
    {
     "data": {
      "text/plain": [
       "592"
      ]
     },
     "execution_count": 13,
     "metadata": {},
     "output_type": "execute_result"
    }
   ],
   "source": [
    "testlist = test['to_station_name'].unique().tolist()\n",
    "len(testlist)"
   ]
  },
  {
   "cell_type": "code",
   "execution_count": 14,
   "metadata": {},
   "outputs": [
    {
     "data": {
      "text/plain": [
       "571"
      ]
     },
     "execution_count": 14,
     "metadata": {},
     "output_type": "execute_result"
    }
   ],
   "source": [
    "joinedlist = set(trainlist) & set(testlist)\n",
    "len(joinedlist)"
   ]
  },
  {
   "cell_type": "code",
   "execution_count": 15,
   "metadata": {},
   "outputs": [],
   "source": [
    "arrival_joindf_inclusive = arrival_joindf[arrival_joindf['to_station_name'].isin(joinedlist)]"
   ]
  },
  {
   "cell_type": "markdown",
   "metadata": {},
   "source": [
    "# Train-test split years"
   ]
  },
  {
   "cell_type": "markdown",
   "metadata": {},
   "source": [
    "## Linear Model - departure"
   ]
  },
  {
   "cell_type": "code",
   "execution_count": 16,
   "metadata": {},
   "outputs": [],
   "source": [
    "# create key to search the joindf\n",
    "depstations = departure_joindf_inclusive['from_station_name'].unique() "
   ]
  },
  {
   "cell_type": "code",
   "execution_count": 17,
   "metadata": {},
   "outputs": [],
   "source": [
    "departure_joindf_inclusive = departure_joindf_inclusive.set_index('from_station_name')"
   ]
  },
  {
   "cell_type": "code",
   "execution_count": 18,
   "metadata": {},
   "outputs": [
    {
     "data": {
      "text/html": [
       "<div>\n",
       "<style scoped>\n",
       "    .dataframe tbody tr th:only-of-type {\n",
       "        vertical-align: middle;\n",
       "    }\n",
       "\n",
       "    .dataframe tbody tr th {\n",
       "        vertical-align: top;\n",
       "    }\n",
       "\n",
       "    .dataframe thead th {\n",
       "        text-align: right;\n",
       "    }\n",
       "</style>\n",
       "<table border=\"1\" class=\"dataframe\">\n",
       "  <thead>\n",
       "    <tr style=\"text-align: right;\">\n",
       "      <th></th>\n",
       "      <th>year</th>\n",
       "      <th>month</th>\n",
       "      <th>day</th>\n",
       "      <th>hour</th>\n",
       "      <th>num_day_of_week</th>\n",
       "      <th>tripduration</th>\n",
       "      <th>temperature</th>\n",
       "      <th>events_cloudy_pct</th>\n",
       "      <th>events_clear_pct</th>\n",
       "      <th>events_not clear_pct</th>\n",
       "      <th>events_rain or snow_pct</th>\n",
       "      <th>events_tstorms_pct</th>\n",
       "      <th>events_unknown_pct</th>\n",
       "      <th>usertype_Customer_pct</th>\n",
       "      <th>usertype_Dependent_pct</th>\n",
       "      <th>usertype_Subscriber_pct</th>\n",
       "      <th>gender_Female_pct</th>\n",
       "      <th>gender_Male_pct</th>\n",
       "      <th>trip_count</th>\n",
       "    </tr>\n",
       "    <tr>\n",
       "      <th>from_station_name</th>\n",
       "      <th></th>\n",
       "      <th></th>\n",
       "      <th></th>\n",
       "      <th></th>\n",
       "      <th></th>\n",
       "      <th></th>\n",
       "      <th></th>\n",
       "      <th></th>\n",
       "      <th></th>\n",
       "      <th></th>\n",
       "      <th></th>\n",
       "      <th></th>\n",
       "      <th></th>\n",
       "      <th></th>\n",
       "      <th></th>\n",
       "      <th></th>\n",
       "      <th></th>\n",
       "      <th></th>\n",
       "      <th></th>\n",
       "    </tr>\n",
       "  </thead>\n",
       "  <tbody>\n",
       "    <tr>\n",
       "      <th>2112 W Peterson Ave</th>\n",
       "      <td>2015</td>\n",
       "      <td>5</td>\n",
       "      <td>17</td>\n",
       "      <td>14</td>\n",
       "      <td>6</td>\n",
       "      <td>16.550000</td>\n",
       "      <td>81.0</td>\n",
       "      <td>100.0</td>\n",
       "      <td>0.0</td>\n",
       "      <td>0.0</td>\n",
       "      <td>0.0</td>\n",
       "      <td>0.0</td>\n",
       "      <td>0.0</td>\n",
       "      <td>0.0</td>\n",
       "      <td>0.0</td>\n",
       "      <td>100.0</td>\n",
       "      <td>100.0</td>\n",
       "      <td>0.0</td>\n",
       "      <td>1</td>\n",
       "    </tr>\n",
       "    <tr>\n",
       "      <th>2112 W Peterson Ave</th>\n",
       "      <td>2015</td>\n",
       "      <td>5</td>\n",
       "      <td>18</td>\n",
       "      <td>10</td>\n",
       "      <td>0</td>\n",
       "      <td>4.166667</td>\n",
       "      <td>75.0</td>\n",
       "      <td>100.0</td>\n",
       "      <td>0.0</td>\n",
       "      <td>0.0</td>\n",
       "      <td>0.0</td>\n",
       "      <td>0.0</td>\n",
       "      <td>0.0</td>\n",
       "      <td>0.0</td>\n",
       "      <td>0.0</td>\n",
       "      <td>100.0</td>\n",
       "      <td>0.0</td>\n",
       "      <td>100.0</td>\n",
       "      <td>1</td>\n",
       "    </tr>\n",
       "    <tr>\n",
       "      <th>2112 W Peterson Ave</th>\n",
       "      <td>2015</td>\n",
       "      <td>5</td>\n",
       "      <td>22</td>\n",
       "      <td>17</td>\n",
       "      <td>4</td>\n",
       "      <td>13.616667</td>\n",
       "      <td>60.1</td>\n",
       "      <td>100.0</td>\n",
       "      <td>0.0</td>\n",
       "      <td>0.0</td>\n",
       "      <td>0.0</td>\n",
       "      <td>0.0</td>\n",
       "      <td>0.0</td>\n",
       "      <td>0.0</td>\n",
       "      <td>0.0</td>\n",
       "      <td>100.0</td>\n",
       "      <td>0.0</td>\n",
       "      <td>100.0</td>\n",
       "      <td>1</td>\n",
       "    </tr>\n",
       "    <tr>\n",
       "      <th>2112 W Peterson Ave</th>\n",
       "      <td>2015</td>\n",
       "      <td>5</td>\n",
       "      <td>27</td>\n",
       "      <td>15</td>\n",
       "      <td>2</td>\n",
       "      <td>14.300000</td>\n",
       "      <td>71.1</td>\n",
       "      <td>100.0</td>\n",
       "      <td>0.0</td>\n",
       "      <td>0.0</td>\n",
       "      <td>0.0</td>\n",
       "      <td>0.0</td>\n",
       "      <td>0.0</td>\n",
       "      <td>0.0</td>\n",
       "      <td>0.0</td>\n",
       "      <td>100.0</td>\n",
       "      <td>0.0</td>\n",
       "      <td>100.0</td>\n",
       "      <td>1</td>\n",
       "    </tr>\n",
       "    <tr>\n",
       "      <th>2112 W Peterson Ave</th>\n",
       "      <td>2015</td>\n",
       "      <td>5</td>\n",
       "      <td>27</td>\n",
       "      <td>18</td>\n",
       "      <td>2</td>\n",
       "      <td>15.450000</td>\n",
       "      <td>72.0</td>\n",
       "      <td>0.0</td>\n",
       "      <td>100.0</td>\n",
       "      <td>0.0</td>\n",
       "      <td>0.0</td>\n",
       "      <td>0.0</td>\n",
       "      <td>0.0</td>\n",
       "      <td>0.0</td>\n",
       "      <td>0.0</td>\n",
       "      <td>100.0</td>\n",
       "      <td>0.0</td>\n",
       "      <td>100.0</td>\n",
       "      <td>1</td>\n",
       "    </tr>\n",
       "  </tbody>\n",
       "</table>\n",
       "</div>"
      ],
      "text/plain": [
       "                     year  month  day  hour  num_day_of_week  tripduration  \\\n",
       "from_station_name                                                            \n",
       "2112 W Peterson Ave  2015      5   17    14                6     16.550000   \n",
       "2112 W Peterson Ave  2015      5   18    10                0      4.166667   \n",
       "2112 W Peterson Ave  2015      5   22    17                4     13.616667   \n",
       "2112 W Peterson Ave  2015      5   27    15                2     14.300000   \n",
       "2112 W Peterson Ave  2015      5   27    18                2     15.450000   \n",
       "\n",
       "                     temperature  events_cloudy_pct  events_clear_pct  \\\n",
       "from_station_name                                                       \n",
       "2112 W Peterson Ave         81.0              100.0               0.0   \n",
       "2112 W Peterson Ave         75.0              100.0               0.0   \n",
       "2112 W Peterson Ave         60.1              100.0               0.0   \n",
       "2112 W Peterson Ave         71.1              100.0               0.0   \n",
       "2112 W Peterson Ave         72.0                0.0             100.0   \n",
       "\n",
       "                     events_not clear_pct  events_rain or snow_pct  \\\n",
       "from_station_name                                                    \n",
       "2112 W Peterson Ave                   0.0                      0.0   \n",
       "2112 W Peterson Ave                   0.0                      0.0   \n",
       "2112 W Peterson Ave                   0.0                      0.0   \n",
       "2112 W Peterson Ave                   0.0                      0.0   \n",
       "2112 W Peterson Ave                   0.0                      0.0   \n",
       "\n",
       "                     events_tstorms_pct  events_unknown_pct  \\\n",
       "from_station_name                                             \n",
       "2112 W Peterson Ave                 0.0                 0.0   \n",
       "2112 W Peterson Ave                 0.0                 0.0   \n",
       "2112 W Peterson Ave                 0.0                 0.0   \n",
       "2112 W Peterson Ave                 0.0                 0.0   \n",
       "2112 W Peterson Ave                 0.0                 0.0   \n",
       "\n",
       "                     usertype_Customer_pct  usertype_Dependent_pct  \\\n",
       "from_station_name                                                    \n",
       "2112 W Peterson Ave                    0.0                     0.0   \n",
       "2112 W Peterson Ave                    0.0                     0.0   \n",
       "2112 W Peterson Ave                    0.0                     0.0   \n",
       "2112 W Peterson Ave                    0.0                     0.0   \n",
       "2112 W Peterson Ave                    0.0                     0.0   \n",
       "\n",
       "                     usertype_Subscriber_pct  gender_Female_pct  \\\n",
       "from_station_name                                                 \n",
       "2112 W Peterson Ave                    100.0              100.0   \n",
       "2112 W Peterson Ave                    100.0                0.0   \n",
       "2112 W Peterson Ave                    100.0                0.0   \n",
       "2112 W Peterson Ave                    100.0                0.0   \n",
       "2112 W Peterson Ave                    100.0                0.0   \n",
       "\n",
       "                     gender_Male_pct  trip_count  \n",
       "from_station_name                                 \n",
       "2112 W Peterson Ave              0.0           1  \n",
       "2112 W Peterson Ave            100.0           1  \n",
       "2112 W Peterson Ave            100.0           1  \n",
       "2112 W Peterson Ave            100.0           1  \n",
       "2112 W Peterson Ave            100.0           1  "
      ]
     },
     "execution_count": 18,
     "metadata": {},
     "output_type": "execute_result"
    }
   ],
   "source": [
    "departure_joindf_inclusive.head()"
   ]
  },
  {
   "cell_type": "code",
   "execution_count": 19,
   "metadata": {
    "scrolled": true
   },
   "outputs": [],
   "source": [
    "lmdeparture_rsquared = []\n",
    "lmdeparture_mae = []\n",
    "\n",
    "for k in depstations:\n",
    "    \n",
    "    X_train = departure_joindf_inclusive.loc[k][departure_joindf_inclusive.loc[k]['year'].isin([2014,2015,2016])].drop(['trip_count'], axis=1).values\n",
    "    X_test = departure_joindf_inclusive.loc[k][departure_joindf_inclusive.loc[k]['year']==2017].drop(['trip_count'], axis=1).values\n",
    "    y_train = departure_joindf_inclusive.loc[k][departure_joindf_inclusive.loc[k]['year'].isin([2014,2015,2016])]['trip_count'].values\n",
    "    y_test = departure_joindf_inclusive.loc[k][departure_joindf_inclusive.loc[k]['year']==2017]['trip_count'].values\n",
    "\n",
    "    lm = linear_model.LinearRegression()\n",
    "    lm.fit(X_train, y_train)\n",
    "    \n",
    "    y_pred = lm.predict(X_test)\n",
    "    \n",
    "    errors = abs(y_pred - y_test)\n",
    "\n",
    "    lmdeparture_rsquared.append(lm.score(X_test, y_test))\n",
    "    \n",
    "    lmdeparture_mae.append(round(np.mean(errors), 2))"
   ]
  },
  {
   "cell_type": "code",
   "execution_count": 20,
   "metadata": {},
   "outputs": [
    {
     "data": {
      "text/plain": [
       "-4.562831215110783e+20"
      ]
     },
     "execution_count": 20,
     "metadata": {},
     "output_type": "execute_result"
    }
   ],
   "source": [
    "sum(lmdeparture_rsquared)/len(lmdeparture_rsquared)"
   ]
  },
  {
   "cell_type": "code",
   "execution_count": 21,
   "metadata": {
    "scrolled": true
   },
   "outputs": [
    {
     "data": {
      "text/plain": [
       "88783276.14042035"
      ]
     },
     "execution_count": 21,
     "metadata": {},
     "output_type": "execute_result"
    }
   ],
   "source": [
    "sum(lmdeparture_mae)/len(lmdeparture_mae)"
   ]
  },
  {
   "cell_type": "markdown",
   "metadata": {},
   "source": [
    "## Linear Model - arrival"
   ]
  },
  {
   "cell_type": "code",
   "execution_count": 22,
   "metadata": {},
   "outputs": [],
   "source": [
    "# create key to search the joindf\n",
    "arrstations = arrival_joindf_inclusive['to_station_name'].unique() "
   ]
  },
  {
   "cell_type": "code",
   "execution_count": 23,
   "metadata": {},
   "outputs": [],
   "source": [
    "arrival_joindf_inclusive = arrival_joindf_inclusive.set_index('to_station_name')"
   ]
  },
  {
   "cell_type": "code",
   "execution_count": 24,
   "metadata": {},
   "outputs": [],
   "source": [
    "lmarrival_rsquared = []\n",
    "lmarrival_mae = []\n",
    "for k in arrstations:\n",
    "    \n",
    "    X_train = arrival_joindf_inclusive.loc[k][arrival_joindf_inclusive.loc[k]['year'].isin([2014,2015,2016])].drop(['trip_count'], axis=1).values\n",
    "    X_test = arrival_joindf_inclusive.loc[k][arrival_joindf_inclusive.loc[k]['year']==2017].drop(['trip_count'], axis=1).values\n",
    "    y_train = arrival_joindf_inclusive.loc[k][arrival_joindf_inclusive.loc[k]['year'].isin([2014,2015,2016])]['trip_count'].values\n",
    "    y_test = arrival_joindf_inclusive.loc[k][arrival_joindf_inclusive.loc[k]['year']==2017]['trip_count'].values\n",
    "\n",
    "    lm = linear_model.LinearRegression()\n",
    "    lm.fit(X_train, y_train)\n",
    "    \n",
    "    y_pred = lm.predict(X_test)\n",
    "    \n",
    "    errors = abs(y_pred - y_test)\n",
    "\n",
    "    lmarrival_rsquared.append(lm.score(X_test, y_test))\n",
    "    \n",
    "    lmarrival_mae.append(round(np.mean(errors), 2))"
   ]
  },
  {
   "cell_type": "code",
   "execution_count": 25,
   "metadata": {},
   "outputs": [
    {
     "data": {
      "text/plain": [
       "-5.1832615486007615e+22"
      ]
     },
     "execution_count": 25,
     "metadata": {},
     "output_type": "execute_result"
    }
   ],
   "source": [
    "sum(lmarrival_rsquared)/len(lmarrival_rsquared)"
   ]
  },
  {
   "cell_type": "code",
   "execution_count": 26,
   "metadata": {
    "scrolled": false
   },
   "outputs": [
    {
     "data": {
      "text/plain": [
       "611370892.3494045"
      ]
     },
     "execution_count": 26,
     "metadata": {},
     "output_type": "execute_result"
    }
   ],
   "source": [
    "sum(lmarrival_mae)/len(lmarrival_mae)"
   ]
  },
  {
   "cell_type": "markdown",
   "metadata": {},
   "source": [
    "## RF Model - departure"
   ]
  },
  {
   "cell_type": "code",
   "execution_count": 27,
   "metadata": {
    "scrolled": true
   },
   "outputs": [],
   "source": [
    "rfdeparture_rsquared = []\n",
    "rfdeparture_mae = []\n",
    "for k in depstations:\n",
    "    \n",
    "    X_train = departure_joindf_inclusive.loc[k][departure_joindf_inclusive.loc[k]['year'].isin([2014,2015,2016])].drop(['trip_count'], axis=1).values\n",
    "    X_test = departure_joindf_inclusive.loc[k][departure_joindf_inclusive.loc[k]['year']==2017].drop(['trip_count'], axis=1).values\n",
    "    y_train = departure_joindf_inclusive.loc[k][departure_joindf_inclusive.loc[k]['year'].isin([2014,2015,2016])]['trip_count'].values\n",
    "    y_test = departure_joindf_inclusive.loc[k][departure_joindf_inclusive.loc[k]['year']==2017]['trip_count'].values\n",
    "\n",
    "    rf = RandomForestRegressor(n_estimators = 100, random_state = 42)\n",
    "    rf.fit(X_train, y_train)\n",
    "    \n",
    "    y_pred = rf.predict(X_test)\n",
    "    \n",
    "    errors = abs(y_pred - y_test)\n",
    "\n",
    "    rfdeparture_rsquared.append(rf.score(X_test, y_test))\n",
    "    \n",
    "    rfdeparture_mae.append(round(np.mean(errors), 2))"
   ]
  },
  {
   "cell_type": "code",
   "execution_count": 28,
   "metadata": {
    "scrolled": false
   },
   "outputs": [
    {
     "data": {
      "text/plain": [
       "0.37634570900417397"
      ]
     },
     "execution_count": 28,
     "metadata": {},
     "output_type": "execute_result"
    }
   ],
   "source": [
    "sum(rfdeparture_rsquared)/len(rfdeparture_rsquared)"
   ]
  },
  {
   "cell_type": "code",
   "execution_count": 29,
   "metadata": {
    "scrolled": true
   },
   "outputs": [
    {
     "data": {
      "text/plain": [
       "0.4254465849387041"
      ]
     },
     "execution_count": 29,
     "metadata": {},
     "output_type": "execute_result"
    }
   ],
   "source": [
    "sum(rfdeparture_mae)/len(rfdeparture_mae)"
   ]
  },
  {
   "cell_type": "markdown",
   "metadata": {},
   "source": [
    "## RF Model - arrival"
   ]
  },
  {
   "cell_type": "code",
   "execution_count": 30,
   "metadata": {},
   "outputs": [],
   "source": [
    "rfarrival_rsquared = []\n",
    "rfarrival_mae = []\n",
    "\n",
    "for k in arrstations:\n",
    "    \n",
    "    X_train = arrival_joindf_inclusive.loc[k][arrival_joindf_inclusive.loc[k]['year'].isin([2014,2015,2016])].drop(['trip_count'], axis=1).values\n",
    "    X_test = arrival_joindf_inclusive.loc[k][arrival_joindf_inclusive.loc[k]['year']==2017].drop(['trip_count'], axis=1).values\n",
    "    y_train = arrival_joindf_inclusive.loc[k][arrival_joindf_inclusive.loc[k]['year'].isin([2014,2015,2016])]['trip_count'].values\n",
    "    y_test = arrival_joindf_inclusive.loc[k][arrival_joindf_inclusive.loc[k]['year']==2017]['trip_count'].values\n",
    "\n",
    "    rf = RandomForestRegressor(n_estimators = 100, random_state = 42)\n",
    "    rf.fit(X_train, y_train)\n",
    "    \n",
    "    y_pred = rf.predict(X_test)\n",
    "    \n",
    "    errors = abs(y_pred - y_test)\n",
    "\n",
    "    rfarrival_rsquared.append(rf.score(X_test, y_test))\n",
    "    \n",
    "    rfarrival_mae.append(round(np.mean(errors), 2))"
   ]
  },
  {
   "cell_type": "code",
   "execution_count": 31,
   "metadata": {
    "scrolled": true
   },
   "outputs": [
    {
     "data": {
      "text/plain": [
       "0.4520258728215437"
      ]
     },
     "execution_count": 31,
     "metadata": {},
     "output_type": "execute_result"
    }
   ],
   "source": [
    "sum(rfarrival_rsquared)/len(rfarrival_rsquared)"
   ]
  },
  {
   "cell_type": "code",
   "execution_count": 32,
   "metadata": {
    "scrolled": false
   },
   "outputs": [
    {
     "data": {
      "text/plain": [
       "0.42640980735551676"
      ]
     },
     "execution_count": 32,
     "metadata": {},
     "output_type": "execute_result"
    }
   ],
   "source": [
    "sum(rfarrival_mae)/len(rfarrival_mae)"
   ]
  }
 ],
 "metadata": {
  "kernelspec": {
   "display_name": "Python 3",
   "language": "python",
   "name": "python3"
  },
  "language_info": {
   "codemirror_mode": {
    "name": "ipython",
    "version": 3
   },
   "file_extension": ".py",
   "mimetype": "text/x-python",
   "name": "python",
   "nbconvert_exporter": "python",
   "pygments_lexer": "ipython3",
   "version": "3.6.5"
  }
 },
 "nbformat": 4,
 "nbformat_minor": 2
}
