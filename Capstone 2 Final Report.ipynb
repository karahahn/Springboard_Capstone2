{
 "cells": [
  {
   "cell_type": "code",
   "execution_count": 1,
   "metadata": {},
   "outputs": [],
   "source": [
    "import pandas as pd\n",
    "import numpy as np\n",
    "import matplotlib as mpl\n",
    "from matplotlib import pyplot as plt\n",
    "import seaborn as sns\n",
    "import datetime as dt\n",
    "import collections\n",
    "%matplotlib inline\n",
    "\n",
    "from sklearn import linear_model\n",
    "from sklearn import metrics\n",
    "from sklearn import model_selection\n",
    "from sklearn.linear_model import LinearRegression\n",
    "from sklearn.metrics import mean_squared_error\n",
    "from sklearn.model_selection import train_test_split\n",
    "from sklearn.ensemble import RandomForestRegressor\n",
    "\n",
    "from scipy import stats\n",
    "from statsmodels.formula.api import ols\n",
    "from statsmodels.graphics.gofplots import qqplot"
   ]
  },
  {
   "cell_type": "markdown",
   "metadata": {},
   "source": [
    "# Raw DataFrame"
   ]
  },
  {
   "cell_type": "code",
   "execution_count": 2,
   "metadata": {},
   "outputs": [
    {
     "data": {
      "text/html": [
       "<div>\n",
       "<style scoped>\n",
       "    .dataframe tbody tr th:only-of-type {\n",
       "        vertical-align: middle;\n",
       "    }\n",
       "\n",
       "    .dataframe tbody tr th {\n",
       "        vertical-align: top;\n",
       "    }\n",
       "\n",
       "    .dataframe thead th {\n",
       "        text-align: right;\n",
       "    }\n",
       "</style>\n",
       "<table border=\"1\" class=\"dataframe\">\n",
       "  <thead>\n",
       "    <tr style=\"text-align: right;\">\n",
       "      <th></th>\n",
       "      <th>trip_id</th>\n",
       "      <th>year</th>\n",
       "      <th>month</th>\n",
       "      <th>week</th>\n",
       "      <th>day</th>\n",
       "      <th>hour</th>\n",
       "      <th>usertype</th>\n",
       "      <th>gender</th>\n",
       "      <th>starttime</th>\n",
       "      <th>stoptime</th>\n",
       "      <th>tripduration</th>\n",
       "      <th>temperature</th>\n",
       "      <th>events</th>\n",
       "      <th>from_station_id</th>\n",
       "      <th>from_station_name</th>\n",
       "      <th>latitude_start</th>\n",
       "      <th>longitude_start</th>\n",
       "      <th>dpcapacity_start</th>\n",
       "      <th>to_station_id</th>\n",
       "      <th>to_station_name</th>\n",
       "      <th>latitude_end</th>\n",
       "      <th>longitude_end</th>\n",
       "      <th>dpcapacity_end</th>\n",
       "    </tr>\n",
       "  </thead>\n",
       "  <tbody>\n",
       "    <tr>\n",
       "      <th>0</th>\n",
       "      <td>2355134</td>\n",
       "      <td>2014</td>\n",
       "      <td>6</td>\n",
       "      <td>27</td>\n",
       "      <td>0</td>\n",
       "      <td>23</td>\n",
       "      <td>Subscriber</td>\n",
       "      <td>Male</td>\n",
       "      <td>2014-06-30 23:57:00</td>\n",
       "      <td>2014-07-01 00:07:00</td>\n",
       "      <td>10.066667</td>\n",
       "      <td>68.0</td>\n",
       "      <td>tstorms</td>\n",
       "      <td>131</td>\n",
       "      <td>Lincoln Ave &amp; Belmont Ave</td>\n",
       "      <td>41.939365</td>\n",
       "      <td>-87.668385</td>\n",
       "      <td>15.0</td>\n",
       "      <td>303</td>\n",
       "      <td>Broadway &amp; Cornelia Ave</td>\n",
       "      <td>41.945512</td>\n",
       "      <td>-87.645980</td>\n",
       "      <td>15.0</td>\n",
       "    </tr>\n",
       "    <tr>\n",
       "      <th>1</th>\n",
       "      <td>2355133</td>\n",
       "      <td>2014</td>\n",
       "      <td>6</td>\n",
       "      <td>27</td>\n",
       "      <td>0</td>\n",
       "      <td>23</td>\n",
       "      <td>Subscriber</td>\n",
       "      <td>Male</td>\n",
       "      <td>2014-06-30 23:56:00</td>\n",
       "      <td>2014-07-01 00:00:00</td>\n",
       "      <td>4.383333</td>\n",
       "      <td>68.0</td>\n",
       "      <td>tstorms</td>\n",
       "      <td>282</td>\n",
       "      <td>Halsted St &amp; Maxwell St</td>\n",
       "      <td>41.864580</td>\n",
       "      <td>-87.646930</td>\n",
       "      <td>15.0</td>\n",
       "      <td>22</td>\n",
       "      <td>May St &amp; Taylor St</td>\n",
       "      <td>41.869482</td>\n",
       "      <td>-87.655486</td>\n",
       "      <td>15.0</td>\n",
       "    </tr>\n",
       "    <tr>\n",
       "      <th>2</th>\n",
       "      <td>2355130</td>\n",
       "      <td>2014</td>\n",
       "      <td>6</td>\n",
       "      <td>27</td>\n",
       "      <td>0</td>\n",
       "      <td>23</td>\n",
       "      <td>Subscriber</td>\n",
       "      <td>Male</td>\n",
       "      <td>2014-06-30 23:33:00</td>\n",
       "      <td>2014-06-30 23:35:00</td>\n",
       "      <td>2.100000</td>\n",
       "      <td>68.0</td>\n",
       "      <td>tstorms</td>\n",
       "      <td>327</td>\n",
       "      <td>Sheffield Ave &amp; Webster Ave</td>\n",
       "      <td>41.921687</td>\n",
       "      <td>-87.653714</td>\n",
       "      <td>19.0</td>\n",
       "      <td>225</td>\n",
       "      <td>Halsted St &amp; Dickens Ave</td>\n",
       "      <td>41.919936</td>\n",
       "      <td>-87.648830</td>\n",
       "      <td>15.0</td>\n",
       "    </tr>\n",
       "    <tr>\n",
       "      <th>3</th>\n",
       "      <td>2355129</td>\n",
       "      <td>2014</td>\n",
       "      <td>6</td>\n",
       "      <td>27</td>\n",
       "      <td>0</td>\n",
       "      <td>23</td>\n",
       "      <td>Subscriber</td>\n",
       "      <td>Female</td>\n",
       "      <td>2014-06-30 23:26:00</td>\n",
       "      <td>2014-07-01 00:24:00</td>\n",
       "      <td>58.016667</td>\n",
       "      <td>68.0</td>\n",
       "      <td>tstorms</td>\n",
       "      <td>134</td>\n",
       "      <td>Peoria St &amp; Jackson Blvd</td>\n",
       "      <td>41.877749</td>\n",
       "      <td>-87.649633</td>\n",
       "      <td>19.0</td>\n",
       "      <td>194</td>\n",
       "      <td>State St &amp; Wacker Dr</td>\n",
       "      <td>41.887155</td>\n",
       "      <td>-87.627750</td>\n",
       "      <td>11.0</td>\n",
       "    </tr>\n",
       "    <tr>\n",
       "      <th>4</th>\n",
       "      <td>2355128</td>\n",
       "      <td>2014</td>\n",
       "      <td>6</td>\n",
       "      <td>27</td>\n",
       "      <td>0</td>\n",
       "      <td>23</td>\n",
       "      <td>Subscriber</td>\n",
       "      <td>Female</td>\n",
       "      <td>2014-06-30 23:16:00</td>\n",
       "      <td>2014-06-30 23:26:00</td>\n",
       "      <td>10.633333</td>\n",
       "      <td>68.0</td>\n",
       "      <td>tstorms</td>\n",
       "      <td>320</td>\n",
       "      <td>Loomis St &amp; Lexington St</td>\n",
       "      <td>41.872187</td>\n",
       "      <td>-87.661501</td>\n",
       "      <td>15.0</td>\n",
       "      <td>134</td>\n",
       "      <td>Peoria St &amp; Jackson Blvd</td>\n",
       "      <td>41.877749</td>\n",
       "      <td>-87.649633</td>\n",
       "      <td>19.0</td>\n",
       "    </tr>\n",
       "  </tbody>\n",
       "</table>\n",
       "</div>"
      ],
      "text/plain": [
       "   trip_id  year  month  week  day  hour    usertype  gender  \\\n",
       "0  2355134  2014      6    27    0    23  Subscriber    Male   \n",
       "1  2355133  2014      6    27    0    23  Subscriber    Male   \n",
       "2  2355130  2014      6    27    0    23  Subscriber    Male   \n",
       "3  2355129  2014      6    27    0    23  Subscriber  Female   \n",
       "4  2355128  2014      6    27    0    23  Subscriber  Female   \n",
       "\n",
       "             starttime             stoptime  tripduration  temperature  \\\n",
       "0  2014-06-30 23:57:00  2014-07-01 00:07:00     10.066667         68.0   \n",
       "1  2014-06-30 23:56:00  2014-07-01 00:00:00      4.383333         68.0   \n",
       "2  2014-06-30 23:33:00  2014-06-30 23:35:00      2.100000         68.0   \n",
       "3  2014-06-30 23:26:00  2014-07-01 00:24:00     58.016667         68.0   \n",
       "4  2014-06-30 23:16:00  2014-06-30 23:26:00     10.633333         68.0   \n",
       "\n",
       "    events  from_station_id            from_station_name  latitude_start  \\\n",
       "0  tstorms              131    Lincoln Ave & Belmont Ave       41.939365   \n",
       "1  tstorms              282      Halsted St & Maxwell St       41.864580   \n",
       "2  tstorms              327  Sheffield Ave & Webster Ave       41.921687   \n",
       "3  tstorms              134     Peoria St & Jackson Blvd       41.877749   \n",
       "4  tstorms              320     Loomis St & Lexington St       41.872187   \n",
       "\n",
       "   longitude_start  dpcapacity_start  to_station_id           to_station_name  \\\n",
       "0       -87.668385              15.0            303   Broadway & Cornelia Ave   \n",
       "1       -87.646930              15.0             22        May St & Taylor St   \n",
       "2       -87.653714              19.0            225  Halsted St & Dickens Ave   \n",
       "3       -87.649633              19.0            194      State St & Wacker Dr   \n",
       "4       -87.661501              15.0            134  Peoria St & Jackson Blvd   \n",
       "\n",
       "   latitude_end  longitude_end  dpcapacity_end  \n",
       "0     41.945512     -87.645980            15.0  \n",
       "1     41.869482     -87.655486            15.0  \n",
       "2     41.919936     -87.648830            15.0  \n",
       "3     41.887155     -87.627750            11.0  \n",
       "4     41.877749     -87.649633            19.0  "
      ]
     },
     "execution_count": 2,
     "metadata": {},
     "output_type": "execute_result"
    }
   ],
   "source": [
    "# read in the Chicagov Divvy Bicycle Sharing Data csv files from Kaggle\n",
    "pd.set_option('display.max_columns', 30)\n",
    "filename = 'data.csv'\n",
    "df = pd.read_csv(filename)\n",
    "df.head()"
   ]
  },
  {
   "cell_type": "code",
   "execution_count": 3,
   "metadata": {},
   "outputs": [
    {
     "name": "stdout",
     "output_type": "stream",
     "text": [
      "<class 'pandas.core.frame.DataFrame'>\n",
      "RangeIndex: 9495235 entries, 0 to 9495234\n",
      "Data columns (total 23 columns):\n",
      "trip_id              9495235 non-null int64\n",
      "year                 9495235 non-null int64\n",
      "month                9495235 non-null int64\n",
      "week                 9495235 non-null int64\n",
      "day                  9495235 non-null int64\n",
      "hour                 9495235 non-null int64\n",
      "usertype             9495235 non-null object\n",
      "gender               9495235 non-null object\n",
      "starttime            9495235 non-null object\n",
      "stoptime             9495235 non-null object\n",
      "tripduration         9495235 non-null float64\n",
      "temperature          9495235 non-null float64\n",
      "events               9495235 non-null object\n",
      "from_station_id      9495235 non-null int64\n",
      "from_station_name    9495235 non-null object\n",
      "latitude_start       9495235 non-null float64\n",
      "longitude_start      9495235 non-null float64\n",
      "dpcapacity_start     9495235 non-null float64\n",
      "to_station_id        9495235 non-null int64\n",
      "to_station_name      9495235 non-null object\n",
      "latitude_end         9495235 non-null float64\n",
      "longitude_end        9495235 non-null float64\n",
      "dpcapacity_end       9495235 non-null float64\n",
      "dtypes: float64(8), int64(8), object(7)\n",
      "memory usage: 1.6+ GB\n"
     ]
    }
   ],
   "source": [
    "# show column types and if there are any null values present\n",
    "df.info(null_counts=True)"
   ]
  },
  {
   "cell_type": "markdown",
   "metadata": {},
   "source": [
    "# Data Cleaning and Wrangling"
   ]
  },
  {
   "cell_type": "markdown",
   "metadata": {},
   "source": [
    "### Trip ID Column"
   ]
  },
  {
   "cell_type": "code",
   "execution_count": 4,
   "metadata": {},
   "outputs": [],
   "source": [
    "# check for unique trip_ids\n",
    "df.trip_id.value_counts();"
   ]
  },
  {
   "cell_type": "code",
   "execution_count": 5,
   "metadata": {},
   "outputs": [
    {
     "data": {
      "text/html": [
       "<div>\n",
       "<style scoped>\n",
       "    .dataframe tbody tr th:only-of-type {\n",
       "        vertical-align: middle;\n",
       "    }\n",
       "\n",
       "    .dataframe tbody tr th {\n",
       "        vertical-align: top;\n",
       "    }\n",
       "\n",
       "    .dataframe thead th {\n",
       "        text-align: right;\n",
       "    }\n",
       "</style>\n",
       "<table border=\"1\" class=\"dataframe\">\n",
       "  <thead>\n",
       "    <tr style=\"text-align: right;\">\n",
       "      <th></th>\n",
       "      <th>trip_id</th>\n",
       "      <th>year</th>\n",
       "      <th>month</th>\n",
       "      <th>week</th>\n",
       "      <th>day</th>\n",
       "      <th>hour</th>\n",
       "      <th>usertype</th>\n",
       "      <th>gender</th>\n",
       "      <th>starttime</th>\n",
       "      <th>stoptime</th>\n",
       "      <th>tripduration</th>\n",
       "      <th>temperature</th>\n",
       "      <th>events</th>\n",
       "      <th>from_station_id</th>\n",
       "      <th>from_station_name</th>\n",
       "      <th>latitude_start</th>\n",
       "      <th>longitude_start</th>\n",
       "      <th>dpcapacity_start</th>\n",
       "      <th>to_station_id</th>\n",
       "      <th>to_station_name</th>\n",
       "      <th>latitude_end</th>\n",
       "      <th>longitude_end</th>\n",
       "      <th>dpcapacity_end</th>\n",
       "    </tr>\n",
       "  </thead>\n",
       "  <tbody>\n",
       "    <tr>\n",
       "      <th>5250863</th>\n",
       "      <td>11693784</td>\n",
       "      <td>2016</td>\n",
       "      <td>9</td>\n",
       "      <td>35</td>\n",
       "      <td>6</td>\n",
       "      <td>12</td>\n",
       "      <td>Subscriber</td>\n",
       "      <td>Male</td>\n",
       "      <td>2016-09-04 12:06:52</td>\n",
       "      <td>2016-09-04 12:12:57</td>\n",
       "      <td>6.1</td>\n",
       "      <td>78.1</td>\n",
       "      <td>cloudy</td>\n",
       "      <td>334</td>\n",
       "      <td>Lake Shore Dr &amp; Belmont Ave</td>\n",
       "      <td>41.940775</td>\n",
       "      <td>-87.639192</td>\n",
       "      <td>19.0</td>\n",
       "      <td>117</td>\n",
       "      <td>Wilton Ave &amp; Belmont Ave</td>\n",
       "      <td>41.94018</td>\n",
       "      <td>-87.65304</td>\n",
       "      <td>23.0</td>\n",
       "    </tr>\n",
       "    <tr>\n",
       "      <th>5250864</th>\n",
       "      <td>11693784</td>\n",
       "      <td>2016</td>\n",
       "      <td>9</td>\n",
       "      <td>35</td>\n",
       "      <td>6</td>\n",
       "      <td>12</td>\n",
       "      <td>Subscriber</td>\n",
       "      <td>Male</td>\n",
       "      <td>2016-09-04 12:06:52</td>\n",
       "      <td>2016-09-04 12:12:57</td>\n",
       "      <td>6.1</td>\n",
       "      <td>78.1</td>\n",
       "      <td>cloudy</td>\n",
       "      <td>334</td>\n",
       "      <td>Lake Shore Dr &amp; Belmont Ave</td>\n",
       "      <td>41.940775</td>\n",
       "      <td>-87.639192</td>\n",
       "      <td>19.0</td>\n",
       "      <td>117</td>\n",
       "      <td>Wilton Ave &amp; Belmont Ave</td>\n",
       "      <td>41.94018</td>\n",
       "      <td>-87.65304</td>\n",
       "      <td>23.0</td>\n",
       "    </tr>\n",
       "  </tbody>\n",
       "</table>\n",
       "</div>"
      ],
      "text/plain": [
       "          trip_id  year  month  week  day  hour    usertype gender  \\\n",
       "5250863  11693784  2016      9    35    6    12  Subscriber   Male   \n",
       "5250864  11693784  2016      9    35    6    12  Subscriber   Male   \n",
       "\n",
       "                   starttime             stoptime  tripduration  temperature  \\\n",
       "5250863  2016-09-04 12:06:52  2016-09-04 12:12:57           6.1         78.1   \n",
       "5250864  2016-09-04 12:06:52  2016-09-04 12:12:57           6.1         78.1   \n",
       "\n",
       "         events  from_station_id            from_station_name  latitude_start  \\\n",
       "5250863  cloudy              334  Lake Shore Dr & Belmont Ave       41.940775   \n",
       "5250864  cloudy              334  Lake Shore Dr & Belmont Ave       41.940775   \n",
       "\n",
       "         longitude_start  dpcapacity_start  to_station_id  \\\n",
       "5250863       -87.639192              19.0            117   \n",
       "5250864       -87.639192              19.0            117   \n",
       "\n",
       "                  to_station_name  latitude_end  longitude_end  dpcapacity_end  \n",
       "5250863  Wilton Ave & Belmont Ave      41.94018      -87.65304            23.0  \n",
       "5250864  Wilton Ave & Belmont Ave      41.94018      -87.65304            23.0  "
      ]
     },
     "execution_count": 5,
     "metadata": {},
     "output_type": "execute_result"
    }
   ],
   "source": [
    "# look at one instance of trip_id where there are duplicate rows\n",
    "df[df['trip_id']==11693784]"
   ]
  },
  {
   "cell_type": "code",
   "execution_count": 6,
   "metadata": {},
   "outputs": [
    {
     "data": {
      "text/plain": [
       "9495188"
      ]
     },
     "execution_count": 6,
     "metadata": {},
     "output_type": "execute_result"
    }
   ],
   "source": [
    "# since there were some trip_ids with more than one count, determine the count of unique rows\n",
    "df.trip_id.nunique()"
   ]
  },
  {
   "cell_type": "code",
   "execution_count": 7,
   "metadata": {},
   "outputs": [],
   "source": [
    "# drop rows with duplicate data \n",
    "data = df.copy()\n",
    "data = data.drop_duplicates().sort_values('trip_id')"
   ]
  },
  {
   "cell_type": "code",
   "execution_count": 8,
   "metadata": {},
   "outputs": [
    {
     "name": "stdout",
     "output_type": "stream",
     "text": [
      "<class 'pandas.core.frame.DataFrame'>\n",
      "Int64Index: 9495188 entries, 576426 to 8911697\n",
      "Data columns (total 23 columns):\n",
      "trip_id              9495188 non-null int64\n",
      "year                 9495188 non-null int64\n",
      "month                9495188 non-null int64\n",
      "week                 9495188 non-null int64\n",
      "day                  9495188 non-null int64\n",
      "hour                 9495188 non-null int64\n",
      "usertype             9495188 non-null object\n",
      "gender               9495188 non-null object\n",
      "starttime            9495188 non-null object\n",
      "stoptime             9495188 non-null object\n",
      "tripduration         9495188 non-null float64\n",
      "temperature          9495188 non-null float64\n",
      "events               9495188 non-null object\n",
      "from_station_id      9495188 non-null int64\n",
      "from_station_name    9495188 non-null object\n",
      "latitude_start       9495188 non-null float64\n",
      "longitude_start      9495188 non-null float64\n",
      "dpcapacity_start     9495188 non-null float64\n",
      "to_station_id        9495188 non-null int64\n",
      "to_station_name      9495188 non-null object\n",
      "latitude_end         9495188 non-null float64\n",
      "longitude_end        9495188 non-null float64\n",
      "dpcapacity_end       9495188 non-null float64\n",
      "dtypes: float64(8), int64(8), object(7)\n",
      "memory usage: 1.7+ GB\n"
     ]
    }
   ],
   "source": [
    "# make sure the entries match our nunique count \n",
    "data.info(null_counts=True);"
   ]
  },
  {
   "cell_type": "code",
   "execution_count": 9,
   "metadata": {},
   "outputs": [],
   "source": [
    "# check each trip id has a single count\n",
    "data.trip_id.value_counts();"
   ]
  },
  {
   "cell_type": "markdown",
   "metadata": {},
   "source": [
    "The duplicate trip_ids have been dropped, so each trip_id is a unique event. There are 9495188 values in every column, and there are no null values. "
   ]
  },
  {
   "cell_type": "markdown",
   "metadata": {},
   "source": [
    "### General cleaning steps for easier use"
   ]
  },
  {
   "cell_type": "code",
   "execution_count": 10,
   "metadata": {},
   "outputs": [],
   "source": [
    "# convert start and stop times to datetimes\n",
    "data['starttime'] = pd.to_datetime(data['starttime'])\n",
    "data['stoptime'] = pd.to_datetime(data['stoptime'])"
   ]
  },
  {
   "cell_type": "code",
   "execution_count": 11,
   "metadata": {},
   "outputs": [],
   "source": [
    "# rename day column to numerical day of week\n",
    "data = data.rename(columns={'day':'num_day_of_week'})"
   ]
  },
  {
   "cell_type": "code",
   "execution_count": 12,
   "metadata": {},
   "outputs": [],
   "source": [
    "# create new column with the name of the week \n",
    "data['day_of_week'] = data['starttime'].dt.weekday_name"
   ]
  },
  {
   "cell_type": "code",
   "execution_count": 13,
   "metadata": {},
   "outputs": [],
   "source": [
    "# create new column with numerical day of the month\n",
    "data['day'] = data['starttime'].dt.day"
   ]
  },
  {
   "cell_type": "code",
   "execution_count": 14,
   "metadata": {
    "scrolled": true
   },
   "outputs": [
    {
     "data": {
      "text/html": [
       "<div>\n",
       "<style scoped>\n",
       "    .dataframe tbody tr th:only-of-type {\n",
       "        vertical-align: middle;\n",
       "    }\n",
       "\n",
       "    .dataframe tbody tr th {\n",
       "        vertical-align: top;\n",
       "    }\n",
       "\n",
       "    .dataframe thead th {\n",
       "        text-align: right;\n",
       "    }\n",
       "</style>\n",
       "<table border=\"1\" class=\"dataframe\">\n",
       "  <thead>\n",
       "    <tr style=\"text-align: right;\">\n",
       "      <th></th>\n",
       "      <th>trip_id</th>\n",
       "      <th>year</th>\n",
       "      <th>month</th>\n",
       "      <th>week</th>\n",
       "      <th>day</th>\n",
       "      <th>hour</th>\n",
       "      <th>num_day_of_week</th>\n",
       "      <th>day_of_week</th>\n",
       "      <th>starttime</th>\n",
       "      <th>stoptime</th>\n",
       "      <th>tripduration</th>\n",
       "      <th>temperature</th>\n",
       "      <th>events</th>\n",
       "      <th>usertype</th>\n",
       "      <th>gender</th>\n",
       "      <th>from_station_id</th>\n",
       "      <th>from_station_name</th>\n",
       "      <th>latitude_start</th>\n",
       "      <th>longitude_start</th>\n",
       "      <th>dpcapacity_start</th>\n",
       "      <th>to_station_id</th>\n",
       "      <th>to_station_name</th>\n",
       "      <th>latitude_end</th>\n",
       "      <th>longitude_end</th>\n",
       "      <th>dpcapacity_end</th>\n",
       "    </tr>\n",
       "  </thead>\n",
       "  <tbody>\n",
       "    <tr>\n",
       "      <th>576426</th>\n",
       "      <td>1109427</td>\n",
       "      <td>2014</td>\n",
       "      <td>1</td>\n",
       "      <td>1</td>\n",
       "      <td>1</td>\n",
       "      <td>1</td>\n",
       "      <td>2</td>\n",
       "      <td>Wednesday</td>\n",
       "      <td>2014-01-01 01:12:00</td>\n",
       "      <td>2014-01-01 01:18:00</td>\n",
       "      <td>5.766667</td>\n",
       "      <td>10.9</td>\n",
       "      <td>not clear</td>\n",
       "      <td>Subscriber</td>\n",
       "      <td>Male</td>\n",
       "      <td>240</td>\n",
       "      <td>Sheridan Rd &amp; Irving Park Rd</td>\n",
       "      <td>41.954245</td>\n",
       "      <td>-87.654406</td>\n",
       "      <td>23.0</td>\n",
       "      <td>245</td>\n",
       "      <td>Clarendon Ave &amp; Junior Ter</td>\n",
       "      <td>41.961004</td>\n",
       "      <td>-87.649603</td>\n",
       "      <td>15.0</td>\n",
       "    </tr>\n",
       "    <tr>\n",
       "      <th>576425</th>\n",
       "      <td>1109431</td>\n",
       "      <td>2014</td>\n",
       "      <td>1</td>\n",
       "      <td>1</td>\n",
       "      <td>1</td>\n",
       "      <td>1</td>\n",
       "      <td>2</td>\n",
       "      <td>Wednesday</td>\n",
       "      <td>2014-01-01 01:43:00</td>\n",
       "      <td>2014-01-01 01:53:00</td>\n",
       "      <td>10.833333</td>\n",
       "      <td>10.9</td>\n",
       "      <td>not clear</td>\n",
       "      <td>Subscriber</td>\n",
       "      <td>Male</td>\n",
       "      <td>113</td>\n",
       "      <td>Bissell St &amp; Armitage Ave</td>\n",
       "      <td>41.918440</td>\n",
       "      <td>-87.652220</td>\n",
       "      <td>15.0</td>\n",
       "      <td>94</td>\n",
       "      <td>Clark St &amp; Armitage Ave</td>\n",
       "      <td>41.918306</td>\n",
       "      <td>-87.636282</td>\n",
       "      <td>19.0</td>\n",
       "    </tr>\n",
       "    <tr>\n",
       "      <th>576424</th>\n",
       "      <td>1109432</td>\n",
       "      <td>2014</td>\n",
       "      <td>1</td>\n",
       "      <td>1</td>\n",
       "      <td>1</td>\n",
       "      <td>1</td>\n",
       "      <td>2</td>\n",
       "      <td>Wednesday</td>\n",
       "      <td>2014-01-01 01:43:00</td>\n",
       "      <td>2014-01-01 01:53:00</td>\n",
       "      <td>10.866667</td>\n",
       "      <td>10.9</td>\n",
       "      <td>not clear</td>\n",
       "      <td>Subscriber</td>\n",
       "      <td>Male</td>\n",
       "      <td>113</td>\n",
       "      <td>Bissell St &amp; Armitage Ave</td>\n",
       "      <td>41.918440</td>\n",
       "      <td>-87.652220</td>\n",
       "      <td>15.0</td>\n",
       "      <td>94</td>\n",
       "      <td>Clark St &amp; Armitage Ave</td>\n",
       "      <td>41.918306</td>\n",
       "      <td>-87.636282</td>\n",
       "      <td>19.0</td>\n",
       "    </tr>\n",
       "    <tr>\n",
       "      <th>576423</th>\n",
       "      <td>1109434</td>\n",
       "      <td>2014</td>\n",
       "      <td>1</td>\n",
       "      <td>1</td>\n",
       "      <td>1</td>\n",
       "      <td>1</td>\n",
       "      <td>2</td>\n",
       "      <td>Wednesday</td>\n",
       "      <td>2014-01-01 01:44:00</td>\n",
       "      <td>2014-01-01 01:59:00</td>\n",
       "      <td>15.266667</td>\n",
       "      <td>10.9</td>\n",
       "      <td>not clear</td>\n",
       "      <td>Subscriber</td>\n",
       "      <td>Male</td>\n",
       "      <td>50</td>\n",
       "      <td>Clark St &amp; Congress Pkwy</td>\n",
       "      <td>41.875933</td>\n",
       "      <td>-87.630585</td>\n",
       "      <td>27.0</td>\n",
       "      <td>134</td>\n",
       "      <td>Peoria St &amp; Jackson Blvd</td>\n",
       "      <td>41.877749</td>\n",
       "      <td>-87.649633</td>\n",
       "      <td>19.0</td>\n",
       "    </tr>\n",
       "    <tr>\n",
       "      <th>576422</th>\n",
       "      <td>1109435</td>\n",
       "      <td>2014</td>\n",
       "      <td>1</td>\n",
       "      <td>1</td>\n",
       "      <td>1</td>\n",
       "      <td>1</td>\n",
       "      <td>2</td>\n",
       "      <td>Wednesday</td>\n",
       "      <td>2014-01-01 01:45:00</td>\n",
       "      <td>2014-01-01 02:00:00</td>\n",
       "      <td>15.066667</td>\n",
       "      <td>10.9</td>\n",
       "      <td>not clear</td>\n",
       "      <td>Subscriber</td>\n",
       "      <td>Female</td>\n",
       "      <td>50</td>\n",
       "      <td>Clark St &amp; Congress Pkwy</td>\n",
       "      <td>41.875933</td>\n",
       "      <td>-87.630585</td>\n",
       "      <td>27.0</td>\n",
       "      <td>134</td>\n",
       "      <td>Peoria St &amp; Jackson Blvd</td>\n",
       "      <td>41.877749</td>\n",
       "      <td>-87.649633</td>\n",
       "      <td>19.0</td>\n",
       "    </tr>\n",
       "  </tbody>\n",
       "</table>\n",
       "</div>"
      ],
      "text/plain": [
       "        trip_id  year  month  week  day  hour  num_day_of_week day_of_week  \\\n",
       "576426  1109427  2014      1     1    1     1                2   Wednesday   \n",
       "576425  1109431  2014      1     1    1     1                2   Wednesday   \n",
       "576424  1109432  2014      1     1    1     1                2   Wednesday   \n",
       "576423  1109434  2014      1     1    1     1                2   Wednesday   \n",
       "576422  1109435  2014      1     1    1     1                2   Wednesday   \n",
       "\n",
       "                 starttime            stoptime  tripduration  temperature  \\\n",
       "576426 2014-01-01 01:12:00 2014-01-01 01:18:00      5.766667         10.9   \n",
       "576425 2014-01-01 01:43:00 2014-01-01 01:53:00     10.833333         10.9   \n",
       "576424 2014-01-01 01:43:00 2014-01-01 01:53:00     10.866667         10.9   \n",
       "576423 2014-01-01 01:44:00 2014-01-01 01:59:00     15.266667         10.9   \n",
       "576422 2014-01-01 01:45:00 2014-01-01 02:00:00     15.066667         10.9   \n",
       "\n",
       "           events    usertype  gender  from_station_id  \\\n",
       "576426  not clear  Subscriber    Male              240   \n",
       "576425  not clear  Subscriber    Male              113   \n",
       "576424  not clear  Subscriber    Male              113   \n",
       "576423  not clear  Subscriber    Male               50   \n",
       "576422  not clear  Subscriber  Female               50   \n",
       "\n",
       "                   from_station_name  latitude_start  longitude_start  \\\n",
       "576426  Sheridan Rd & Irving Park Rd       41.954245       -87.654406   \n",
       "576425     Bissell St & Armitage Ave       41.918440       -87.652220   \n",
       "576424     Bissell St & Armitage Ave       41.918440       -87.652220   \n",
       "576423      Clark St & Congress Pkwy       41.875933       -87.630585   \n",
       "576422      Clark St & Congress Pkwy       41.875933       -87.630585   \n",
       "\n",
       "        dpcapacity_start  to_station_id             to_station_name  \\\n",
       "576426              23.0            245  Clarendon Ave & Junior Ter   \n",
       "576425              15.0             94     Clark St & Armitage Ave   \n",
       "576424              15.0             94     Clark St & Armitage Ave   \n",
       "576423              27.0            134    Peoria St & Jackson Blvd   \n",
       "576422              27.0            134    Peoria St & Jackson Blvd   \n",
       "\n",
       "        latitude_end  longitude_end  dpcapacity_end  \n",
       "576426     41.961004     -87.649603            15.0  \n",
       "576425     41.918306     -87.636282            19.0  \n",
       "576424     41.918306     -87.636282            19.0  \n",
       "576423     41.877749     -87.649633            19.0  \n",
       "576422     41.877749     -87.649633            19.0  "
      ]
     },
     "execution_count": 14,
     "metadata": {},
     "output_type": "execute_result"
    }
   ],
   "source": [
    "# sort columns\n",
    "pd.set_option('display.max_columns', 30)\n",
    "data = data[['trip_id','year','month','week','day','hour','num_day_of_week','day_of_week',\n",
    "             'starttime','stoptime','tripduration','temperature','events','usertype','gender',\n",
    "             'from_station_id','from_station_name','latitude_start','longitude_start','dpcapacity_start',\n",
    "             'to_station_id','to_station_name','latitude_end','longitude_end','dpcapacity_end']]\n",
    "data.head()"
   ]
  },
  {
   "cell_type": "markdown",
   "metadata": {},
   "source": [
    "### Datetime: year, month, week, day, hour"
   ]
  },
  {
   "cell_type": "markdown",
   "metadata": {},
   "source": [
    "#### year"
   ]
  },
  {
   "cell_type": "code",
   "execution_count": 15,
   "metadata": {},
   "outputs": [],
   "source": [
    "# value counts of the number of trip sorted by year\n",
    "data.year.value_counts().sort_index();"
   ]
  },
  {
   "cell_type": "markdown",
   "metadata": {},
   "source": [
    "#### month"
   ]
  },
  {
   "cell_type": "code",
   "execution_count": 16,
   "metadata": {},
   "outputs": [],
   "source": [
    "# value counts of the number of trip sorted by month\n",
    "data.month.value_counts().sort_index();"
   ]
  },
  {
   "cell_type": "code",
   "execution_count": 17,
   "metadata": {},
   "outputs": [
    {
     "data": {
      "text/plain": [
       "Text(0,0.5,'Percentage of Trips Taken')"
      ]
     },
     "execution_count": 17,
     "metadata": {},
     "output_type": "execute_result"
    },
    {
     "data": {
      "image/png": "[encoded data removed]",
      "text/plain": [
       "<Figure size 432x288 with 1 Axes>"
      ]
     },
     "metadata": {},
     "output_type": "display_data"
    }
   ],
   "source": [
    "# group the year and month data, see how trips vary with time\n",
    "year_month = data.groupby(['year','month']).agg({'trip_id': 'size'}).reset_index()\n",
    "year_month['date']=year_month['year'].astype(str)+'_'+year_month['month'].astype(str)\n",
    "year_month['trip_id_percentage'] = year_month['trip_id'] / year_month['trip_id'].sum()\n",
    "year_month.plot(x='date',y='trip_id_percentage')\n",
    "plt.title('Trip Count Percentage Over Year and Month')\n",
    "plt.xlabel('Year and Month')\n",
    "plt.ylabel('Percentage of Trips Taken')"
   ]
  },
  {
   "cell_type": "markdown",
   "metadata": {},
   "source": [
    "#### week"
   ]
  },
  {
   "cell_type": "code",
   "execution_count": 18,
   "metadata": {},
   "outputs": [],
   "source": [
    "# value counts of the number of trip sorted by week\n",
    "data.week.value_counts().sort_index();"
   ]
  },
  {
   "cell_type": "code",
   "execution_count": 19,
   "metadata": {},
   "outputs": [
    {
     "data": {
      "text/plain": [
       "Text(0,0.5,'Percentage of Trips Taken')"
      ]
     },
     "execution_count": 19,
     "metadata": {},
     "output_type": "execute_result"
    },
    {
     "data": {
      "image/png": "[encoded data removed]",
      "text/plain": [
       "<Figure size 432x288 with 1 Axes>"
      ]
     },
     "metadata": {},
     "output_type": "display_data"
    }
   ],
   "source": [
    "# group the year and week data, see how trips vary with time\n",
    "year_week = data.groupby(['year','week']).agg({'trip_id': 'size'}).reset_index()\n",
    "year_week['date']=year_week['year'].astype(str)+'_'+year_week['week'].astype(str)\n",
    "year_week['trip_id_percentage'] = year_week['trip_id'] / year_week['trip_id'].sum()\n",
    "year_week.plot(x='date',y='trip_id_percentage')\n",
    "plt.title('Trip Count Percentage Over Year and Week')\n",
    "plt.xlabel('Year and Week')\n",
    "plt.ylabel('Percentage of Trips Taken')"
   ]
  },
  {
   "cell_type": "markdown",
   "metadata": {},
   "source": [
    "#### day"
   ]
  },
  {
   "cell_type": "code",
   "execution_count": 20,
   "metadata": {},
   "outputs": [],
   "source": [
    "# value counts of the number of trip sorted by day\n",
    "data.day.value_counts().sort_index();"
   ]
  },
  {
   "cell_type": "markdown",
   "metadata": {},
   "source": [
    "#### hour"
   ]
  },
  {
   "cell_type": "code",
   "execution_count": 21,
   "metadata": {},
   "outputs": [],
   "source": [
    "# value counts of the number of trip sorted by hour\n",
    "data.hour.value_counts().sort_index();"
   ]
  },
  {
   "cell_type": "code",
   "execution_count": 22,
   "metadata": {},
   "outputs": [],
   "source": [
    "# percentage of trips taken during different hours\n",
    "((data.hour.value_counts()/data.hour.count()) * 100).sort_index();"
   ]
  },
  {
   "cell_type": "markdown",
   "metadata": {},
   "source": [
    "### Day of Week"
   ]
  },
  {
   "cell_type": "code",
   "execution_count": 23,
   "metadata": {},
   "outputs": [],
   "source": [
    "# percentage of trips taken by different gender\n",
    "(data['day_of_week'].value_counts()/data['day_of_week'].count()) * 100;"
   ]
  },
  {
   "cell_type": "code",
   "execution_count": 24,
   "metadata": {
    "scrolled": true
   },
   "outputs": [],
   "source": [
    "# value counts of trips taken on different days of the week\n",
    "data['day_of_week'].value_counts().sort_index();"
   ]
  },
  {
   "cell_type": "code",
   "execution_count": 25,
   "metadata": {},
   "outputs": [],
   "source": [
    "# value counts of trips taken on different days of the week (numerical)\n",
    "data['num_day_of_week'].value_counts().sort_index();"
   ]
  },
  {
   "cell_type": "markdown",
   "metadata": {},
   "source": [
    "### Usertype and Gender"
   ]
  },
  {
   "cell_type": "code",
   "execution_count": 26,
   "metadata": {},
   "outputs": [],
   "source": [
    "# percentage of trips taken by different usertypes\n",
    "(data.usertype.value_counts()/data.usertype.count()) * 100;"
   ]
  },
  {
   "cell_type": "code",
   "execution_count": 27,
   "metadata": {},
   "outputs": [],
   "source": [
    "# percentage of trips taken by different gender\n",
    "(data.gender.value_counts()/data.gender.count()) * 100;"
   ]
  },
  {
   "cell_type": "markdown",
   "metadata": {},
   "source": [
    "### Duration"
   ]
  },
  {
   "cell_type": "code",
   "execution_count": 28,
   "metadata": {},
   "outputs": [],
   "source": [
    "# see how the difference in stop/start time compares to the trip duration \n",
    "data['difference'] = data['stoptime'] - data['starttime']\n",
    "data['tripduration_round'] = data['tripduration'].round(0)\n",
    "data[['difference','tripduration_round']];"
   ]
  },
  {
   "cell_type": "code",
   "execution_count": 29,
   "metadata": {},
   "outputs": [
    {
     "data": {
      "text/plain": [
       "Text(0,0.5,'Number of Trips')"
      ]
     },
     "execution_count": 29,
     "metadata": {},
     "output_type": "execute_result"
    },
    {
     "data": {
      "image/png": "[encoded data removed]",
      "text/plain": [
       "<Figure size 432x288 with 1 Axes>"
      ]
     },
     "metadata": {},
     "output_type": "display_data"
    }
   ],
   "source": [
    "# histogram of trip durations\n",
    "data.hist('tripduration', bins=30)\n",
    "plt.title('Bicycle Trips by the Minute')\n",
    "plt.xlabel('Minutes')\n",
    "plt.ylabel('Number of Trips')"
   ]
  },
  {
   "cell_type": "markdown",
   "metadata": {},
   "source": [
    "### Temperature and Weather "
   ]
  },
  {
   "cell_type": "code",
   "execution_count": 30,
   "metadata": {},
   "outputs": [
    {
     "data": {
      "text/plain": [
       "Text(0,0.5,'Number of Trips')"
      ]
     },
     "execution_count": 30,
     "metadata": {},
     "output_type": "execute_result"
    },
    {
     "data": {
      "image/png": "[encoded data removed]",
      "text/plain": [
       "<Figure size 432x288 with 1 Axes>"
      ]
     },
     "metadata": {},
     "output_type": "display_data"
    }
   ],
   "source": [
    "# histogram of the temperature data\n",
    "data.hist('temperature', bins=20)\n",
    "plt.title('Bicycle Trips by Temperature')\n",
    "plt.xlabel('Temperature')\n",
    "plt.ylabel('Number of Trips')"
   ]
  },
  {
   "cell_type": "code",
   "execution_count": 31,
   "metadata": {
    "scrolled": true
   },
   "outputs": [
    {
     "data": {
      "text/plain": [
       "cloudy          8398455\n",
       "clear            511818\n",
       "rain or snow     432077\n",
       "not clear         88159\n",
       "tstorms           64143\n",
       "unknown             536\n",
       "Name: events, dtype: int64"
      ]
     },
     "execution_count": 31,
     "metadata": {},
     "output_type": "execute_result"
    }
   ],
   "source": [
    "# weather events\n",
    "data.events.value_counts()"
   ]
  },
  {
   "cell_type": "code",
   "execution_count": 32,
   "metadata": {},
   "outputs": [
    {
     "data": {
      "text/plain": [
       "Text(0,0.5,'Number of Trips')"
      ]
     },
     "execution_count": 32,
     "metadata": {},
     "output_type": "execute_result"
    },
    {
     "data": {
      "image/png": "[encoded data removed]",
      "text/plain": [
       "<Figure size 432x288 with 1 Axes>"
      ]
     },
     "metadata": {},
     "output_type": "display_data"
    }
   ],
   "source": [
    "# bar chart to show relative frequencies of each weather event\n",
    "data.events.value_counts().plot(kind='bar')\n",
    "plt.title('Weather Events')\n",
    "plt.xlabel('Weather Events')\n",
    "plt.ylabel('Number of Trips')"
   ]
  },
  {
   "cell_type": "markdown",
   "metadata": {},
   "source": [
    "### Stations"
   ]
  },
  {
   "cell_type": "code",
   "execution_count": 33,
   "metadata": {},
   "outputs": [],
   "source": [
    "# create two lists with unique station ID's \n",
    "x = data['from_station_id'].drop_duplicates()\n",
    "y = data['to_station_id'].drop_duplicates()"
   ]
  },
  {
   "cell_type": "code",
   "execution_count": 34,
   "metadata": {},
   "outputs": [
    {
     "data": {
      "text/plain": [
       "True"
      ]
     },
     "execution_count": 34,
     "metadata": {},
     "output_type": "execute_result"
    }
   ],
   "source": [
    "# see if multisets are equal \n",
    "collections.Counter(x) == collections.Counter(y)"
   ]
  },
  {
   "cell_type": "code",
   "execution_count": 35,
   "metadata": {},
   "outputs": [
    {
     "data": {
      "text/plain": [
       "656"
      ]
     },
     "execution_count": 35,
     "metadata": {},
     "output_type": "execute_result"
    }
   ],
   "source": [
    "data['to_station_name'].nunique()"
   ]
  },
  {
   "cell_type": "code",
   "execution_count": 36,
   "metadata": {},
   "outputs": [
    {
     "data": {
      "text/plain": [
       "656"
      ]
     },
     "execution_count": 36,
     "metadata": {},
     "output_type": "execute_result"
    }
   ],
   "source": [
    "data['from_station_name'].nunique()"
   ]
  },
  {
   "cell_type": "markdown",
   "metadata": {},
   "source": [
    "### Location"
   ]
  },
  {
   "cell_type": "code",
   "execution_count": 37,
   "metadata": {},
   "outputs": [],
   "source": [
    "# check maximum values to see if they are within reason with Chicago latitude and longitude\n",
    "data[['latitude_start','longitude_start','latitude_end','longitude_end']].max();"
   ]
  },
  {
   "cell_type": "code",
   "execution_count": 38,
   "metadata": {},
   "outputs": [],
   "source": [
    "# check minimum values to see if they are within reason with Chicago latitude and longitude\n",
    "data[['latitude_start','longitude_start','latitude_end','longitude_end']].min();"
   ]
  },
  {
   "cell_type": "markdown",
   "metadata": {},
   "source": [
    "### Capacity"
   ]
  },
  {
   "cell_type": "code",
   "execution_count": 39,
   "metadata": {},
   "outputs": [
    {
     "data": {
      "text/html": [
       "<div>\n",
       "<style scoped>\n",
       "    .dataframe tbody tr th:only-of-type {\n",
       "        vertical-align: middle;\n",
       "    }\n",
       "\n",
       "    .dataframe tbody tr th {\n",
       "        vertical-align: top;\n",
       "    }\n",
       "\n",
       "    .dataframe thead th {\n",
       "        text-align: right;\n",
       "    }\n",
       "</style>\n",
       "<table border=\"1\" class=\"dataframe\">\n",
       "  <thead>\n",
       "    <tr style=\"text-align: right;\">\n",
       "      <th></th>\n",
       "      <th>datetime</th>\n",
       "      <th>station_name</th>\n",
       "      <th>trip_id</th>\n",
       "    </tr>\n",
       "  </thead>\n",
       "  <tbody>\n",
       "    <tr>\n",
       "      <th>2146213</th>\n",
       "      <td>2015-05-17 14:06:00</td>\n",
       "      <td>2112 W Peterson Ave</td>\n",
       "      <td>5199604</td>\n",
       "    </tr>\n",
       "    <tr>\n",
       "      <th>2140518</th>\n",
       "      <td>2015-05-18 10:47:00</td>\n",
       "      <td>2112 W Peterson Ave</td>\n",
       "      <td>5213095</td>\n",
       "    </tr>\n",
       "    <tr>\n",
       "      <th>2106692</th>\n",
       "      <td>2015-05-22 17:29:00</td>\n",
       "      <td>2112 W Peterson Ave</td>\n",
       "      <td>5276252</td>\n",
       "    </tr>\n",
       "    <tr>\n",
       "      <th>2078846</th>\n",
       "      <td>2015-05-27 15:53:00</td>\n",
       "      <td>2112 W Peterson Ave</td>\n",
       "      <td>5356250</td>\n",
       "    </tr>\n",
       "    <tr>\n",
       "      <th>2074568</th>\n",
       "      <td>2015-05-27 18:57:00</td>\n",
       "      <td>2112 W Peterson Ave</td>\n",
       "      <td>5361887</td>\n",
       "    </tr>\n",
       "  </tbody>\n",
       "</table>\n",
       "</div>"
      ],
      "text/plain": [
       "                   datetime         station_name  trip_id\n",
       "2146213 2015-05-17 14:06:00  2112 W Peterson Ave  5199604\n",
       "2140518 2015-05-18 10:47:00  2112 W Peterson Ave  5213095\n",
       "2106692 2015-05-22 17:29:00  2112 W Peterson Ave  5276252\n",
       "2078846 2015-05-27 15:53:00  2112 W Peterson Ave  5356250\n",
       "2074568 2015-05-27 18:57:00  2112 W Peterson Ave  5361887"
      ]
     },
     "execution_count": 39,
     "metadata": {},
     "output_type": "execute_result"
    }
   ],
   "source": [
    "departures = data[['starttime','from_station_name','trip_id']].sort_values(['from_station_name','starttime'])\n",
    "departures = departures.rename(columns={'starttime':'datetime','from_station_name':'station_name'})\n",
    "\n",
    "departures.head()"
   ]
  },
  {
   "cell_type": "code",
   "execution_count": 40,
   "metadata": {},
   "outputs": [],
   "source": [
    "# each departure is given a 1 value\n",
    "departures['trip_counts'] = 1"
   ]
  },
  {
   "cell_type": "code",
   "execution_count": 41,
   "metadata": {},
   "outputs": [
    {
     "data": {
      "text/html": [
       "<div>\n",
       "<style scoped>\n",
       "    .dataframe tbody tr th:only-of-type {\n",
       "        vertical-align: middle;\n",
       "    }\n",
       "\n",
       "    .dataframe tbody tr th {\n",
       "        vertical-align: top;\n",
       "    }\n",
       "\n",
       "    .dataframe thead th {\n",
       "        text-align: right;\n",
       "    }\n",
       "</style>\n",
       "<table border=\"1\" class=\"dataframe\">\n",
       "  <thead>\n",
       "    <tr style=\"text-align: right;\">\n",
       "      <th></th>\n",
       "      <th>datetime</th>\n",
       "      <th>station_name</th>\n",
       "      <th>trip_id</th>\n",
       "    </tr>\n",
       "  </thead>\n",
       "  <tbody>\n",
       "    <tr>\n",
       "      <th>2146845</th>\n",
       "      <td>2015-05-17 12:41:00</td>\n",
       "      <td>2112 W Peterson Ave</td>\n",
       "      <td>5197801</td>\n",
       "    </tr>\n",
       "    <tr>\n",
       "      <th>2140550</th>\n",
       "      <td>2015-05-18 10:36:00</td>\n",
       "      <td>2112 W Peterson Ave</td>\n",
       "      <td>5212990</td>\n",
       "    </tr>\n",
       "    <tr>\n",
       "      <th>2107385</th>\n",
       "      <td>2015-05-22 16:41:00</td>\n",
       "      <td>2112 W Peterson Ave</td>\n",
       "      <td>5274966</td>\n",
       "    </tr>\n",
       "    <tr>\n",
       "      <th>2103078</th>\n",
       "      <td>2015-05-23 12:07:00</td>\n",
       "      <td>2112 W Peterson Ave</td>\n",
       "      <td>5284833</td>\n",
       "    </tr>\n",
       "    <tr>\n",
       "      <th>2095211</th>\n",
       "      <td>2015-05-25 09:01:00</td>\n",
       "      <td>2112 W Peterson Ave</td>\n",
       "      <td>5317259</td>\n",
       "    </tr>\n",
       "  </tbody>\n",
       "</table>\n",
       "</div>"
      ],
      "text/plain": [
       "                   datetime         station_name  trip_id\n",
       "2146845 2015-05-17 12:41:00  2112 W Peterson Ave  5197801\n",
       "2140550 2015-05-18 10:36:00  2112 W Peterson Ave  5212990\n",
       "2107385 2015-05-22 16:41:00  2112 W Peterson Ave  5274966\n",
       "2103078 2015-05-23 12:07:00  2112 W Peterson Ave  5284833\n",
       "2095211 2015-05-25 09:01:00  2112 W Peterson Ave  5317259"
      ]
     },
     "execution_count": 41,
     "metadata": {},
     "output_type": "execute_result"
    }
   ],
   "source": [
    "arrivals = data[['starttime','to_station_name','trip_id']].sort_values(['to_station_name','starttime'])\n",
    "arrivals = arrivals.rename(columns={'starttime':'datetime','to_station_name':'station_name'})\n",
    "\n",
    "arrivals.head()"
   ]
  },
  {
   "cell_type": "code",
   "execution_count": 42,
   "metadata": {
    "scrolled": false
   },
   "outputs": [],
   "source": [
    "# each arrivals is given a -1 value\n",
    "arrivals['trip_counts'] = -1"
   ]
  },
  {
   "cell_type": "code",
   "execution_count": 43,
   "metadata": {},
   "outputs": [
    {
     "data": {
      "text/html": [
       "<div>\n",
       "<style scoped>\n",
       "    .dataframe tbody tr th:only-of-type {\n",
       "        vertical-align: middle;\n",
       "    }\n",
       "\n",
       "    .dataframe tbody tr th {\n",
       "        vertical-align: top;\n",
       "    }\n",
       "\n",
       "    .dataframe thead th {\n",
       "        text-align: right;\n",
       "    }\n",
       "</style>\n",
       "<table border=\"1\" class=\"dataframe\">\n",
       "  <thead>\n",
       "    <tr style=\"text-align: right;\">\n",
       "      <th></th>\n",
       "      <th>datetime</th>\n",
       "      <th>date</th>\n",
       "      <th>station_name</th>\n",
       "      <th>trip_id</th>\n",
       "      <th>trip_counts</th>\n",
       "    </tr>\n",
       "  </thead>\n",
       "  <tbody>\n",
       "    <tr>\n",
       "      <th>2146845</th>\n",
       "      <td>2015-05-17 12:41:00</td>\n",
       "      <td>2015-05-17</td>\n",
       "      <td>2112 W Peterson Ave</td>\n",
       "      <td>5197801</td>\n",
       "      <td>-1</td>\n",
       "    </tr>\n",
       "    <tr>\n",
       "      <th>2146213</th>\n",
       "      <td>2015-05-17 14:06:00</td>\n",
       "      <td>2015-05-17</td>\n",
       "      <td>2112 W Peterson Ave</td>\n",
       "      <td>5199604</td>\n",
       "      <td>1</td>\n",
       "    </tr>\n",
       "    <tr>\n",
       "      <th>2140550</th>\n",
       "      <td>2015-05-18 10:36:00</td>\n",
       "      <td>2015-05-18</td>\n",
       "      <td>2112 W Peterson Ave</td>\n",
       "      <td>5212990</td>\n",
       "      <td>-1</td>\n",
       "    </tr>\n",
       "    <tr>\n",
       "      <th>2140518</th>\n",
       "      <td>2015-05-18 10:47:00</td>\n",
       "      <td>2015-05-18</td>\n",
       "      <td>2112 W Peterson Ave</td>\n",
       "      <td>5213095</td>\n",
       "      <td>1</td>\n",
       "    </tr>\n",
       "    <tr>\n",
       "      <th>2107385</th>\n",
       "      <td>2015-05-22 16:41:00</td>\n",
       "      <td>2015-05-22</td>\n",
       "      <td>2112 W Peterson Ave</td>\n",
       "      <td>5274966</td>\n",
       "      <td>-1</td>\n",
       "    </tr>\n",
       "  </tbody>\n",
       "</table>\n",
       "</div>"
      ],
      "text/plain": [
       "                   datetime        date         station_name  trip_id  \\\n",
       "2146845 2015-05-17 12:41:00  2015-05-17  2112 W Peterson Ave  5197801   \n",
       "2146213 2015-05-17 14:06:00  2015-05-17  2112 W Peterson Ave  5199604   \n",
       "2140550 2015-05-18 10:36:00  2015-05-18  2112 W Peterson Ave  5212990   \n",
       "2140518 2015-05-18 10:47:00  2015-05-18  2112 W Peterson Ave  5213095   \n",
       "2107385 2015-05-22 16:41:00  2015-05-22  2112 W Peterson Ave  5274966   \n",
       "\n",
       "         trip_counts  \n",
       "2146845           -1  \n",
       "2146213            1  \n",
       "2140550           -1  \n",
       "2140518            1  \n",
       "2107385           -1  "
      ]
     },
     "execution_count": 43,
     "metadata": {},
     "output_type": "execute_result"
    }
   ],
   "source": [
    "departures_and_arrivals = pd.concat([departures, arrivals])\n",
    "departures_and_arrivals = departures_and_arrivals.sort_values(['station_name','datetime'])\n",
    "departures_and_arrivals['date'] = departures_and_arrivals['datetime'].dt.date\n",
    "departures_and_arrivals = departures_and_arrivals[['datetime','date','station_name','trip_id','trip_counts']]\n",
    "departures_and_arrivals.head()"
   ]
  },
  {
   "cell_type": "code",
   "execution_count": 44,
   "metadata": {
    "scrolled": true
   },
   "outputs": [
    {
     "data": {
      "text/html": [
       "<div>\n",
       "<style scoped>\n",
       "    .dataframe tbody tr th:only-of-type {\n",
       "        vertical-align: middle;\n",
       "    }\n",
       "\n",
       "    .dataframe tbody tr th {\n",
       "        vertical-align: top;\n",
       "    }\n",
       "\n",
       "    .dataframe thead th {\n",
       "        text-align: right;\n",
       "    }\n",
       "</style>\n",
       "<table border=\"1\" class=\"dataframe\">\n",
       "  <thead>\n",
       "    <tr style=\"text-align: right;\">\n",
       "      <th></th>\n",
       "      <th>datetime</th>\n",
       "      <th>date</th>\n",
       "      <th>station_name</th>\n",
       "      <th>trip_id</th>\n",
       "      <th>trip_counts</th>\n",
       "      <th>cumulative_sum</th>\n",
       "    </tr>\n",
       "  </thead>\n",
       "  <tbody>\n",
       "    <tr>\n",
       "      <th>2146845</th>\n",
       "      <td>2015-05-17 12:41:00</td>\n",
       "      <td>2015-05-17</td>\n",
       "      <td>2112 W Peterson Ave</td>\n",
       "      <td>5197801</td>\n",
       "      <td>-1</td>\n",
       "      <td>-1</td>\n",
       "    </tr>\n",
       "    <tr>\n",
       "      <th>2146213</th>\n",
       "      <td>2015-05-17 14:06:00</td>\n",
       "      <td>2015-05-17</td>\n",
       "      <td>2112 W Peterson Ave</td>\n",
       "      <td>5199604</td>\n",
       "      <td>1</td>\n",
       "      <td>0</td>\n",
       "    </tr>\n",
       "    <tr>\n",
       "      <th>2140550</th>\n",
       "      <td>2015-05-18 10:36:00</td>\n",
       "      <td>2015-05-18</td>\n",
       "      <td>2112 W Peterson Ave</td>\n",
       "      <td>5212990</td>\n",
       "      <td>-1</td>\n",
       "      <td>-1</td>\n",
       "    </tr>\n",
       "    <tr>\n",
       "      <th>2140518</th>\n",
       "      <td>2015-05-18 10:47:00</td>\n",
       "      <td>2015-05-18</td>\n",
       "      <td>2112 W Peterson Ave</td>\n",
       "      <td>5213095</td>\n",
       "      <td>1</td>\n",
       "      <td>0</td>\n",
       "    </tr>\n",
       "    <tr>\n",
       "      <th>2107385</th>\n",
       "      <td>2015-05-22 16:41:00</td>\n",
       "      <td>2015-05-22</td>\n",
       "      <td>2112 W Peterson Ave</td>\n",
       "      <td>5274966</td>\n",
       "      <td>-1</td>\n",
       "      <td>-1</td>\n",
       "    </tr>\n",
       "  </tbody>\n",
       "</table>\n",
       "</div>"
      ],
      "text/plain": [
       "                   datetime        date         station_name  trip_id  \\\n",
       "2146845 2015-05-17 12:41:00  2015-05-17  2112 W Peterson Ave  5197801   \n",
       "2146213 2015-05-17 14:06:00  2015-05-17  2112 W Peterson Ave  5199604   \n",
       "2140550 2015-05-18 10:36:00  2015-05-18  2112 W Peterson Ave  5212990   \n",
       "2140518 2015-05-18 10:47:00  2015-05-18  2112 W Peterson Ave  5213095   \n",
       "2107385 2015-05-22 16:41:00  2015-05-22  2112 W Peterson Ave  5274966   \n",
       "\n",
       "         trip_counts  cumulative_sum  \n",
       "2146845           -1              -1  \n",
       "2146213            1               0  \n",
       "2140550           -1              -1  \n",
       "2140518            1               0  \n",
       "2107385           -1              -1  "
      ]
     },
     "execution_count": 44,
     "metadata": {},
     "output_type": "execute_result"
    }
   ],
   "source": [
    "# get running sum of departures-arrivals\n",
    "departures_and_arrivals['cumulative_sum'] = departures_and_arrivals.groupby(['station_name','date'])['trip_counts'].cumsum()\n",
    "departures_and_arrivals.head()\n"
   ]
  },
  {
   "cell_type": "code",
   "execution_count": 45,
   "metadata": {
    "scrolled": true
   },
   "outputs": [
    {
     "data": {
      "text/html": [
       "<div>\n",
       "<style scoped>\n",
       "    .dataframe tbody tr th:only-of-type {\n",
       "        vertical-align: middle;\n",
       "    }\n",
       "\n",
       "    .dataframe tbody tr th {\n",
       "        vertical-align: top;\n",
       "    }\n",
       "\n",
       "    .dataframe thead th {\n",
       "        text-align: right;\n",
       "    }\n",
       "</style>\n",
       "<table border=\"1\" class=\"dataframe\">\n",
       "  <thead>\n",
       "    <tr style=\"text-align: right;\">\n",
       "      <th></th>\n",
       "      <th>station_name</th>\n",
       "      <th>cumulative_sum</th>\n",
       "    </tr>\n",
       "  </thead>\n",
       "  <tbody>\n",
       "    <tr>\n",
       "      <th>0</th>\n",
       "      <td>2112 W Peterson Ave</td>\n",
       "      <td>5</td>\n",
       "    </tr>\n",
       "    <tr>\n",
       "      <th>1</th>\n",
       "      <td>63rd St Beach</td>\n",
       "      <td>4</td>\n",
       "    </tr>\n",
       "    <tr>\n",
       "      <th>2</th>\n",
       "      <td>900 W Harrison</td>\n",
       "      <td>16</td>\n",
       "    </tr>\n",
       "    <tr>\n",
       "      <th>3</th>\n",
       "      <td>900 W Harrison St</td>\n",
       "      <td>15</td>\n",
       "    </tr>\n",
       "    <tr>\n",
       "      <th>4</th>\n",
       "      <td>Aberdeen St &amp; Jackson Blvd</td>\n",
       "      <td>16</td>\n",
       "    </tr>\n",
       "  </tbody>\n",
       "</table>\n",
       "</div>"
      ],
      "text/plain": [
       "                 station_name  cumulative_sum\n",
       "0         2112 W Peterson Ave               5\n",
       "1               63rd St Beach               4\n",
       "2              900 W Harrison              16\n",
       "3           900 W Harrison St              15\n",
       "4  Aberdeen St & Jackson Blvd              16"
      ]
     },
     "execution_count": 45,
     "metadata": {},
     "output_type": "execute_result"
    }
   ],
   "source": [
    "# maximum departures-arrivals for each station \n",
    "max_sum = departures_and_arrivals.groupby('station_name')['cumulative_sum'].max().reset_index()\n",
    "max_sum.head()"
   ]
  },
  {
   "cell_type": "code",
   "execution_count": 46,
   "metadata": {
    "scrolled": true
   },
   "outputs": [
    {
     "data": {
      "text/html": [
       "<div>\n",
       "<style scoped>\n",
       "    .dataframe tbody tr th:only-of-type {\n",
       "        vertical-align: middle;\n",
       "    }\n",
       "\n",
       "    .dataframe tbody tr th {\n",
       "        vertical-align: top;\n",
       "    }\n",
       "\n",
       "    .dataframe thead th {\n",
       "        text-align: right;\n",
       "    }\n",
       "</style>\n",
       "<table border=\"1\" class=\"dataframe\">\n",
       "  <thead>\n",
       "    <tr style=\"text-align: right;\">\n",
       "      <th></th>\n",
       "      <th>dpcapacity_start</th>\n",
       "    </tr>\n",
       "    <tr>\n",
       "      <th>from_station_name</th>\n",
       "      <th></th>\n",
       "    </tr>\n",
       "  </thead>\n",
       "  <tbody>\n",
       "    <tr>\n",
       "      <th>2112 W Peterson Ave</th>\n",
       "      <td>15.0</td>\n",
       "    </tr>\n",
       "    <tr>\n",
       "      <th>63rd St Beach</th>\n",
       "      <td>23.0</td>\n",
       "    </tr>\n",
       "    <tr>\n",
       "      <th>900 W Harrison</th>\n",
       "      <td>19.0</td>\n",
       "    </tr>\n",
       "    <tr>\n",
       "      <th>900 W Harrison St</th>\n",
       "      <td>19.0</td>\n",
       "    </tr>\n",
       "    <tr>\n",
       "      <th>Aberdeen St &amp; Jackson Blvd</th>\n",
       "      <td>15.0</td>\n",
       "    </tr>\n",
       "  </tbody>\n",
       "</table>\n",
       "</div>"
      ],
      "text/plain": [
       "                            dpcapacity_start\n",
       "from_station_name                           \n",
       "2112 W Peterson Ave                     15.0\n",
       "63rd St Beach                           23.0\n",
       "900 W Harrison                          19.0\n",
       "900 W Harrison St                       19.0\n",
       "Aberdeen St & Jackson Blvd              15.0"
      ]
     },
     "execution_count": 46,
     "metadata": {},
     "output_type": "execute_result"
    }
   ],
   "source": [
    "# maximum capacity at each station\n",
    "max_cap = data[['from_station_name','dpcapacity_start']].drop_duplicates().groupby('from_station_name').max()\n",
    "max_cap.head()"
   ]
  },
  {
   "cell_type": "code",
   "execution_count": 47,
   "metadata": {},
   "outputs": [],
   "source": [
    "df_merge = pd.merge(max_sum, max_cap, how='inner', left_on='station_name',right_on='from_station_name')"
   ]
  },
  {
   "cell_type": "code",
   "execution_count": 48,
   "metadata": {},
   "outputs": [],
   "source": [
    "df_merge['difference'] = df_merge['dpcapacity_start'] - df_merge['cumulative_sum']"
   ]
  },
  {
   "cell_type": "code",
   "execution_count": 49,
   "metadata": {
    "scrolled": true
   },
   "outputs": [],
   "source": [
    "# show all stations that exceed capacity\n",
    "df_merge[df_merge['difference']<0];"
   ]
  },
  {
   "cell_type": "code",
   "execution_count": 50,
   "metadata": {},
   "outputs": [
    {
     "name": "stdout",
     "output_type": "stream",
     "text": [
      "<class 'pandas.core.frame.DataFrame'>\n",
      "Int64Index: 221 entries, 4 to 650\n",
      "Data columns (total 4 columns):\n",
      "station_name        221 non-null object\n",
      "cumulative_sum      221 non-null int64\n",
      "dpcapacity_start    221 non-null float64\n",
      "difference          221 non-null float64\n",
      "dtypes: float64(2), int64(1), object(1)\n",
      "memory usage: 8.6+ KB\n"
     ]
    }
   ],
   "source": [
    "df_merge[df_merge['difference']<0].info()"
   ]
  },
  {
   "cell_type": "markdown",
   "metadata": {},
   "source": [
    "221 of 656 stations exceed capacity"
   ]
  },
  {
   "cell_type": "code",
   "execution_count": 51,
   "metadata": {},
   "outputs": [],
   "source": [
    "df_merge_all = pd.merge(departures_and_arrivals, max_cap, how='left', left_on='station_name',right_on='from_station_name')\n"
   ]
  },
  {
   "cell_type": "code",
   "execution_count": 52,
   "metadata": {},
   "outputs": [
    {
     "data": {
      "text/html": [
       "<div>\n",
       "<style scoped>\n",
       "    .dataframe tbody tr th:only-of-type {\n",
       "        vertical-align: middle;\n",
       "    }\n",
       "\n",
       "    .dataframe tbody tr th {\n",
       "        vertical-align: top;\n",
       "    }\n",
       "\n",
       "    .dataframe thead th {\n",
       "        text-align: right;\n",
       "    }\n",
       "</style>\n",
       "<table border=\"1\" class=\"dataframe\">\n",
       "  <thead>\n",
       "    <tr style=\"text-align: right;\">\n",
       "      <th></th>\n",
       "      <th>station_name</th>\n",
       "      <th>date</th>\n",
       "      <th>cumulative_sum</th>\n",
       "      <th>dpcapacity_start</th>\n",
       "    </tr>\n",
       "  </thead>\n",
       "  <tbody>\n",
       "    <tr>\n",
       "      <th>0</th>\n",
       "      <td>2112 W Peterson Ave</td>\n",
       "      <td>2015-05-17</td>\n",
       "      <td>0</td>\n",
       "      <td>15.0</td>\n",
       "    </tr>\n",
       "    <tr>\n",
       "      <th>1</th>\n",
       "      <td>2112 W Peterson Ave</td>\n",
       "      <td>2015-05-18</td>\n",
       "      <td>0</td>\n",
       "      <td>15.0</td>\n",
       "    </tr>\n",
       "    <tr>\n",
       "      <th>2</th>\n",
       "      <td>2112 W Peterson Ave</td>\n",
       "      <td>2015-05-22</td>\n",
       "      <td>0</td>\n",
       "      <td>15.0</td>\n",
       "    </tr>\n",
       "    <tr>\n",
       "      <th>3</th>\n",
       "      <td>2112 W Peterson Ave</td>\n",
       "      <td>2015-05-23</td>\n",
       "      <td>-1</td>\n",
       "      <td>15.0</td>\n",
       "    </tr>\n",
       "    <tr>\n",
       "      <th>4</th>\n",
       "      <td>2112 W Peterson Ave</td>\n",
       "      <td>2015-05-25</td>\n",
       "      <td>-1</td>\n",
       "      <td>15.0</td>\n",
       "    </tr>\n",
       "  </tbody>\n",
       "</table>\n",
       "</div>"
      ],
      "text/plain": [
       "          station_name        date  cumulative_sum  dpcapacity_start\n",
       "0  2112 W Peterson Ave  2015-05-17               0              15.0\n",
       "1  2112 W Peterson Ave  2015-05-18               0              15.0\n",
       "2  2112 W Peterson Ave  2015-05-22               0              15.0\n",
       "3  2112 W Peterson Ave  2015-05-23              -1              15.0\n",
       "4  2112 W Peterson Ave  2015-05-25              -1              15.0"
      ]
     },
     "execution_count": 52,
     "metadata": {},
     "output_type": "execute_result"
    }
   ],
   "source": [
    "df_merge_all = df_merge_all.groupby(['station_name','date'])[['cumulative_sum','dpcapacity_start']].max().reset_index()\n",
    "df_merge_all.head()"
   ]
  },
  {
   "cell_type": "code",
   "execution_count": 53,
   "metadata": {},
   "outputs": [],
   "source": [
    "df_merge_all['difference'] = df_merge_all['dpcapacity_start'] - df_merge_all['cumulative_sum']"
   ]
  },
  {
   "cell_type": "code",
   "execution_count": 54,
   "metadata": {
    "scrolled": false
   },
   "outputs": [],
   "source": [
    "# show all stations that exceed capacity\n",
    "df_merge_all[df_merge_all['difference']<0];"
   ]
  },
  {
   "cell_type": "code",
   "execution_count": 55,
   "metadata": {},
   "outputs": [],
   "source": [
    "graph = df_merge_all[np.abs(df_merge_all.difference-df_merge_all.difference.mean()) <= (3*df_merge_all.difference.std())]\n"
   ]
  },
  {
   "cell_type": "code",
   "execution_count": 56,
   "metadata": {
    "scrolled": true
   },
   "outputs": [
    {
     "data": {
      "text/plain": [
       "(array([   357.,    455.,    725.,   1263.,   2784.,   5974.,  10370.,\n",
       "         17486.,  29186.,  52926.,  70793., 117257.,  41825.,  69032.,\n",
       "         46716.,  28946.,  18584.,  13104.,   9101.,   6921.,   5265.,\n",
       "          4022.,   3615.,   4220.,   4882.]),\n",
       " array([-9.  , -7.08, -5.16, -3.24, -1.32,  0.6 ,  2.52,  4.44,  6.36,\n",
       "         8.28, 10.2 , 12.12, 14.04, 15.96, 17.88, 19.8 , 21.72, 23.64,\n",
       "        25.56, 27.48, 29.4 , 31.32, 33.24, 35.16, 37.08, 39.  ]),\n",
       " <a list of 25 Patch objects>)"
      ]
     },
     "execution_count": 56,
     "metadata": {},
     "output_type": "execute_result"
    },
    {
     "data": {
      "image/png": "[encoded data removed]",
      "text/plain": [
       "<Figure size 432x288 with 1 Axes>"
      ]
     },
     "metadata": {},
     "output_type": "display_data"
    }
   ],
   "source": [
    "plt.hist(graph['difference'], bins=25)"
   ]
  },
  {
   "cell_type": "code",
   "execution_count": 57,
   "metadata": {},
   "outputs": [],
   "source": [
    "graph1 = graph[graph['difference']>=0]"
   ]
  },
  {
   "cell_type": "code",
   "execution_count": 58,
   "metadata": {},
   "outputs": [
    {
     "data": {
      "text/plain": [
       "(array([  4296.,   7910.,   5843.,  17486.,  12622.,  38240.,  31250.,\n",
       "         70793., 117257.,  41825.,  69032.,  28720.,  38547.,   8395.,\n",
       "         18584.,   9175.,   9038.,   8699.,   2214.,   5265.,   2709.,\n",
       "          3250.,   1678.,   4220.,   4882.]),\n",
       " array([ 0.  ,  1.56,  3.12,  4.68,  6.24,  7.8 ,  9.36, 10.92, 12.48,\n",
       "        14.04, 15.6 , 17.16, 18.72, 20.28, 21.84, 23.4 , 24.96, 26.52,\n",
       "        28.08, 29.64, 31.2 , 32.76, 34.32, 35.88, 37.44, 39.  ]),\n",
       " <a list of 25 Patch objects>)"
      ]
     },
     "execution_count": 58,
     "metadata": {},
     "output_type": "execute_result"
    },
    {
     "data": {
      "image/png": "[encoded data removed]",
      "text/plain": [
       "<Figure size 432x288 with 1 Axes>"
      ]
     },
     "metadata": {},
     "output_type": "display_data"
    }
   ],
   "source": [
    "plt.hist(graph1['difference'], bins=25)"
   ]
  },
  {
   "cell_type": "code",
   "execution_count": 59,
   "metadata": {},
   "outputs": [
    {
     "name": "stdout",
     "output_type": "stream",
     "text": [
      "<class 'pandas.core.frame.DataFrame'>\n",
      "Int64Index: 6205 entries, 3982 to 572240\n",
      "Data columns (total 5 columns):\n",
      "station_name        6205 non-null object\n",
      "date                6205 non-null object\n",
      "cumulative_sum      6205 non-null int64\n",
      "dpcapacity_start    6205 non-null float64\n",
      "difference          6205 non-null float64\n",
      "dtypes: float64(2), int64(1), object(2)\n",
      "memory usage: 290.9+ KB\n"
     ]
    }
   ],
   "source": [
    "# number of unique station/dates that exceed capacity\n",
    "df_merge_all[df_merge_all['difference']<0].info()"
   ]
  },
  {
   "cell_type": "code",
   "execution_count": 60,
   "metadata": {},
   "outputs": [
    {
     "name": "stdout",
     "output_type": "stream",
     "text": [
      "<class 'pandas.core.frame.DataFrame'>\n",
      "RangeIndex: 576538 entries, 0 to 576537\n",
      "Data columns (total 5 columns):\n",
      "station_name        576538 non-null object\n",
      "date                576538 non-null object\n",
      "cumulative_sum      576538 non-null int64\n",
      "dpcapacity_start    576538 non-null float64\n",
      "difference          576538 non-null float64\n",
      "dtypes: float64(2), int64(1), object(2)\n",
      "memory usage: 22.0+ MB\n"
     ]
    }
   ],
   "source": [
    "# total number of unique station/dates\n",
    "df_merge_all.info()"
   ]
  },
  {
   "cell_type": "markdown",
   "metadata": {},
   "source": [
    "6205 out of 576538 unique stations and dates exceed capacity."
   ]
  },
  {
   "cell_type": "code",
   "execution_count": 61,
   "metadata": {
    "scrolled": true
   },
   "outputs": [
    {
     "data": {
      "text/plain": [
       "221"
      ]
     },
     "execution_count": 61,
     "metadata": {},
     "output_type": "execute_result"
    }
   ],
   "source": [
    "df_merge_all[df_merge_all['difference']<0]['station_name'].nunique()"
   ]
  },
  {
   "cell_type": "markdown",
   "metadata": {},
   "source": [
    "# EDA - Binary"
   ]
  },
  {
   "cell_type": "code",
   "execution_count": 62,
   "metadata": {},
   "outputs": [
    {
     "data": {
      "text/html": [
       "<div>\n",
       "<style scoped>\n",
       "    .dataframe tbody tr th:only-of-type {\n",
       "        vertical-align: middle;\n",
       "    }\n",
       "\n",
       "    .dataframe tbody tr th {\n",
       "        vertical-align: top;\n",
       "    }\n",
       "\n",
       "    .dataframe thead th {\n",
       "        text-align: right;\n",
       "    }\n",
       "</style>\n",
       "<table border=\"1\" class=\"dataframe\">\n",
       "  <thead>\n",
       "    <tr style=\"text-align: right;\">\n",
       "      <th></th>\n",
       "      <th>trip_id</th>\n",
       "      <th>year</th>\n",
       "      <th>month</th>\n",
       "      <th>week</th>\n",
       "      <th>day</th>\n",
       "      <th>hour</th>\n",
       "      <th>num_day_of_week</th>\n",
       "      <th>day_of_week</th>\n",
       "      <th>starttime</th>\n",
       "      <th>stoptime</th>\n",
       "      <th>tripduration</th>\n",
       "      <th>temperature</th>\n",
       "      <th>events</th>\n",
       "      <th>usertype</th>\n",
       "      <th>gender</th>\n",
       "      <th>from_station_id</th>\n",
       "      <th>from_station_name</th>\n",
       "      <th>latitude_start</th>\n",
       "      <th>longitude_start</th>\n",
       "      <th>dpcapacity_start</th>\n",
       "      <th>to_station_id</th>\n",
       "      <th>to_station_name</th>\n",
       "      <th>latitude_end</th>\n",
       "      <th>longitude_end</th>\n",
       "      <th>dpcapacity_end</th>\n",
       "      <th>difference</th>\n",
       "      <th>tripduration_round</th>\n",
       "    </tr>\n",
       "  </thead>\n",
       "  <tbody>\n",
       "    <tr>\n",
       "      <th>576426</th>\n",
       "      <td>1109427</td>\n",
       "      <td>2014</td>\n",
       "      <td>1</td>\n",
       "      <td>1</td>\n",
       "      <td>1</td>\n",
       "      <td>1</td>\n",
       "      <td>2</td>\n",
       "      <td>Wednesday</td>\n",
       "      <td>2014-01-01 01:12:00</td>\n",
       "      <td>2014-01-01 01:18:00</td>\n",
       "      <td>5.766667</td>\n",
       "      <td>10.9</td>\n",
       "      <td>not clear</td>\n",
       "      <td>Subscriber</td>\n",
       "      <td>Male</td>\n",
       "      <td>240</td>\n",
       "      <td>Sheridan Rd &amp; Irving Park Rd</td>\n",
       "      <td>41.954245</td>\n",
       "      <td>-87.654406</td>\n",
       "      <td>23.0</td>\n",
       "      <td>245</td>\n",
       "      <td>Clarendon Ave &amp; Junior Ter</td>\n",
       "      <td>41.961004</td>\n",
       "      <td>-87.649603</td>\n",
       "      <td>15.0</td>\n",
       "      <td>00:06:00</td>\n",
       "      <td>6.0</td>\n",
       "    </tr>\n",
       "    <tr>\n",
       "      <th>576425</th>\n",
       "      <td>1109431</td>\n",
       "      <td>2014</td>\n",
       "      <td>1</td>\n",
       "      <td>1</td>\n",
       "      <td>1</td>\n",
       "      <td>1</td>\n",
       "      <td>2</td>\n",
       "      <td>Wednesday</td>\n",
       "      <td>2014-01-01 01:43:00</td>\n",
       "      <td>2014-01-01 01:53:00</td>\n",
       "      <td>10.833333</td>\n",
       "      <td>10.9</td>\n",
       "      <td>not clear</td>\n",
       "      <td>Subscriber</td>\n",
       "      <td>Male</td>\n",
       "      <td>113</td>\n",
       "      <td>Bissell St &amp; Armitage Ave</td>\n",
       "      <td>41.918440</td>\n",
       "      <td>-87.652220</td>\n",
       "      <td>15.0</td>\n",
       "      <td>94</td>\n",
       "      <td>Clark St &amp; Armitage Ave</td>\n",
       "      <td>41.918306</td>\n",
       "      <td>-87.636282</td>\n",
       "      <td>19.0</td>\n",
       "      <td>00:10:00</td>\n",
       "      <td>11.0</td>\n",
       "    </tr>\n",
       "    <tr>\n",
       "      <th>576424</th>\n",
       "      <td>1109432</td>\n",
       "      <td>2014</td>\n",
       "      <td>1</td>\n",
       "      <td>1</td>\n",
       "      <td>1</td>\n",
       "      <td>1</td>\n",
       "      <td>2</td>\n",
       "      <td>Wednesday</td>\n",
       "      <td>2014-01-01 01:43:00</td>\n",
       "      <td>2014-01-01 01:53:00</td>\n",
       "      <td>10.866667</td>\n",
       "      <td>10.9</td>\n",
       "      <td>not clear</td>\n",
       "      <td>Subscriber</td>\n",
       "      <td>Male</td>\n",
       "      <td>113</td>\n",
       "      <td>Bissell St &amp; Armitage Ave</td>\n",
       "      <td>41.918440</td>\n",
       "      <td>-87.652220</td>\n",
       "      <td>15.0</td>\n",
       "      <td>94</td>\n",
       "      <td>Clark St &amp; Armitage Ave</td>\n",
       "      <td>41.918306</td>\n",
       "      <td>-87.636282</td>\n",
       "      <td>19.0</td>\n",
       "      <td>00:10:00</td>\n",
       "      <td>11.0</td>\n",
       "    </tr>\n",
       "    <tr>\n",
       "      <th>576423</th>\n",
       "      <td>1109434</td>\n",
       "      <td>2014</td>\n",
       "      <td>1</td>\n",
       "      <td>1</td>\n",
       "      <td>1</td>\n",
       "      <td>1</td>\n",
       "      <td>2</td>\n",
       "      <td>Wednesday</td>\n",
       "      <td>2014-01-01 01:44:00</td>\n",
       "      <td>2014-01-01 01:59:00</td>\n",
       "      <td>15.266667</td>\n",
       "      <td>10.9</td>\n",
       "      <td>not clear</td>\n",
       "      <td>Subscriber</td>\n",
       "      <td>Male</td>\n",
       "      <td>50</td>\n",
       "      <td>Clark St &amp; Congress Pkwy</td>\n",
       "      <td>41.875933</td>\n",
       "      <td>-87.630585</td>\n",
       "      <td>27.0</td>\n",
       "      <td>134</td>\n",
       "      <td>Peoria St &amp; Jackson Blvd</td>\n",
       "      <td>41.877749</td>\n",
       "      <td>-87.649633</td>\n",
       "      <td>19.0</td>\n",
       "      <td>00:15:00</td>\n",
       "      <td>15.0</td>\n",
       "    </tr>\n",
       "    <tr>\n",
       "      <th>576422</th>\n",
       "      <td>1109435</td>\n",
       "      <td>2014</td>\n",
       "      <td>1</td>\n",
       "      <td>1</td>\n",
       "      <td>1</td>\n",
       "      <td>1</td>\n",
       "      <td>2</td>\n",
       "      <td>Wednesday</td>\n",
       "      <td>2014-01-01 01:45:00</td>\n",
       "      <td>2014-01-01 02:00:00</td>\n",
       "      <td>15.066667</td>\n",
       "      <td>10.9</td>\n",
       "      <td>not clear</td>\n",
       "      <td>Subscriber</td>\n",
       "      <td>Female</td>\n",
       "      <td>50</td>\n",
       "      <td>Clark St &amp; Congress Pkwy</td>\n",
       "      <td>41.875933</td>\n",
       "      <td>-87.630585</td>\n",
       "      <td>27.0</td>\n",
       "      <td>134</td>\n",
       "      <td>Peoria St &amp; Jackson Blvd</td>\n",
       "      <td>41.877749</td>\n",
       "      <td>-87.649633</td>\n",
       "      <td>19.0</td>\n",
       "      <td>00:15:00</td>\n",
       "      <td>15.0</td>\n",
       "    </tr>\n",
       "  </tbody>\n",
       "</table>\n",
       "</div>"
      ],
      "text/plain": [
       "        trip_id  year  month  week  day  hour  num_day_of_week day_of_week  \\\n",
       "576426  1109427  2014      1     1    1     1                2   Wednesday   \n",
       "576425  1109431  2014      1     1    1     1                2   Wednesday   \n",
       "576424  1109432  2014      1     1    1     1                2   Wednesday   \n",
       "576423  1109434  2014      1     1    1     1                2   Wednesday   \n",
       "576422  1109435  2014      1     1    1     1                2   Wednesday   \n",
       "\n",
       "                 starttime            stoptime  tripduration  temperature  \\\n",
       "576426 2014-01-01 01:12:00 2014-01-01 01:18:00      5.766667         10.9   \n",
       "576425 2014-01-01 01:43:00 2014-01-01 01:53:00     10.833333         10.9   \n",
       "576424 2014-01-01 01:43:00 2014-01-01 01:53:00     10.866667         10.9   \n",
       "576423 2014-01-01 01:44:00 2014-01-01 01:59:00     15.266667         10.9   \n",
       "576422 2014-01-01 01:45:00 2014-01-01 02:00:00     15.066667         10.9   \n",
       "\n",
       "           events    usertype  gender  from_station_id  \\\n",
       "576426  not clear  Subscriber    Male              240   \n",
       "576425  not clear  Subscriber    Male              113   \n",
       "576424  not clear  Subscriber    Male              113   \n",
       "576423  not clear  Subscriber    Male               50   \n",
       "576422  not clear  Subscriber  Female               50   \n",
       "\n",
       "                   from_station_name  latitude_start  longitude_start  \\\n",
       "576426  Sheridan Rd & Irving Park Rd       41.954245       -87.654406   \n",
       "576425     Bissell St & Armitage Ave       41.918440       -87.652220   \n",
       "576424     Bissell St & Armitage Ave       41.918440       -87.652220   \n",
       "576423      Clark St & Congress Pkwy       41.875933       -87.630585   \n",
       "576422      Clark St & Congress Pkwy       41.875933       -87.630585   \n",
       "\n",
       "        dpcapacity_start  to_station_id             to_station_name  \\\n",
       "576426              23.0            245  Clarendon Ave & Junior Ter   \n",
       "576425              15.0             94     Clark St & Armitage Ave   \n",
       "576424              15.0             94     Clark St & Armitage Ave   \n",
       "576423              27.0            134    Peoria St & Jackson Blvd   \n",
       "576422              27.0            134    Peoria St & Jackson Blvd   \n",
       "\n",
       "        latitude_end  longitude_end  dpcapacity_end difference  \\\n",
       "576426     41.961004     -87.649603            15.0   00:06:00   \n",
       "576425     41.918306     -87.636282            19.0   00:10:00   \n",
       "576424     41.918306     -87.636282            19.0   00:10:00   \n",
       "576423     41.877749     -87.649633            19.0   00:15:00   \n",
       "576422     41.877749     -87.649633            19.0   00:15:00   \n",
       "\n",
       "        tripduration_round  \n",
       "576426                 6.0  \n",
       "576425                11.0  \n",
       "576424                11.0  \n",
       "576423                15.0  \n",
       "576422                15.0  "
      ]
     },
     "execution_count": 62,
     "metadata": {},
     "output_type": "execute_result"
    }
   ],
   "source": [
    "binary = data.copy()\n",
    "binary.head()"
   ]
  },
  {
   "cell_type": "code",
   "execution_count": 63,
   "metadata": {
    "scrolled": true
   },
   "outputs": [
    {
     "data": {
      "text/html": [
       "<div>\n",
       "<style scoped>\n",
       "    .dataframe tbody tr th:only-of-type {\n",
       "        vertical-align: middle;\n",
       "    }\n",
       "\n",
       "    .dataframe tbody tr th {\n",
       "        vertical-align: top;\n",
       "    }\n",
       "\n",
       "    .dataframe thead th {\n",
       "        text-align: right;\n",
       "    }\n",
       "</style>\n",
       "<table border=\"1\" class=\"dataframe\">\n",
       "  <thead>\n",
       "    <tr style=\"text-align: right;\">\n",
       "      <th></th>\n",
       "      <th>trip_id</th>\n",
       "      <th>year</th>\n",
       "      <th>month</th>\n",
       "      <th>week</th>\n",
       "      <th>day</th>\n",
       "      <th>hour</th>\n",
       "      <th>num_day_of_week</th>\n",
       "      <th>day_of_week</th>\n",
       "      <th>starttime</th>\n",
       "      <th>stoptime</th>\n",
       "      <th>tripduration</th>\n",
       "      <th>temperature</th>\n",
       "      <th>events</th>\n",
       "      <th>usertype</th>\n",
       "      <th>gender</th>\n",
       "      <th>from_station_id</th>\n",
       "      <th>from_station_name</th>\n",
       "      <th>latitude_start</th>\n",
       "      <th>longitude_start</th>\n",
       "      <th>dpcapacity_start</th>\n",
       "      <th>to_station_id</th>\n",
       "      <th>to_station_name</th>\n",
       "      <th>latitude_end</th>\n",
       "      <th>longitude_end</th>\n",
       "      <th>dpcapacity_end</th>\n",
       "      <th>difference</th>\n",
       "      <th>tripduration_round</th>\n",
       "      <th>start_hour</th>\n",
       "      <th>end_hour</th>\n",
       "      <th>across_day_count</th>\n",
       "    </tr>\n",
       "  </thead>\n",
       "  <tbody>\n",
       "    <tr>\n",
       "      <th>576426</th>\n",
       "      <td>1109427</td>\n",
       "      <td>2014</td>\n",
       "      <td>1</td>\n",
       "      <td>1</td>\n",
       "      <td>1</td>\n",
       "      <td>1</td>\n",
       "      <td>2</td>\n",
       "      <td>Wednesday</td>\n",
       "      <td>2014-01-01 01:12:00</td>\n",
       "      <td>2014-01-01 01:18:00</td>\n",
       "      <td>5.766667</td>\n",
       "      <td>10.9</td>\n",
       "      <td>not clear</td>\n",
       "      <td>Subscriber</td>\n",
       "      <td>Male</td>\n",
       "      <td>240</td>\n",
       "      <td>Sheridan Rd &amp; Irving Park Rd</td>\n",
       "      <td>41.954245</td>\n",
       "      <td>-87.654406</td>\n",
       "      <td>23.0</td>\n",
       "      <td>245</td>\n",
       "      <td>Clarendon Ave &amp; Junior Ter</td>\n",
       "      <td>41.961004</td>\n",
       "      <td>-87.649603</td>\n",
       "      <td>15.0</td>\n",
       "      <td>00:06:00</td>\n",
       "      <td>6.0</td>\n",
       "      <td>1</td>\n",
       "      <td>1</td>\n",
       "      <td>0</td>\n",
       "    </tr>\n",
       "    <tr>\n",
       "      <th>576425</th>\n",
       "      <td>1109431</td>\n",
       "      <td>2014</td>\n",
       "      <td>1</td>\n",
       "      <td>1</td>\n",
       "      <td>1</td>\n",
       "      <td>1</td>\n",
       "      <td>2</td>\n",
       "      <td>Wednesday</td>\n",
       "      <td>2014-01-01 01:43:00</td>\n",
       "      <td>2014-01-01 01:53:00</td>\n",
       "      <td>10.833333</td>\n",
       "      <td>10.9</td>\n",
       "      <td>not clear</td>\n",
       "      <td>Subscriber</td>\n",
       "      <td>Male</td>\n",
       "      <td>113</td>\n",
       "      <td>Bissell St &amp; Armitage Ave</td>\n",
       "      <td>41.918440</td>\n",
       "      <td>-87.652220</td>\n",
       "      <td>15.0</td>\n",
       "      <td>94</td>\n",
       "      <td>Clark St &amp; Armitage Ave</td>\n",
       "      <td>41.918306</td>\n",
       "      <td>-87.636282</td>\n",
       "      <td>19.0</td>\n",
       "      <td>00:10:00</td>\n",
       "      <td>11.0</td>\n",
       "      <td>1</td>\n",
       "      <td>1</td>\n",
       "      <td>0</td>\n",
       "    </tr>\n",
       "    <tr>\n",
       "      <th>576424</th>\n",
       "      <td>1109432</td>\n",
       "      <td>2014</td>\n",
       "      <td>1</td>\n",
       "      <td>1</td>\n",
       "      <td>1</td>\n",
       "      <td>1</td>\n",
       "      <td>2</td>\n",
       "      <td>Wednesday</td>\n",
       "      <td>2014-01-01 01:43:00</td>\n",
       "      <td>2014-01-01 01:53:00</td>\n",
       "      <td>10.866667</td>\n",
       "      <td>10.9</td>\n",
       "      <td>not clear</td>\n",
       "      <td>Subscriber</td>\n",
       "      <td>Male</td>\n",
       "      <td>113</td>\n",
       "      <td>Bissell St &amp; Armitage Ave</td>\n",
       "      <td>41.918440</td>\n",
       "      <td>-87.652220</td>\n",
       "      <td>15.0</td>\n",
       "      <td>94</td>\n",
       "      <td>Clark St &amp; Armitage Ave</td>\n",
       "      <td>41.918306</td>\n",
       "      <td>-87.636282</td>\n",
       "      <td>19.0</td>\n",
       "      <td>00:10:00</td>\n",
       "      <td>11.0</td>\n",
       "      <td>1</td>\n",
       "      <td>1</td>\n",
       "      <td>0</td>\n",
       "    </tr>\n",
       "    <tr>\n",
       "      <th>576423</th>\n",
       "      <td>1109434</td>\n",
       "      <td>2014</td>\n",
       "      <td>1</td>\n",
       "      <td>1</td>\n",
       "      <td>1</td>\n",
       "      <td>1</td>\n",
       "      <td>2</td>\n",
       "      <td>Wednesday</td>\n",
       "      <td>2014-01-01 01:44:00</td>\n",
       "      <td>2014-01-01 01:59:00</td>\n",
       "      <td>15.266667</td>\n",
       "      <td>10.9</td>\n",
       "      <td>not clear</td>\n",
       "      <td>Subscriber</td>\n",
       "      <td>Male</td>\n",
       "      <td>50</td>\n",
       "      <td>Clark St &amp; Congress Pkwy</td>\n",
       "      <td>41.875933</td>\n",
       "      <td>-87.630585</td>\n",
       "      <td>27.0</td>\n",
       "      <td>134</td>\n",
       "      <td>Peoria St &amp; Jackson Blvd</td>\n",
       "      <td>41.877749</td>\n",
       "      <td>-87.649633</td>\n",
       "      <td>19.0</td>\n",
       "      <td>00:15:00</td>\n",
       "      <td>15.0</td>\n",
       "      <td>1</td>\n",
       "      <td>1</td>\n",
       "      <td>0</td>\n",
       "    </tr>\n",
       "    <tr>\n",
       "      <th>576422</th>\n",
       "      <td>1109435</td>\n",
       "      <td>2014</td>\n",
       "      <td>1</td>\n",
       "      <td>1</td>\n",
       "      <td>1</td>\n",
       "      <td>1</td>\n",
       "      <td>2</td>\n",
       "      <td>Wednesday</td>\n",
       "      <td>2014-01-01 01:45:00</td>\n",
       "      <td>2014-01-01 02:00:00</td>\n",
       "      <td>15.066667</td>\n",
       "      <td>10.9</td>\n",
       "      <td>not clear</td>\n",
       "      <td>Subscriber</td>\n",
       "      <td>Female</td>\n",
       "      <td>50</td>\n",
       "      <td>Clark St &amp; Congress Pkwy</td>\n",
       "      <td>41.875933</td>\n",
       "      <td>-87.630585</td>\n",
       "      <td>27.0</td>\n",
       "      <td>134</td>\n",
       "      <td>Peoria St &amp; Jackson Blvd</td>\n",
       "      <td>41.877749</td>\n",
       "      <td>-87.649633</td>\n",
       "      <td>19.0</td>\n",
       "      <td>00:15:00</td>\n",
       "      <td>15.0</td>\n",
       "      <td>1</td>\n",
       "      <td>2</td>\n",
       "      <td>0</td>\n",
       "    </tr>\n",
       "  </tbody>\n",
       "</table>\n",
       "</div>"
      ],
      "text/plain": [
       "        trip_id  year  month  week  day  hour  num_day_of_week day_of_week  \\\n",
       "576426  1109427  2014      1     1    1     1                2   Wednesday   \n",
       "576425  1109431  2014      1     1    1     1                2   Wednesday   \n",
       "576424  1109432  2014      1     1    1     1                2   Wednesday   \n",
       "576423  1109434  2014      1     1    1     1                2   Wednesday   \n",
       "576422  1109435  2014      1     1    1     1                2   Wednesday   \n",
       "\n",
       "                 starttime            stoptime  tripduration  temperature  \\\n",
       "576426 2014-01-01 01:12:00 2014-01-01 01:18:00      5.766667         10.9   \n",
       "576425 2014-01-01 01:43:00 2014-01-01 01:53:00     10.833333         10.9   \n",
       "576424 2014-01-01 01:43:00 2014-01-01 01:53:00     10.866667         10.9   \n",
       "576423 2014-01-01 01:44:00 2014-01-01 01:59:00     15.266667         10.9   \n",
       "576422 2014-01-01 01:45:00 2014-01-01 02:00:00     15.066667         10.9   \n",
       "\n",
       "           events    usertype  gender  from_station_id  \\\n",
       "576426  not clear  Subscriber    Male              240   \n",
       "576425  not clear  Subscriber    Male              113   \n",
       "576424  not clear  Subscriber    Male              113   \n",
       "576423  not clear  Subscriber    Male               50   \n",
       "576422  not clear  Subscriber  Female               50   \n",
       "\n",
       "                   from_station_name  latitude_start  longitude_start  \\\n",
       "576426  Sheridan Rd & Irving Park Rd       41.954245       -87.654406   \n",
       "576425     Bissell St & Armitage Ave       41.918440       -87.652220   \n",
       "576424     Bissell St & Armitage Ave       41.918440       -87.652220   \n",
       "576423      Clark St & Congress Pkwy       41.875933       -87.630585   \n",
       "576422      Clark St & Congress Pkwy       41.875933       -87.630585   \n",
       "\n",
       "        dpcapacity_start  to_station_id             to_station_name  \\\n",
       "576426              23.0            245  Clarendon Ave & Junior Ter   \n",
       "576425              15.0             94     Clark St & Armitage Ave   \n",
       "576424              15.0             94     Clark St & Armitage Ave   \n",
       "576423              27.0            134    Peoria St & Jackson Blvd   \n",
       "576422              27.0            134    Peoria St & Jackson Blvd   \n",
       "\n",
       "        latitude_end  longitude_end  dpcapacity_end difference  \\\n",
       "576426     41.961004     -87.649603            15.0   00:06:00   \n",
       "576425     41.918306     -87.636282            19.0   00:10:00   \n",
       "576424     41.918306     -87.636282            19.0   00:10:00   \n",
       "576423     41.877749     -87.649633            19.0   00:15:00   \n",
       "576422     41.877749     -87.649633            19.0   00:15:00   \n",
       "\n",
       "        tripduration_round  start_hour  end_hour  across_day_count  \n",
       "576426                 6.0           1         1                 0  \n",
       "576425                11.0           1         1                 0  \n",
       "576424                11.0           1         1                 0  \n",
       "576423                15.0           1         1                 0  \n",
       "576422                15.0           1         2                 0  "
      ]
     },
     "execution_count": 63,
     "metadata": {},
     "output_type": "execute_result"
    }
   ],
   "source": [
    "binary['start_hour'] = binary.starttime.dt.hour\n",
    "binary['end_hour'] = binary.stoptime.dt.hour\n",
    "binary['across_day_count'] = binary['stoptime'].dt.day - binary['starttime'].dt.day\n",
    "binary.head()"
   ]
  },
  {
   "cell_type": "code",
   "execution_count": 64,
   "metadata": {},
   "outputs": [
    {
     "data": {
      "text/plain": [
       "60.0"
      ]
     },
     "execution_count": 64,
     "metadata": {},
     "output_type": "execute_result"
    }
   ],
   "source": [
    "# longest trip duration\n",
    "binary['tripduration_round'].max()"
   ]
  },
  {
   "cell_type": "markdown",
   "metadata": {},
   "source": [
    "The longest trip duration is 60 minutes, therefore each trip can only fall across two hours maxiumum."
   ]
  },
  {
   "cell_type": "code",
   "execution_count": 65,
   "metadata": {},
   "outputs": [],
   "source": [
    "# create binary columns for each hour of the day, 1 if the trip falls in that hour, 0 if it does not\n",
    "binary['hour_0'] = np.where(((binary.start_hour <= 0) & (binary.end_hour >= 0)) | \n",
    "                            ((binary.start_hour == 23) & (binary.end_hour == 0)), 1, 0)\n",
    "binary['hour_1'] = np.where(((binary.start_hour <= 1) & (binary.end_hour >= 1)), 1, 0)\n",
    "binary['hour_2'] = np.where(((binary.start_hour <= 2) & (binary.end_hour >= 2)), 1, 0)\n",
    "binary['hour_3'] = np.where(((binary.start_hour <= 3) & (binary.end_hour >= 3)), 1, 0)\n",
    "binary['hour_4'] = np.where(((binary.start_hour <= 4) & (binary.end_hour >= 4)), 1, 0)\n",
    "binary['hour_5'] = np.where(((binary.start_hour <= 5) & (binary.end_hour >= 5)), 1, 0)\n",
    "binary['hour_6'] = np.where(((binary.start_hour <= 6) & (binary.end_hour >= 6)), 1, 0)\n",
    "binary['hour_7'] = np.where(((binary.start_hour <= 7) & (binary.end_hour >= 7)), 1, 0)\n",
    "binary['hour_8'] = np.where(((binary.start_hour <= 8) & (binary.end_hour >= 8)), 1, 0)\n",
    "binary['hour_9'] = np.where(((binary.start_hour <= 9) & (binary.end_hour >= 9)), 1, 0)\n",
    "binary['hour_10'] = np.where(((binary.start_hour <= 10) & (binary.end_hour >= 10)), 1, 0)\n",
    "binary['hour_11'] = np.where(((binary.start_hour <= 11) & (binary.end_hour >= 11)), 1, 0)\n",
    "binary['hour_12'] = np.where(((binary.start_hour <= 12) & (binary.end_hour >= 12)), 1, 0)\n",
    "binary['hour_13'] = np.where(((binary.start_hour <= 13) & (binary.end_hour >= 13)), 1, 0)\n",
    "binary['hour_14'] = np.where(((binary.start_hour <= 14) & (binary.end_hour >= 14)), 1, 0)\n",
    "binary['hour_15'] = np.where(((binary.start_hour <= 15) & (binary.end_hour >= 15)), 1, 0)\n",
    "binary['hour_16'] = np.where(((binary.start_hour <= 16) & (binary.end_hour >= 16)), 1, 0)\n",
    "binary['hour_17'] = np.where(((binary.start_hour <= 17) & (binary.end_hour >= 17)), 1, 0)\n",
    "binary['hour_18'] = np.where(((binary.start_hour <= 18) & (binary.end_hour >= 18)), 1, 0)\n",
    "binary['hour_19'] = np.where(((binary.start_hour <= 19) & (binary.end_hour >= 19)), 1, 0)\n",
    "binary['hour_20'] = np.where(((binary.start_hour <= 20) & (binary.end_hour >= 20)), 1, 0)\n",
    "binary['hour_21'] = np.where(((binary.start_hour <= 21) & (binary.end_hour >= 21)), 1, 0)\n",
    "binary['hour_22'] = np.where(((binary.start_hour <= 22) & (binary.end_hour >= 22)), 1, 0)\n",
    "binary['hour_23'] = np.where(((binary.start_hour <= 23) & (binary.end_hour >= 23)) | \n",
    "                            ((binary.start_hour == 23) & (binary.end_hour == 0)), 1, 0)\n",
    "\n"
   ]
  },
  {
   "cell_type": "code",
   "execution_count": 66,
   "metadata": {},
   "outputs": [],
   "source": [
    "pd.set_option('display.max_columns', 55)\n",
    "binary;"
   ]
  },
  {
   "cell_type": "code",
   "execution_count": 67,
   "metadata": {},
   "outputs": [
    {
     "data": {
      "text/plain": [
       " 0     9479382\n",
       " 1       15299\n",
       "-30        313\n",
       "-29        183\n",
       "-27          8\n",
       "-28          3\n",
       "Name: across_day_count, dtype: int64"
      ]
     },
     "execution_count": 67,
     "metadata": {},
     "output_type": "execute_result"
    }
   ],
   "source": [
    "binary['across_day_count'].value_counts()"
   ]
  },
  {
   "cell_type": "code",
   "execution_count": 68,
   "metadata": {},
   "outputs": [
    {
     "data": {
      "text/html": [
       "<div>\n",
       "<style scoped>\n",
       "    .dataframe tbody tr th:only-of-type {\n",
       "        vertical-align: middle;\n",
       "    }\n",
       "\n",
       "    .dataframe tbody tr th {\n",
       "        vertical-align: top;\n",
       "    }\n",
       "\n",
       "    .dataframe thead th {\n",
       "        text-align: right;\n",
       "    }\n",
       "</style>\n",
       "<table border=\"1\" class=\"dataframe\">\n",
       "  <thead>\n",
       "    <tr style=\"text-align: right;\">\n",
       "      <th></th>\n",
       "      <th>starttime</th>\n",
       "      <th>stoptime</th>\n",
       "      <th>hour_23</th>\n",
       "    </tr>\n",
       "  </thead>\n",
       "  <tbody>\n",
       "    <tr>\n",
       "      <th>576332</th>\n",
       "      <td>2014-01-01 23:13:00</td>\n",
       "      <td>2014-01-01 23:18:00</td>\n",
       "      <td>1</td>\n",
       "    </tr>\n",
       "    <tr>\n",
       "      <th>576035</th>\n",
       "      <td>2014-01-04 23:19:00</td>\n",
       "      <td>2014-01-04 23:33:00</td>\n",
       "      <td>1</td>\n",
       "    </tr>\n",
       "    <tr>\n",
       "      <th>576034</th>\n",
       "      <td>2014-01-04 23:22:00</td>\n",
       "      <td>2014-01-04 23:32:00</td>\n",
       "      <td>1</td>\n",
       "    </tr>\n",
       "    <tr>\n",
       "      <th>575188</th>\n",
       "      <td>2014-01-09 22:40:00</td>\n",
       "      <td>2014-01-09 23:05:00</td>\n",
       "      <td>1</td>\n",
       "    </tr>\n",
       "    <tr>\n",
       "      <th>575187</th>\n",
       "      <td>2014-01-09 22:45:00</td>\n",
       "      <td>2014-01-09 23:02:00</td>\n",
       "      <td>1</td>\n",
       "    </tr>\n",
       "  </tbody>\n",
       "</table>\n",
       "</div>"
      ],
      "text/plain": [
       "                 starttime            stoptime  hour_23\n",
       "576332 2014-01-01 23:13:00 2014-01-01 23:18:00        1\n",
       "576035 2014-01-04 23:19:00 2014-01-04 23:33:00        1\n",
       "576034 2014-01-04 23:22:00 2014-01-04 23:32:00        1\n",
       "575188 2014-01-09 22:40:00 2014-01-09 23:05:00        1\n",
       "575187 2014-01-09 22:45:00 2014-01-09 23:02:00        1"
      ]
     },
     "execution_count": 68,
     "metadata": {},
     "output_type": "execute_result"
    }
   ],
   "source": [
    "pd.set_option('display.max_rows', 1000)\n",
    "binary[binary['hour_23']==1][['starttime','stoptime','hour_23']].head()"
   ]
  },
  {
   "cell_type": "code",
   "execution_count": 69,
   "metadata": {},
   "outputs": [],
   "source": [
    "hourly_trip_count = binary.loc[:, 'hour_0':'hour_23'].sum()\n"
   ]
  },
  {
   "cell_type": "code",
   "execution_count": 70,
   "metadata": {},
   "outputs": [
    {
     "data": {
      "text/plain": [
       "Text(0,0.5,'Frequency')"
      ]
     },
     "execution_count": 70,
     "metadata": {},
     "output_type": "execute_result"
    },
    {
     "data": {
      "image/png": "[encoded data removed]",
      "text/plain": [
       "<Figure size 432x288 with 1 Axes>"
      ]
     },
     "metadata": {},
     "output_type": "display_data"
    }
   ],
   "source": [
    "hourly_trip_count.plot(kind='bar')\n",
    "plt.title('Trip Counts by Hour')\n",
    "plt.xlabel('Hour')\n",
    "plt.ylabel('Frequency')"
   ]
  },
  {
   "cell_type": "markdown",
   "metadata": {},
   "source": [
    "# Hypothesis Testing"
   ]
  },
  {
   "cell_type": "markdown",
   "metadata": {},
   "source": [
    "Welch's T test used for the following tests since there is a violation of the assumption of equal variances. (Occurs when parameter of equal_var=False)"
   ]
  },
  {
   "cell_type": "code",
   "execution_count": 71,
   "metadata": {},
   "outputs": [
    {
     "data": {
      "text/html": [
       "<div>\n",
       "<style scoped>\n",
       "    .dataframe tbody tr th:only-of-type {\n",
       "        vertical-align: middle;\n",
       "    }\n",
       "\n",
       "    .dataframe tbody tr th {\n",
       "        vertical-align: top;\n",
       "    }\n",
       "\n",
       "    .dataframe thead th {\n",
       "        text-align: right;\n",
       "    }\n",
       "</style>\n",
       "<table border=\"1\" class=\"dataframe\">\n",
       "  <thead>\n",
       "    <tr style=\"text-align: right;\">\n",
       "      <th></th>\n",
       "      <th>trip_id</th>\n",
       "      <th>year</th>\n",
       "      <th>month</th>\n",
       "      <th>week</th>\n",
       "      <th>day</th>\n",
       "      <th>hour</th>\n",
       "      <th>num_day_of_week</th>\n",
       "      <th>day_of_week</th>\n",
       "      <th>starttime</th>\n",
       "      <th>stoptime</th>\n",
       "      <th>tripduration</th>\n",
       "      <th>temperature</th>\n",
       "      <th>events</th>\n",
       "      <th>usertype</th>\n",
       "      <th>gender</th>\n",
       "      <th>from_station_id</th>\n",
       "      <th>from_station_name</th>\n",
       "      <th>latitude_start</th>\n",
       "      <th>longitude_start</th>\n",
       "      <th>dpcapacity_start</th>\n",
       "      <th>to_station_id</th>\n",
       "      <th>to_station_name</th>\n",
       "      <th>latitude_end</th>\n",
       "      <th>longitude_end</th>\n",
       "      <th>dpcapacity_end</th>\n",
       "      <th>difference</th>\n",
       "      <th>tripduration_round</th>\n",
       "    </tr>\n",
       "  </thead>\n",
       "  <tbody>\n",
       "    <tr>\n",
       "      <th>576426</th>\n",
       "      <td>1109427</td>\n",
       "      <td>2014</td>\n",
       "      <td>1</td>\n",
       "      <td>1</td>\n",
       "      <td>1</td>\n",
       "      <td>1</td>\n",
       "      <td>2</td>\n",
       "      <td>Wednesday</td>\n",
       "      <td>2014-01-01 01:12:00</td>\n",
       "      <td>2014-01-01 01:18:00</td>\n",
       "      <td>5.766667</td>\n",
       "      <td>10.9</td>\n",
       "      <td>not clear</td>\n",
       "      <td>Subscriber</td>\n",
       "      <td>Male</td>\n",
       "      <td>240</td>\n",
       "      <td>Sheridan Rd &amp; Irving Park Rd</td>\n",
       "      <td>41.954245</td>\n",
       "      <td>-87.654406</td>\n",
       "      <td>23.0</td>\n",
       "      <td>245</td>\n",
       "      <td>Clarendon Ave &amp; Junior Ter</td>\n",
       "      <td>41.961004</td>\n",
       "      <td>-87.649603</td>\n",
       "      <td>15.0</td>\n",
       "      <td>00:06:00</td>\n",
       "      <td>6.0</td>\n",
       "    </tr>\n",
       "    <tr>\n",
       "      <th>576425</th>\n",
       "      <td>1109431</td>\n",
       "      <td>2014</td>\n",
       "      <td>1</td>\n",
       "      <td>1</td>\n",
       "      <td>1</td>\n",
       "      <td>1</td>\n",
       "      <td>2</td>\n",
       "      <td>Wednesday</td>\n",
       "      <td>2014-01-01 01:43:00</td>\n",
       "      <td>2014-01-01 01:53:00</td>\n",
       "      <td>10.833333</td>\n",
       "      <td>10.9</td>\n",
       "      <td>not clear</td>\n",
       "      <td>Subscriber</td>\n",
       "      <td>Male</td>\n",
       "      <td>113</td>\n",
       "      <td>Bissell St &amp; Armitage Ave</td>\n",
       "      <td>41.918440</td>\n",
       "      <td>-87.652220</td>\n",
       "      <td>15.0</td>\n",
       "      <td>94</td>\n",
       "      <td>Clark St &amp; Armitage Ave</td>\n",
       "      <td>41.918306</td>\n",
       "      <td>-87.636282</td>\n",
       "      <td>19.0</td>\n",
       "      <td>00:10:00</td>\n",
       "      <td>11.0</td>\n",
       "    </tr>\n",
       "    <tr>\n",
       "      <th>576424</th>\n",
       "      <td>1109432</td>\n",
       "      <td>2014</td>\n",
       "      <td>1</td>\n",
       "      <td>1</td>\n",
       "      <td>1</td>\n",
       "      <td>1</td>\n",
       "      <td>2</td>\n",
       "      <td>Wednesday</td>\n",
       "      <td>2014-01-01 01:43:00</td>\n",
       "      <td>2014-01-01 01:53:00</td>\n",
       "      <td>10.866667</td>\n",
       "      <td>10.9</td>\n",
       "      <td>not clear</td>\n",
       "      <td>Subscriber</td>\n",
       "      <td>Male</td>\n",
       "      <td>113</td>\n",
       "      <td>Bissell St &amp; Armitage Ave</td>\n",
       "      <td>41.918440</td>\n",
       "      <td>-87.652220</td>\n",
       "      <td>15.0</td>\n",
       "      <td>94</td>\n",
       "      <td>Clark St &amp; Armitage Ave</td>\n",
       "      <td>41.918306</td>\n",
       "      <td>-87.636282</td>\n",
       "      <td>19.0</td>\n",
       "      <td>00:10:00</td>\n",
       "      <td>11.0</td>\n",
       "    </tr>\n",
       "    <tr>\n",
       "      <th>576423</th>\n",
       "      <td>1109434</td>\n",
       "      <td>2014</td>\n",
       "      <td>1</td>\n",
       "      <td>1</td>\n",
       "      <td>1</td>\n",
       "      <td>1</td>\n",
       "      <td>2</td>\n",
       "      <td>Wednesday</td>\n",
       "      <td>2014-01-01 01:44:00</td>\n",
       "      <td>2014-01-01 01:59:00</td>\n",
       "      <td>15.266667</td>\n",
       "      <td>10.9</td>\n",
       "      <td>not clear</td>\n",
       "      <td>Subscriber</td>\n",
       "      <td>Male</td>\n",
       "      <td>50</td>\n",
       "      <td>Clark St &amp; Congress Pkwy</td>\n",
       "      <td>41.875933</td>\n",
       "      <td>-87.630585</td>\n",
       "      <td>27.0</td>\n",
       "      <td>134</td>\n",
       "      <td>Peoria St &amp; Jackson Blvd</td>\n",
       "      <td>41.877749</td>\n",
       "      <td>-87.649633</td>\n",
       "      <td>19.0</td>\n",
       "      <td>00:15:00</td>\n",
       "      <td>15.0</td>\n",
       "    </tr>\n",
       "    <tr>\n",
       "      <th>576422</th>\n",
       "      <td>1109435</td>\n",
       "      <td>2014</td>\n",
       "      <td>1</td>\n",
       "      <td>1</td>\n",
       "      <td>1</td>\n",
       "      <td>1</td>\n",
       "      <td>2</td>\n",
       "      <td>Wednesday</td>\n",
       "      <td>2014-01-01 01:45:00</td>\n",
       "      <td>2014-01-01 02:00:00</td>\n",
       "      <td>15.066667</td>\n",
       "      <td>10.9</td>\n",
       "      <td>not clear</td>\n",
       "      <td>Subscriber</td>\n",
       "      <td>Female</td>\n",
       "      <td>50</td>\n",
       "      <td>Clark St &amp; Congress Pkwy</td>\n",
       "      <td>41.875933</td>\n",
       "      <td>-87.630585</td>\n",
       "      <td>27.0</td>\n",
       "      <td>134</td>\n",
       "      <td>Peoria St &amp; Jackson Blvd</td>\n",
       "      <td>41.877749</td>\n",
       "      <td>-87.649633</td>\n",
       "      <td>19.0</td>\n",
       "      <td>00:15:00</td>\n",
       "      <td>15.0</td>\n",
       "    </tr>\n",
       "  </tbody>\n",
       "</table>\n",
       "</div>"
      ],
      "text/plain": [
       "        trip_id  year  month  week  day  hour  num_day_of_week day_of_week  \\\n",
       "576426  1109427  2014      1     1    1     1                2   Wednesday   \n",
       "576425  1109431  2014      1     1    1     1                2   Wednesday   \n",
       "576424  1109432  2014      1     1    1     1                2   Wednesday   \n",
       "576423  1109434  2014      1     1    1     1                2   Wednesday   \n",
       "576422  1109435  2014      1     1    1     1                2   Wednesday   \n",
       "\n",
       "                 starttime            stoptime  tripduration  temperature  \\\n",
       "576426 2014-01-01 01:12:00 2014-01-01 01:18:00      5.766667         10.9   \n",
       "576425 2014-01-01 01:43:00 2014-01-01 01:53:00     10.833333         10.9   \n",
       "576424 2014-01-01 01:43:00 2014-01-01 01:53:00     10.866667         10.9   \n",
       "576423 2014-01-01 01:44:00 2014-01-01 01:59:00     15.266667         10.9   \n",
       "576422 2014-01-01 01:45:00 2014-01-01 02:00:00     15.066667         10.9   \n",
       "\n",
       "           events    usertype  gender  from_station_id  \\\n",
       "576426  not clear  Subscriber    Male              240   \n",
       "576425  not clear  Subscriber    Male              113   \n",
       "576424  not clear  Subscriber    Male              113   \n",
       "576423  not clear  Subscriber    Male               50   \n",
       "576422  not clear  Subscriber  Female               50   \n",
       "\n",
       "                   from_station_name  latitude_start  longitude_start  \\\n",
       "576426  Sheridan Rd & Irving Park Rd       41.954245       -87.654406   \n",
       "576425     Bissell St & Armitage Ave       41.918440       -87.652220   \n",
       "576424     Bissell St & Armitage Ave       41.918440       -87.652220   \n",
       "576423      Clark St & Congress Pkwy       41.875933       -87.630585   \n",
       "576422      Clark St & Congress Pkwy       41.875933       -87.630585   \n",
       "\n",
       "        dpcapacity_start  to_station_id             to_station_name  \\\n",
       "576426              23.0            245  Clarendon Ave & Junior Ter   \n",
       "576425              15.0             94     Clark St & Armitage Ave   \n",
       "576424              15.0             94     Clark St & Armitage Ave   \n",
       "576423              27.0            134    Peoria St & Jackson Blvd   \n",
       "576422              27.0            134    Peoria St & Jackson Blvd   \n",
       "\n",
       "        latitude_end  longitude_end  dpcapacity_end difference  \\\n",
       "576426     41.961004     -87.649603            15.0   00:06:00   \n",
       "576425     41.918306     -87.636282            19.0   00:10:00   \n",
       "576424     41.918306     -87.636282            19.0   00:10:00   \n",
       "576423     41.877749     -87.649633            19.0   00:15:00   \n",
       "576422     41.877749     -87.649633            19.0   00:15:00   \n",
       "\n",
       "        tripduration_round  \n",
       "576426                 6.0  \n",
       "576425                11.0  \n",
       "576424                11.0  \n",
       "576423                15.0  \n",
       "576422                15.0  "
      ]
     },
     "execution_count": 71,
     "metadata": {},
     "output_type": "execute_result"
    }
   ],
   "source": [
    "data.head()"
   ]
  },
  {
   "cell_type": "code",
   "execution_count": 72,
   "metadata": {},
   "outputs": [
    {
     "data": {
      "text/plain": [
       "11.446859447823773"
      ]
     },
     "execution_count": 72,
     "metadata": {},
     "output_type": "execute_result"
    }
   ],
   "source": [
    "# mean trip length\n",
    "np.mean(data['tripduration'])"
   ]
  },
  {
   "cell_type": "code",
   "execution_count": 73,
   "metadata": {
    "scrolled": true
   },
   "outputs": [
    {
     "data": {
      "text/plain": [
       "9.633333333333333"
      ]
     },
     "execution_count": 73,
     "metadata": {},
     "output_type": "execute_result"
    }
   ],
   "source": [
    "# median trip length\n",
    "np.median(data['tripduration'])"
   ]
  },
  {
   "cell_type": "code",
   "execution_count": 74,
   "metadata": {},
   "outputs": [],
   "source": [
    "male = data[data['gender']=='Male'].reset_index()\n",
    "female = data[data['gender']=='Female'].reset_index()"
   ]
  },
  {
   "cell_type": "code",
   "execution_count": 75,
   "metadata": {},
   "outputs": [
    {
     "data": {
      "text/plain": [
       "<matplotlib.axes._subplots.AxesSubplot at 0x115a57eb8>"
      ]
     },
     "execution_count": 75,
     "metadata": {},
     "output_type": "execute_result"
    },
    {
     "data": {
      "image/png": "[encoded data removed]",
      "text/plain": [
       "<Figure size 432x288 with 1 Axes>"
      ]
     },
     "metadata": {},
     "output_type": "display_data"
    }
   ],
   "source": [
    "# boxplot of trip duration\n",
    "data.boxplot(by='gender', column='tripduration')"
   ]
  },
  {
   "cell_type": "markdown",
   "metadata": {},
   "source": [
    "#### Q: Is there a significant difference in trip duration between male and female riders?"
   ]
  },
  {
   "cell_type": "code",
   "execution_count": 76,
   "metadata": {
    "scrolled": true
   },
   "outputs": [
    {
     "data": {
      "text/html": [
       "<div>\n",
       "<style scoped>\n",
       "    .dataframe tbody tr th:only-of-type {\n",
       "        vertical-align: middle;\n",
       "    }\n",
       "\n",
       "    .dataframe tbody tr th {\n",
       "        vertical-align: top;\n",
       "    }\n",
       "\n",
       "    .dataframe thead th {\n",
       "        text-align: right;\n",
       "    }\n",
       "</style>\n",
       "<table border=\"1\" class=\"dataframe\">\n",
       "  <thead>\n",
       "    <tr style=\"text-align: right;\">\n",
       "      <th></th>\n",
       "      <th>count</th>\n",
       "      <th>mean</th>\n",
       "      <th>std</th>\n",
       "      <th>min</th>\n",
       "      <th>25%</th>\n",
       "      <th>50%</th>\n",
       "      <th>75%</th>\n",
       "      <th>max</th>\n",
       "    </tr>\n",
       "    <tr>\n",
       "      <th>gender</th>\n",
       "      <th></th>\n",
       "      <th></th>\n",
       "      <th></th>\n",
       "      <th></th>\n",
       "      <th></th>\n",
       "      <th></th>\n",
       "      <th></th>\n",
       "      <th></th>\n",
       "    </tr>\n",
       "  </thead>\n",
       "  <tbody>\n",
       "    <tr>\n",
       "      <th>Female</th>\n",
       "      <td>2378660.0</td>\n",
       "      <td>12.779739</td>\n",
       "      <td>7.688283</td>\n",
       "      <td>2.0</td>\n",
       "      <td>6.900000</td>\n",
       "      <td>11.083333</td>\n",
       "      <td>17.100000</td>\n",
       "      <td>60.0</td>\n",
       "    </tr>\n",
       "    <tr>\n",
       "      <th>Male</th>\n",
       "      <td>7116528.0</td>\n",
       "      <td>11.001352</td>\n",
       "      <td>6.981010</td>\n",
       "      <td>2.0</td>\n",
       "      <td>5.783333</td>\n",
       "      <td>9.200000</td>\n",
       "      <td>14.516667</td>\n",
       "      <td>60.0</td>\n",
       "    </tr>\n",
       "  </tbody>\n",
       "</table>\n",
       "</div>"
      ],
      "text/plain": [
       "            count       mean       std  min       25%        50%        75%  \\\n",
       "gender                                                                        \n",
       "Female  2378660.0  12.779739  7.688283  2.0  6.900000  11.083333  17.100000   \n",
       "Male    7116528.0  11.001352  6.981010  2.0  5.783333   9.200000  14.516667   \n",
       "\n",
       "         max  \n",
       "gender        \n",
       "Female  60.0  \n",
       "Male    60.0  "
      ]
     },
     "execution_count": 76,
     "metadata": {},
     "output_type": "execute_result"
    }
   ],
   "source": [
    "# descriptive stats of the gender\n",
    "data.groupby('gender')['tripduration'].describe()"
   ]
  },
  {
   "cell_type": "code",
   "execution_count": 77,
   "metadata": {},
   "outputs": [],
   "source": [
    "t_stat, p_val = stats.ttest_ind(female['tripduration'], male['tripduration'],equal_var=False)"
   ]
  },
  {
   "cell_type": "code",
   "execution_count": 78,
   "metadata": {},
   "outputs": [
    {
     "data": {
      "text/plain": [
       "315.8711382714963"
      ]
     },
     "execution_count": 78,
     "metadata": {},
     "output_type": "execute_result"
    }
   ],
   "source": [
    "t_stat"
   ]
  },
  {
   "cell_type": "code",
   "execution_count": 79,
   "metadata": {},
   "outputs": [
    {
     "data": {
      "text/plain": [
       "0.0"
      ]
     },
     "execution_count": 79,
     "metadata": {},
     "output_type": "execute_result"
    }
   ],
   "source": [
    "p_val"
   ]
  },
  {
   "cell_type": "markdown",
   "metadata": {},
   "source": [
    "#### Q: Is there a significant difference in weekday trip duration between male and female riders?"
   ]
  },
  {
   "cell_type": "code",
   "execution_count": 80,
   "metadata": {},
   "outputs": [
    {
     "data": {
      "text/html": [
       "<div>\n",
       "<style scoped>\n",
       "    .dataframe tbody tr th:only-of-type {\n",
       "        vertical-align: middle;\n",
       "    }\n",
       "\n",
       "    .dataframe tbody tr th {\n",
       "        vertical-align: top;\n",
       "    }\n",
       "\n",
       "    .dataframe thead th {\n",
       "        text-align: right;\n",
       "    }\n",
       "</style>\n",
       "<table border=\"1\" class=\"dataframe\">\n",
       "  <thead>\n",
       "    <tr style=\"text-align: right;\">\n",
       "      <th></th>\n",
       "      <th>trip_id</th>\n",
       "      <th>year</th>\n",
       "      <th>month</th>\n",
       "      <th>week</th>\n",
       "      <th>day</th>\n",
       "      <th>hour</th>\n",
       "      <th>num_day_of_week</th>\n",
       "      <th>day_of_week</th>\n",
       "      <th>starttime</th>\n",
       "      <th>stoptime</th>\n",
       "      <th>tripduration</th>\n",
       "      <th>temperature</th>\n",
       "      <th>events</th>\n",
       "      <th>usertype</th>\n",
       "      <th>gender</th>\n",
       "      <th>from_station_id</th>\n",
       "      <th>from_station_name</th>\n",
       "      <th>latitude_start</th>\n",
       "      <th>longitude_start</th>\n",
       "      <th>dpcapacity_start</th>\n",
       "      <th>to_station_id</th>\n",
       "      <th>to_station_name</th>\n",
       "      <th>latitude_end</th>\n",
       "      <th>longitude_end</th>\n",
       "      <th>dpcapacity_end</th>\n",
       "      <th>difference</th>\n",
       "      <th>tripduration_round</th>\n",
       "    </tr>\n",
       "  </thead>\n",
       "  <tbody>\n",
       "    <tr>\n",
       "      <th>576426</th>\n",
       "      <td>1109427</td>\n",
       "      <td>2014</td>\n",
       "      <td>1</td>\n",
       "      <td>1</td>\n",
       "      <td>1</td>\n",
       "      <td>1</td>\n",
       "      <td>2</td>\n",
       "      <td>Wednesday</td>\n",
       "      <td>2014-01-01 01:12:00</td>\n",
       "      <td>2014-01-01 01:18:00</td>\n",
       "      <td>5.766667</td>\n",
       "      <td>10.9</td>\n",
       "      <td>not clear</td>\n",
       "      <td>Subscriber</td>\n",
       "      <td>Male</td>\n",
       "      <td>240</td>\n",
       "      <td>Sheridan Rd &amp; Irving Park Rd</td>\n",
       "      <td>41.954245</td>\n",
       "      <td>-87.654406</td>\n",
       "      <td>23.0</td>\n",
       "      <td>245</td>\n",
       "      <td>Clarendon Ave &amp; Junior Ter</td>\n",
       "      <td>41.961004</td>\n",
       "      <td>-87.649603</td>\n",
       "      <td>15.0</td>\n",
       "      <td>00:06:00</td>\n",
       "      <td>6.0</td>\n",
       "    </tr>\n",
       "    <tr>\n",
       "      <th>576425</th>\n",
       "      <td>1109431</td>\n",
       "      <td>2014</td>\n",
       "      <td>1</td>\n",
       "      <td>1</td>\n",
       "      <td>1</td>\n",
       "      <td>1</td>\n",
       "      <td>2</td>\n",
       "      <td>Wednesday</td>\n",
       "      <td>2014-01-01 01:43:00</td>\n",
       "      <td>2014-01-01 01:53:00</td>\n",
       "      <td>10.833333</td>\n",
       "      <td>10.9</td>\n",
       "      <td>not clear</td>\n",
       "      <td>Subscriber</td>\n",
       "      <td>Male</td>\n",
       "      <td>113</td>\n",
       "      <td>Bissell St &amp; Armitage Ave</td>\n",
       "      <td>41.918440</td>\n",
       "      <td>-87.652220</td>\n",
       "      <td>15.0</td>\n",
       "      <td>94</td>\n",
       "      <td>Clark St &amp; Armitage Ave</td>\n",
       "      <td>41.918306</td>\n",
       "      <td>-87.636282</td>\n",
       "      <td>19.0</td>\n",
       "      <td>00:10:00</td>\n",
       "      <td>11.0</td>\n",
       "    </tr>\n",
       "    <tr>\n",
       "      <th>576424</th>\n",
       "      <td>1109432</td>\n",
       "      <td>2014</td>\n",
       "      <td>1</td>\n",
       "      <td>1</td>\n",
       "      <td>1</td>\n",
       "      <td>1</td>\n",
       "      <td>2</td>\n",
       "      <td>Wednesday</td>\n",
       "      <td>2014-01-01 01:43:00</td>\n",
       "      <td>2014-01-01 01:53:00</td>\n",
       "      <td>10.866667</td>\n",
       "      <td>10.9</td>\n",
       "      <td>not clear</td>\n",
       "      <td>Subscriber</td>\n",
       "      <td>Male</td>\n",
       "      <td>113</td>\n",
       "      <td>Bissell St &amp; Armitage Ave</td>\n",
       "      <td>41.918440</td>\n",
       "      <td>-87.652220</td>\n",
       "      <td>15.0</td>\n",
       "      <td>94</td>\n",
       "      <td>Clark St &amp; Armitage Ave</td>\n",
       "      <td>41.918306</td>\n",
       "      <td>-87.636282</td>\n",
       "      <td>19.0</td>\n",
       "      <td>00:10:00</td>\n",
       "      <td>11.0</td>\n",
       "    </tr>\n",
       "    <tr>\n",
       "      <th>576423</th>\n",
       "      <td>1109434</td>\n",
       "      <td>2014</td>\n",
       "      <td>1</td>\n",
       "      <td>1</td>\n",
       "      <td>1</td>\n",
       "      <td>1</td>\n",
       "      <td>2</td>\n",
       "      <td>Wednesday</td>\n",
       "      <td>2014-01-01 01:44:00</td>\n",
       "      <td>2014-01-01 01:59:00</td>\n",
       "      <td>15.266667</td>\n",
       "      <td>10.9</td>\n",
       "      <td>not clear</td>\n",
       "      <td>Subscriber</td>\n",
       "      <td>Male</td>\n",
       "      <td>50</td>\n",
       "      <td>Clark St &amp; Congress Pkwy</td>\n",
       "      <td>41.875933</td>\n",
       "      <td>-87.630585</td>\n",
       "      <td>27.0</td>\n",
       "      <td>134</td>\n",
       "      <td>Peoria St &amp; Jackson Blvd</td>\n",
       "      <td>41.877749</td>\n",
       "      <td>-87.649633</td>\n",
       "      <td>19.0</td>\n",
       "      <td>00:15:00</td>\n",
       "      <td>15.0</td>\n",
       "    </tr>\n",
       "    <tr>\n",
       "      <th>576422</th>\n",
       "      <td>1109435</td>\n",
       "      <td>2014</td>\n",
       "      <td>1</td>\n",
       "      <td>1</td>\n",
       "      <td>1</td>\n",
       "      <td>1</td>\n",
       "      <td>2</td>\n",
       "      <td>Wednesday</td>\n",
       "      <td>2014-01-01 01:45:00</td>\n",
       "      <td>2014-01-01 02:00:00</td>\n",
       "      <td>15.066667</td>\n",
       "      <td>10.9</td>\n",
       "      <td>not clear</td>\n",
       "      <td>Subscriber</td>\n",
       "      <td>Female</td>\n",
       "      <td>50</td>\n",
       "      <td>Clark St &amp; Congress Pkwy</td>\n",
       "      <td>41.875933</td>\n",
       "      <td>-87.630585</td>\n",
       "      <td>27.0</td>\n",
       "      <td>134</td>\n",
       "      <td>Peoria St &amp; Jackson Blvd</td>\n",
       "      <td>41.877749</td>\n",
       "      <td>-87.649633</td>\n",
       "      <td>19.0</td>\n",
       "      <td>00:15:00</td>\n",
       "      <td>15.0</td>\n",
       "    </tr>\n",
       "  </tbody>\n",
       "</table>\n",
       "</div>"
      ],
      "text/plain": [
       "        trip_id  year  month  week  day  hour  num_day_of_week day_of_week  \\\n",
       "576426  1109427  2014      1     1    1     1                2   Wednesday   \n",
       "576425  1109431  2014      1     1    1     1                2   Wednesday   \n",
       "576424  1109432  2014      1     1    1     1                2   Wednesday   \n",
       "576423  1109434  2014      1     1    1     1                2   Wednesday   \n",
       "576422  1109435  2014      1     1    1     1                2   Wednesday   \n",
       "\n",
       "                 starttime            stoptime  tripduration  temperature  \\\n",
       "576426 2014-01-01 01:12:00 2014-01-01 01:18:00      5.766667         10.9   \n",
       "576425 2014-01-01 01:43:00 2014-01-01 01:53:00     10.833333         10.9   \n",
       "576424 2014-01-01 01:43:00 2014-01-01 01:53:00     10.866667         10.9   \n",
       "576423 2014-01-01 01:44:00 2014-01-01 01:59:00     15.266667         10.9   \n",
       "576422 2014-01-01 01:45:00 2014-01-01 02:00:00     15.066667         10.9   \n",
       "\n",
       "           events    usertype  gender  from_station_id  \\\n",
       "576426  not clear  Subscriber    Male              240   \n",
       "576425  not clear  Subscriber    Male              113   \n",
       "576424  not clear  Subscriber    Male              113   \n",
       "576423  not clear  Subscriber    Male               50   \n",
       "576422  not clear  Subscriber  Female               50   \n",
       "\n",
       "                   from_station_name  latitude_start  longitude_start  \\\n",
       "576426  Sheridan Rd & Irving Park Rd       41.954245       -87.654406   \n",
       "576425     Bissell St & Armitage Ave       41.918440       -87.652220   \n",
       "576424     Bissell St & Armitage Ave       41.918440       -87.652220   \n",
       "576423      Clark St & Congress Pkwy       41.875933       -87.630585   \n",
       "576422      Clark St & Congress Pkwy       41.875933       -87.630585   \n",
       "\n",
       "        dpcapacity_start  to_station_id             to_station_name  \\\n",
       "576426              23.0            245  Clarendon Ave & Junior Ter   \n",
       "576425              15.0             94     Clark St & Armitage Ave   \n",
       "576424              15.0             94     Clark St & Armitage Ave   \n",
       "576423              27.0            134    Peoria St & Jackson Blvd   \n",
       "576422              27.0            134    Peoria St & Jackson Blvd   \n",
       "\n",
       "        latitude_end  longitude_end  dpcapacity_end difference  \\\n",
       "576426     41.961004     -87.649603            15.0   00:06:00   \n",
       "576425     41.918306     -87.636282            19.0   00:10:00   \n",
       "576424     41.918306     -87.636282            19.0   00:10:00   \n",
       "576423     41.877749     -87.649633            19.0   00:15:00   \n",
       "576422     41.877749     -87.649633            19.0   00:15:00   \n",
       "\n",
       "        tripduration_round  \n",
       "576426                 6.0  \n",
       "576425                11.0  \n",
       "576424                11.0  \n",
       "576423                15.0  \n",
       "576422                15.0  "
      ]
     },
     "execution_count": 80,
     "metadata": {},
     "output_type": "execute_result"
    }
   ],
   "source": [
    "weekday = data[data['num_day_of_week'].isin([0,1,2,3,4])]\n",
    "weekday.head()"
   ]
  },
  {
   "cell_type": "code",
   "execution_count": 81,
   "metadata": {},
   "outputs": [
    {
     "data": {
      "text/html": [
       "<div>\n",
       "<style scoped>\n",
       "    .dataframe tbody tr th:only-of-type {\n",
       "        vertical-align: middle;\n",
       "    }\n",
       "\n",
       "    .dataframe tbody tr th {\n",
       "        vertical-align: top;\n",
       "    }\n",
       "\n",
       "    .dataframe thead th {\n",
       "        text-align: right;\n",
       "    }\n",
       "</style>\n",
       "<table border=\"1\" class=\"dataframe\">\n",
       "  <thead>\n",
       "    <tr style=\"text-align: right;\">\n",
       "      <th></th>\n",
       "      <th>count</th>\n",
       "      <th>mean</th>\n",
       "      <th>std</th>\n",
       "      <th>min</th>\n",
       "      <th>25%</th>\n",
       "      <th>50%</th>\n",
       "      <th>75%</th>\n",
       "      <th>max</th>\n",
       "    </tr>\n",
       "    <tr>\n",
       "      <th>gender</th>\n",
       "      <th></th>\n",
       "      <th></th>\n",
       "      <th></th>\n",
       "      <th></th>\n",
       "      <th></th>\n",
       "      <th></th>\n",
       "      <th></th>\n",
       "      <th></th>\n",
       "    </tr>\n",
       "  </thead>\n",
       "  <tbody>\n",
       "    <tr>\n",
       "      <th>Female</th>\n",
       "      <td>1793284.0</td>\n",
       "      <td>12.501449</td>\n",
       "      <td>7.480886</td>\n",
       "      <td>2.0</td>\n",
       "      <td>6.766667</td>\n",
       "      <td>10.85</td>\n",
       "      <td>16.716667</td>\n",
       "      <td>60.0</td>\n",
       "    </tr>\n",
       "    <tr>\n",
       "      <th>Male</th>\n",
       "      <td>5801230.0</td>\n",
       "      <td>10.762818</td>\n",
       "      <td>6.739650</td>\n",
       "      <td>2.0</td>\n",
       "      <td>5.733333</td>\n",
       "      <td>9.05</td>\n",
       "      <td>14.133333</td>\n",
       "      <td>60.0</td>\n",
       "    </tr>\n",
       "  </tbody>\n",
       "</table>\n",
       "</div>"
      ],
      "text/plain": [
       "            count       mean       std  min       25%    50%        75%   max\n",
       "gender                                                                       \n",
       "Female  1793284.0  12.501449  7.480886  2.0  6.766667  10.85  16.716667  60.0\n",
       "Male    5801230.0  10.762818  6.739650  2.0  5.733333   9.05  14.133333  60.0"
      ]
     },
     "execution_count": 81,
     "metadata": {},
     "output_type": "execute_result"
    }
   ],
   "source": [
    "# descriptive stats of the gender\n",
    "weekday.groupby('gender')['tripduration'].describe()"
   ]
  },
  {
   "cell_type": "code",
   "execution_count": 82,
   "metadata": {},
   "outputs": [],
   "source": [
    "weekdaymale = weekday[weekday['gender']=='Male']\n",
    "weekdayfemale = weekday[weekday['gender']=='Female']\n",
    "\n"
   ]
  },
  {
   "cell_type": "code",
   "execution_count": 83,
   "metadata": {},
   "outputs": [],
   "source": [
    "t_stat, p_val = stats.ttest_ind(weekdayfemale['tripduration'], weekdaymale['tripduration'],equal_var=False)\n"
   ]
  },
  {
   "cell_type": "code",
   "execution_count": 84,
   "metadata": {},
   "outputs": [
    {
     "data": {
      "text/plain": [
       "278.2711071818629"
      ]
     },
     "execution_count": 84,
     "metadata": {},
     "output_type": "execute_result"
    }
   ],
   "source": [
    "t_stat"
   ]
  },
  {
   "cell_type": "code",
   "execution_count": 85,
   "metadata": {},
   "outputs": [
    {
     "data": {
      "text/plain": [
       "0.0"
      ]
     },
     "execution_count": 85,
     "metadata": {},
     "output_type": "execute_result"
    }
   ],
   "source": [
    "p_val"
   ]
  },
  {
   "cell_type": "markdown",
   "metadata": {},
   "source": [
    "#### Q: Is there a significant difference in weekend trips taken between male and female riders?"
   ]
  },
  {
   "cell_type": "code",
   "execution_count": 86,
   "metadata": {},
   "outputs": [
    {
     "data": {
      "text/html": [
       "<div>\n",
       "<style scoped>\n",
       "    .dataframe tbody tr th:only-of-type {\n",
       "        vertical-align: middle;\n",
       "    }\n",
       "\n",
       "    .dataframe tbody tr th {\n",
       "        vertical-align: top;\n",
       "    }\n",
       "\n",
       "    .dataframe thead th {\n",
       "        text-align: right;\n",
       "    }\n",
       "</style>\n",
       "<table border=\"1\" class=\"dataframe\">\n",
       "  <thead>\n",
       "    <tr style=\"text-align: right;\">\n",
       "      <th></th>\n",
       "      <th>trip_id</th>\n",
       "      <th>year</th>\n",
       "      <th>month</th>\n",
       "      <th>week</th>\n",
       "      <th>day</th>\n",
       "      <th>hour</th>\n",
       "      <th>num_day_of_week</th>\n",
       "      <th>day_of_week</th>\n",
       "      <th>starttime</th>\n",
       "      <th>stoptime</th>\n",
       "      <th>tripduration</th>\n",
       "      <th>temperature</th>\n",
       "      <th>events</th>\n",
       "      <th>usertype</th>\n",
       "      <th>gender</th>\n",
       "      <th>from_station_id</th>\n",
       "      <th>from_station_name</th>\n",
       "      <th>latitude_start</th>\n",
       "      <th>longitude_start</th>\n",
       "      <th>dpcapacity_start</th>\n",
       "      <th>to_station_id</th>\n",
       "      <th>to_station_name</th>\n",
       "      <th>latitude_end</th>\n",
       "      <th>longitude_end</th>\n",
       "      <th>dpcapacity_end</th>\n",
       "      <th>difference</th>\n",
       "      <th>tripduration_round</th>\n",
       "    </tr>\n",
       "  </thead>\n",
       "  <tbody>\n",
       "    <tr>\n",
       "      <th>576214</th>\n",
       "      <td>1110370</td>\n",
       "      <td>2014</td>\n",
       "      <td>1</td>\n",
       "      <td>1</td>\n",
       "      <td>4</td>\n",
       "      <td>0</td>\n",
       "      <td>5</td>\n",
       "      <td>Saturday</td>\n",
       "      <td>2014-01-04 00:30:00</td>\n",
       "      <td>2014-01-04 00:39:00</td>\n",
       "      <td>8.916667</td>\n",
       "      <td>19.9</td>\n",
       "      <td>clear</td>\n",
       "      <td>Subscriber</td>\n",
       "      <td>Male</td>\n",
       "      <td>299</td>\n",
       "      <td>Halsted St &amp; Roscoe St</td>\n",
       "      <td>41.943662</td>\n",
       "      <td>-87.648917</td>\n",
       "      <td>15.0</td>\n",
       "      <td>157</td>\n",
       "      <td>Lake Shore Dr &amp; Wellington Ave</td>\n",
       "      <td>41.936669</td>\n",
       "      <td>-87.636794</td>\n",
       "      <td>15.0</td>\n",
       "      <td>00:09:00</td>\n",
       "      <td>9.0</td>\n",
       "    </tr>\n",
       "    <tr>\n",
       "      <th>576213</th>\n",
       "      <td>1110371</td>\n",
       "      <td>2014</td>\n",
       "      <td>1</td>\n",
       "      <td>1</td>\n",
       "      <td>4</td>\n",
       "      <td>1</td>\n",
       "      <td>5</td>\n",
       "      <td>Saturday</td>\n",
       "      <td>2014-01-04 01:57:00</td>\n",
       "      <td>2014-01-04 02:13:00</td>\n",
       "      <td>16.383333</td>\n",
       "      <td>21.0</td>\n",
       "      <td>clear</td>\n",
       "      <td>Subscriber</td>\n",
       "      <td>Male</td>\n",
       "      <td>67</td>\n",
       "      <td>Sheffield Ave &amp; Fullerton Ave</td>\n",
       "      <td>41.925602</td>\n",
       "      <td>-87.653708</td>\n",
       "      <td>15.0</td>\n",
       "      <td>256</td>\n",
       "      <td>Broadway &amp; Sheridan Rd</td>\n",
       "      <td>41.952833</td>\n",
       "      <td>-87.649993</td>\n",
       "      <td>15.0</td>\n",
       "      <td>00:16:00</td>\n",
       "      <td>16.0</td>\n",
       "    </tr>\n",
       "    <tr>\n",
       "      <th>576212</th>\n",
       "      <td>1110372</td>\n",
       "      <td>2014</td>\n",
       "      <td>1</td>\n",
       "      <td>1</td>\n",
       "      <td>4</td>\n",
       "      <td>2</td>\n",
       "      <td>5</td>\n",
       "      <td>Saturday</td>\n",
       "      <td>2014-01-04 02:43:00</td>\n",
       "      <td>2014-01-04 02:52:00</td>\n",
       "      <td>9.116667</td>\n",
       "      <td>21.9</td>\n",
       "      <td>clear</td>\n",
       "      <td>Subscriber</td>\n",
       "      <td>Male</td>\n",
       "      <td>157</td>\n",
       "      <td>Lake Shore Dr &amp; Wellington Ave</td>\n",
       "      <td>41.936669</td>\n",
       "      <td>-87.636794</td>\n",
       "      <td>15.0</td>\n",
       "      <td>299</td>\n",
       "      <td>Halsted St &amp; Roscoe St</td>\n",
       "      <td>41.943662</td>\n",
       "      <td>-87.648917</td>\n",
       "      <td>15.0</td>\n",
       "      <td>00:09:00</td>\n",
       "      <td>9.0</td>\n",
       "    </tr>\n",
       "    <tr>\n",
       "      <th>576211</th>\n",
       "      <td>1110373</td>\n",
       "      <td>2014</td>\n",
       "      <td>1</td>\n",
       "      <td>1</td>\n",
       "      <td>4</td>\n",
       "      <td>3</td>\n",
       "      <td>5</td>\n",
       "      <td>Saturday</td>\n",
       "      <td>2014-01-04 03:35:00</td>\n",
       "      <td>2014-01-04 03:49:00</td>\n",
       "      <td>14.466667</td>\n",
       "      <td>21.9</td>\n",
       "      <td>clear</td>\n",
       "      <td>Subscriber</td>\n",
       "      <td>Male</td>\n",
       "      <td>117</td>\n",
       "      <td>Wilton Ave &amp; Belmont Ave</td>\n",
       "      <td>41.940180</td>\n",
       "      <td>-87.653040</td>\n",
       "      <td>23.0</td>\n",
       "      <td>113</td>\n",
       "      <td>Bissell St &amp; Armitage Ave</td>\n",
       "      <td>41.918440</td>\n",
       "      <td>-87.652220</td>\n",
       "      <td>15.0</td>\n",
       "      <td>00:14:00</td>\n",
       "      <td>14.0</td>\n",
       "    </tr>\n",
       "    <tr>\n",
       "      <th>576210</th>\n",
       "      <td>1110445</td>\n",
       "      <td>2014</td>\n",
       "      <td>1</td>\n",
       "      <td>1</td>\n",
       "      <td>4</td>\n",
       "      <td>8</td>\n",
       "      <td>5</td>\n",
       "      <td>Saturday</td>\n",
       "      <td>2014-01-04 08:57:00</td>\n",
       "      <td>2014-01-04 09:09:00</td>\n",
       "      <td>12.066667</td>\n",
       "      <td>27.0</td>\n",
       "      <td>cloudy</td>\n",
       "      <td>Subscriber</td>\n",
       "      <td>Male</td>\n",
       "      <td>199</td>\n",
       "      <td>Wabash Ave &amp; Grand Ave</td>\n",
       "      <td>41.891738</td>\n",
       "      <td>-87.626937</td>\n",
       "      <td>15.0</td>\n",
       "      <td>37</td>\n",
       "      <td>Dearborn St &amp; Adams St</td>\n",
       "      <td>41.879356</td>\n",
       "      <td>-87.629791</td>\n",
       "      <td>19.0</td>\n",
       "      <td>00:12:00</td>\n",
       "      <td>12.0</td>\n",
       "    </tr>\n",
       "  </tbody>\n",
       "</table>\n",
       "</div>"
      ],
      "text/plain": [
       "        trip_id  year  month  week  day  hour  num_day_of_week day_of_week  \\\n",
       "576214  1110370  2014      1     1    4     0                5    Saturday   \n",
       "576213  1110371  2014      1     1    4     1                5    Saturday   \n",
       "576212  1110372  2014      1     1    4     2                5    Saturday   \n",
       "576211  1110373  2014      1     1    4     3                5    Saturday   \n",
       "576210  1110445  2014      1     1    4     8                5    Saturday   \n",
       "\n",
       "                 starttime            stoptime  tripduration  temperature  \\\n",
       "576214 2014-01-04 00:30:00 2014-01-04 00:39:00      8.916667         19.9   \n",
       "576213 2014-01-04 01:57:00 2014-01-04 02:13:00     16.383333         21.0   \n",
       "576212 2014-01-04 02:43:00 2014-01-04 02:52:00      9.116667         21.9   \n",
       "576211 2014-01-04 03:35:00 2014-01-04 03:49:00     14.466667         21.9   \n",
       "576210 2014-01-04 08:57:00 2014-01-04 09:09:00     12.066667         27.0   \n",
       "\n",
       "        events    usertype gender  from_station_id  \\\n",
       "576214   clear  Subscriber   Male              299   \n",
       "576213   clear  Subscriber   Male               67   \n",
       "576212   clear  Subscriber   Male              157   \n",
       "576211   clear  Subscriber   Male              117   \n",
       "576210  cloudy  Subscriber   Male              199   \n",
       "\n",
       "                     from_station_name  latitude_start  longitude_start  \\\n",
       "576214          Halsted St & Roscoe St       41.943662       -87.648917   \n",
       "576213   Sheffield Ave & Fullerton Ave       41.925602       -87.653708   \n",
       "576212  Lake Shore Dr & Wellington Ave       41.936669       -87.636794   \n",
       "576211        Wilton Ave & Belmont Ave       41.940180       -87.653040   \n",
       "576210          Wabash Ave & Grand Ave       41.891738       -87.626937   \n",
       "\n",
       "        dpcapacity_start  to_station_id                 to_station_name  \\\n",
       "576214              15.0            157  Lake Shore Dr & Wellington Ave   \n",
       "576213              15.0            256          Broadway & Sheridan Rd   \n",
       "576212              15.0            299          Halsted St & Roscoe St   \n",
       "576211              23.0            113       Bissell St & Armitage Ave   \n",
       "576210              15.0             37          Dearborn St & Adams St   \n",
       "\n",
       "        latitude_end  longitude_end  dpcapacity_end difference  \\\n",
       "576214     41.936669     -87.636794            15.0   00:09:00   \n",
       "576213     41.952833     -87.649993            15.0   00:16:00   \n",
       "576212     41.943662     -87.648917            15.0   00:09:00   \n",
       "576211     41.918440     -87.652220            15.0   00:14:00   \n",
       "576210     41.879356     -87.629791            19.0   00:12:00   \n",
       "\n",
       "        tripduration_round  \n",
       "576214                 9.0  \n",
       "576213                16.0  \n",
       "576212                 9.0  \n",
       "576211                14.0  \n",
       "576210                12.0  "
      ]
     },
     "execution_count": 86,
     "metadata": {},
     "output_type": "execute_result"
    }
   ],
   "source": [
    "weekend = data[data['num_day_of_week'].isin([5,6])]\n",
    "weekend.head()"
   ]
  },
  {
   "cell_type": "code",
   "execution_count": 87,
   "metadata": {},
   "outputs": [
    {
     "data": {
      "text/html": [
       "<div>\n",
       "<style scoped>\n",
       "    .dataframe tbody tr th:only-of-type {\n",
       "        vertical-align: middle;\n",
       "    }\n",
       "\n",
       "    .dataframe tbody tr th {\n",
       "        vertical-align: top;\n",
       "    }\n",
       "\n",
       "    .dataframe thead th {\n",
       "        text-align: right;\n",
       "    }\n",
       "</style>\n",
       "<table border=\"1\" class=\"dataframe\">\n",
       "  <thead>\n",
       "    <tr style=\"text-align: right;\">\n",
       "      <th></th>\n",
       "      <th>count</th>\n",
       "      <th>mean</th>\n",
       "      <th>std</th>\n",
       "      <th>min</th>\n",
       "      <th>25%</th>\n",
       "      <th>50%</th>\n",
       "      <th>75%</th>\n",
       "      <th>max</th>\n",
       "    </tr>\n",
       "    <tr>\n",
       "      <th>gender</th>\n",
       "      <th></th>\n",
       "      <th></th>\n",
       "      <th></th>\n",
       "      <th></th>\n",
       "      <th></th>\n",
       "      <th></th>\n",
       "      <th></th>\n",
       "      <th></th>\n",
       "    </tr>\n",
       "  </thead>\n",
       "  <tbody>\n",
       "    <tr>\n",
       "      <th>Female</th>\n",
       "      <td>585376.0</td>\n",
       "      <td>13.632272</td>\n",
       "      <td>8.233074</td>\n",
       "      <td>2.0</td>\n",
       "      <td>7.35</td>\n",
       "      <td>11.833333</td>\n",
       "      <td>18.250000</td>\n",
       "      <td>60.0</td>\n",
       "    </tr>\n",
       "    <tr>\n",
       "      <th>Male</th>\n",
       "      <td>1315298.0</td>\n",
       "      <td>12.053427</td>\n",
       "      <td>7.872923</td>\n",
       "      <td>2.0</td>\n",
       "      <td>6.05</td>\n",
       "      <td>10.066667</td>\n",
       "      <td>16.266667</td>\n",
       "      <td>60.0</td>\n",
       "    </tr>\n",
       "  </tbody>\n",
       "</table>\n",
       "</div>"
      ],
      "text/plain": [
       "            count       mean       std  min   25%        50%        75%   max\n",
       "gender                                                                       \n",
       "Female   585376.0  13.632272  8.233074  2.0  7.35  11.833333  18.250000  60.0\n",
       "Male    1315298.0  12.053427  7.872923  2.0  6.05  10.066667  16.266667  60.0"
      ]
     },
     "execution_count": 87,
     "metadata": {},
     "output_type": "execute_result"
    }
   ],
   "source": [
    "# descriptive stats of the gender\n",
    "weekend.groupby('gender')['tripduration'].describe()"
   ]
  },
  {
   "cell_type": "code",
   "execution_count": 88,
   "metadata": {},
   "outputs": [],
   "source": [
    "weekendmale = weekend[weekend['gender']=='Male']\n",
    "weekendfemale = weekend[weekend['gender']=='Female']\n",
    "\n"
   ]
  },
  {
   "cell_type": "code",
   "execution_count": 89,
   "metadata": {},
   "outputs": [],
   "source": [
    "t_stat, p_val = stats.ttest_ind(weekendfemale['tripduration'], weekendmale['tripduration'],equal_var=False)\n"
   ]
  },
  {
   "cell_type": "code",
   "execution_count": 90,
   "metadata": {},
   "outputs": [
    {
     "data": {
      "text/plain": [
       "123.69529843529303"
      ]
     },
     "execution_count": 90,
     "metadata": {},
     "output_type": "execute_result"
    }
   ],
   "source": [
    "t_stat"
   ]
  },
  {
   "cell_type": "code",
   "execution_count": 91,
   "metadata": {},
   "outputs": [
    {
     "data": {
      "text/plain": [
       "0.0"
      ]
     },
     "execution_count": 91,
     "metadata": {},
     "output_type": "execute_result"
    }
   ],
   "source": [
    "p_val"
   ]
  },
  {
   "cell_type": "markdown",
   "metadata": {},
   "source": [
    "# Modeling "
   ]
  },
  {
   "cell_type": "code",
   "execution_count": 92,
   "metadata": {
    "scrolled": true
   },
   "outputs": [
    {
     "data": {
      "text/html": [
       "<div>\n",
       "<style scoped>\n",
       "    .dataframe tbody tr th:only-of-type {\n",
       "        vertical-align: middle;\n",
       "    }\n",
       "\n",
       "    .dataframe tbody tr th {\n",
       "        vertical-align: top;\n",
       "    }\n",
       "\n",
       "    .dataframe thead th {\n",
       "        text-align: right;\n",
       "    }\n",
       "</style>\n",
       "<table border=\"1\" class=\"dataframe\">\n",
       "  <thead>\n",
       "    <tr style=\"text-align: right;\">\n",
       "      <th></th>\n",
       "      <th>from_station_name</th>\n",
       "      <th>year</th>\n",
       "      <th>month</th>\n",
       "      <th>day</th>\n",
       "      <th>hour</th>\n",
       "      <th>num_day_of_week</th>\n",
       "      <th>tripduration</th>\n",
       "      <th>temperature</th>\n",
       "      <th>events_cloudy_pct</th>\n",
       "      <th>events_clear_pct</th>\n",
       "      <th>events_not clear_pct</th>\n",
       "      <th>events_rain or snow_pct</th>\n",
       "      <th>events_tstorms_pct</th>\n",
       "      <th>usertype_Customer_pct</th>\n",
       "      <th>usertype_Dependent_pct</th>\n",
       "      <th>usertype_Subscriber_pct</th>\n",
       "      <th>gender_Female_pct</th>\n",
       "      <th>gender_Male_pct</th>\n",
       "      <th>trip_count</th>\n",
       "    </tr>\n",
       "  </thead>\n",
       "  <tbody>\n",
       "    <tr>\n",
       "      <th>0</th>\n",
       "      <td>Adler Planetarium</td>\n",
       "      <td>2014</td>\n",
       "      <td>1</td>\n",
       "      <td>13</td>\n",
       "      <td>13</td>\n",
       "      <td>0</td>\n",
       "      <td>18.050000</td>\n",
       "      <td>43.0</td>\n",
       "      <td>100.0</td>\n",
       "      <td>0.0</td>\n",
       "      <td>0.0</td>\n",
       "      <td>0.0</td>\n",
       "      <td>0.0</td>\n",
       "      <td>0.0</td>\n",
       "      <td>0.0</td>\n",
       "      <td>100.0</td>\n",
       "      <td>0.0</td>\n",
       "      <td>100.0</td>\n",
       "      <td>1</td>\n",
       "    </tr>\n",
       "    <tr>\n",
       "      <th>1</th>\n",
       "      <td>Adler Planetarium</td>\n",
       "      <td>2014</td>\n",
       "      <td>1</td>\n",
       "      <td>26</td>\n",
       "      <td>14</td>\n",
       "      <td>6</td>\n",
       "      <td>17.083333</td>\n",
       "      <td>30.9</td>\n",
       "      <td>100.0</td>\n",
       "      <td>0.0</td>\n",
       "      <td>0.0</td>\n",
       "      <td>0.0</td>\n",
       "      <td>0.0</td>\n",
       "      <td>0.0</td>\n",
       "      <td>0.0</td>\n",
       "      <td>100.0</td>\n",
       "      <td>100.0</td>\n",
       "      <td>0.0</td>\n",
       "      <td>1</td>\n",
       "    </tr>\n",
       "    <tr>\n",
       "      <th>2</th>\n",
       "      <td>Adler Planetarium</td>\n",
       "      <td>2014</td>\n",
       "      <td>2</td>\n",
       "      <td>8</td>\n",
       "      <td>14</td>\n",
       "      <td>5</td>\n",
       "      <td>25.033333</td>\n",
       "      <td>15.1</td>\n",
       "      <td>0.0</td>\n",
       "      <td>0.0</td>\n",
       "      <td>0.0</td>\n",
       "      <td>100.0</td>\n",
       "      <td>0.0</td>\n",
       "      <td>0.0</td>\n",
       "      <td>0.0</td>\n",
       "      <td>100.0</td>\n",
       "      <td>0.0</td>\n",
       "      <td>100.0</td>\n",
       "      <td>1</td>\n",
       "    </tr>\n",
       "    <tr>\n",
       "      <th>3</th>\n",
       "      <td>Adler Planetarium</td>\n",
       "      <td>2014</td>\n",
       "      <td>2</td>\n",
       "      <td>10</td>\n",
       "      <td>15</td>\n",
       "      <td>0</td>\n",
       "      <td>26.500000</td>\n",
       "      <td>9.0</td>\n",
       "      <td>0.0</td>\n",
       "      <td>100.0</td>\n",
       "      <td>0.0</td>\n",
       "      <td>0.0</td>\n",
       "      <td>0.0</td>\n",
       "      <td>0.0</td>\n",
       "      <td>0.0</td>\n",
       "      <td>100.0</td>\n",
       "      <td>0.0</td>\n",
       "      <td>100.0</td>\n",
       "      <td>1</td>\n",
       "    </tr>\n",
       "    <tr>\n",
       "      <th>4</th>\n",
       "      <td>Adler Planetarium</td>\n",
       "      <td>2014</td>\n",
       "      <td>2</td>\n",
       "      <td>15</td>\n",
       "      <td>15</td>\n",
       "      <td>5</td>\n",
       "      <td>13.975000</td>\n",
       "      <td>21.0</td>\n",
       "      <td>100.0</td>\n",
       "      <td>0.0</td>\n",
       "      <td>0.0</td>\n",
       "      <td>0.0</td>\n",
       "      <td>0.0</td>\n",
       "      <td>0.0</td>\n",
       "      <td>0.0</td>\n",
       "      <td>100.0</td>\n",
       "      <td>50.0</td>\n",
       "      <td>50.0</td>\n",
       "      <td>2</td>\n",
       "    </tr>\n",
       "  </tbody>\n",
       "</table>\n",
       "</div>"
      ],
      "text/plain": [
       "   from_station_name  year  month  day  hour  num_day_of_week  tripduration  \\\n",
       "0  Adler Planetarium  2014      1   13    13                0     18.050000   \n",
       "1  Adler Planetarium  2014      1   26    14                6     17.083333   \n",
       "2  Adler Planetarium  2014      2    8    14                5     25.033333   \n",
       "3  Adler Planetarium  2014      2   10    15                0     26.500000   \n",
       "4  Adler Planetarium  2014      2   15    15                5     13.975000   \n",
       "\n",
       "   temperature  events_cloudy_pct  events_clear_pct  events_not clear_pct  \\\n",
       "0         43.0              100.0               0.0                   0.0   \n",
       "1         30.9              100.0               0.0                   0.0   \n",
       "2         15.1                0.0               0.0                   0.0   \n",
       "3          9.0                0.0             100.0                   0.0   \n",
       "4         21.0              100.0               0.0                   0.0   \n",
       "\n",
       "   events_rain or snow_pct  events_tstorms_pct  usertype_Customer_pct  \\\n",
       "0                      0.0                 0.0                    0.0   \n",
       "1                      0.0                 0.0                    0.0   \n",
       "2                    100.0                 0.0                    0.0   \n",
       "3                      0.0                 0.0                    0.0   \n",
       "4                      0.0                 0.0                    0.0   \n",
       "\n",
       "   usertype_Dependent_pct  usertype_Subscriber_pct  gender_Female_pct  \\\n",
       "0                     0.0                    100.0                0.0   \n",
       "1                     0.0                    100.0              100.0   \n",
       "2                     0.0                    100.0                0.0   \n",
       "3                     0.0                    100.0                0.0   \n",
       "4                     0.0                    100.0               50.0   \n",
       "\n",
       "   gender_Male_pct  trip_count  \n",
       "0            100.0           1  \n",
       "1              0.0           1  \n",
       "2            100.0           1  \n",
       "3            100.0           1  \n",
       "4             50.0           2  "
      ]
     },
     "execution_count": 92,
     "metadata": {},
     "output_type": "execute_result"
    }
   ],
   "source": [
    "# read in saved csv files - departure\n",
    "pd.set_option('display.max_columns', 30)\n",
    "filename = 'dfdmodel.csv'\n",
    "departure_joindf = pd.read_csv(filename)\n",
    "departure_joindf.head()"
   ]
  },
  {
   "cell_type": "code",
   "execution_count": 93,
   "metadata": {
    "scrolled": true
   },
   "outputs": [
    {
     "name": "stdout",
     "output_type": "stream",
     "text": [
      "<class 'pandas.core.frame.DataFrame'>\n",
      "RangeIndex: 424130 entries, 0 to 424129\n",
      "Data columns (total 19 columns):\n",
      "from_station_name          424130 non-null object\n",
      "year                       424130 non-null int64\n",
      "month                      424130 non-null int64\n",
      "day                        424130 non-null int64\n",
      "hour                       424130 non-null int64\n",
      "num_day_of_week            424130 non-null int64\n",
      "tripduration               424130 non-null float64\n",
      "temperature                424130 non-null float64\n",
      "events_cloudy_pct          424130 non-null float64\n",
      "events_clear_pct           424130 non-null float64\n",
      "events_not clear_pct       424130 non-null float64\n",
      "events_rain or snow_pct    424130 non-null float64\n",
      "events_tstorms_pct         424130 non-null float64\n",
      "usertype_Customer_pct      424130 non-null float64\n",
      "usertype_Dependent_pct     424130 non-null float64\n",
      "usertype_Subscriber_pct    424130 non-null float64\n",
      "gender_Female_pct          424130 non-null float64\n",
      "gender_Male_pct            424130 non-null float64\n",
      "trip_count                 424130 non-null int64\n",
      "dtypes: float64(12), int64(6), object(1)\n",
      "memory usage: 61.5+ MB\n"
     ]
    }
   ],
   "source": [
    "departure_joindf.info()"
   ]
  },
  {
   "cell_type": "code",
   "execution_count": 94,
   "metadata": {
    "scrolled": true
   },
   "outputs": [
    {
     "data": {
      "text/html": [
       "<div>\n",
       "<style scoped>\n",
       "    .dataframe tbody tr th:only-of-type {\n",
       "        vertical-align: middle;\n",
       "    }\n",
       "\n",
       "    .dataframe tbody tr th {\n",
       "        vertical-align: top;\n",
       "    }\n",
       "\n",
       "    .dataframe thead th {\n",
       "        text-align: right;\n",
       "    }\n",
       "</style>\n",
       "<table border=\"1\" class=\"dataframe\">\n",
       "  <thead>\n",
       "    <tr style=\"text-align: right;\">\n",
       "      <th></th>\n",
       "      <th>to_station_name</th>\n",
       "      <th>year</th>\n",
       "      <th>month</th>\n",
       "      <th>day</th>\n",
       "      <th>hour</th>\n",
       "      <th>num_day_of_week</th>\n",
       "      <th>tripduration</th>\n",
       "      <th>temperature</th>\n",
       "      <th>events_cloudy_pct</th>\n",
       "      <th>events_clear_pct</th>\n",
       "      <th>events_not clear_pct</th>\n",
       "      <th>events_rain or snow_pct</th>\n",
       "      <th>events_tstorms_pct</th>\n",
       "      <th>usertype_Customer_pct</th>\n",
       "      <th>usertype_Dependent_pct</th>\n",
       "      <th>usertype_Subscriber_pct</th>\n",
       "      <th>gender_Female_pct</th>\n",
       "      <th>gender_Male_pct</th>\n",
       "      <th>trip_count</th>\n",
       "    </tr>\n",
       "  </thead>\n",
       "  <tbody>\n",
       "    <tr>\n",
       "      <th>0</th>\n",
       "      <td>Adler Planetarium</td>\n",
       "      <td>2014</td>\n",
       "      <td>1</td>\n",
       "      <td>11</td>\n",
       "      <td>14</td>\n",
       "      <td>5</td>\n",
       "      <td>18.116667</td>\n",
       "      <td>34.0</td>\n",
       "      <td>100.0</td>\n",
       "      <td>0.0</td>\n",
       "      <td>0.0</td>\n",
       "      <td>0.0</td>\n",
       "      <td>0.0</td>\n",
       "      <td>0.0</td>\n",
       "      <td>0.0</td>\n",
       "      <td>100.0</td>\n",
       "      <td>0.0</td>\n",
       "      <td>100.0</td>\n",
       "      <td>1</td>\n",
       "    </tr>\n",
       "    <tr>\n",
       "      <th>1</th>\n",
       "      <td>Adler Planetarium</td>\n",
       "      <td>2014</td>\n",
       "      <td>1</td>\n",
       "      <td>13</td>\n",
       "      <td>13</td>\n",
       "      <td>0</td>\n",
       "      <td>12.000000</td>\n",
       "      <td>43.0</td>\n",
       "      <td>100.0</td>\n",
       "      <td>0.0</td>\n",
       "      <td>0.0</td>\n",
       "      <td>0.0</td>\n",
       "      <td>0.0</td>\n",
       "      <td>0.0</td>\n",
       "      <td>0.0</td>\n",
       "      <td>100.0</td>\n",
       "      <td>0.0</td>\n",
       "      <td>100.0</td>\n",
       "      <td>2</td>\n",
       "    </tr>\n",
       "    <tr>\n",
       "      <th>2</th>\n",
       "      <td>Adler Planetarium</td>\n",
       "      <td>2014</td>\n",
       "      <td>3</td>\n",
       "      <td>1</td>\n",
       "      <td>18</td>\n",
       "      <td>5</td>\n",
       "      <td>37.475000</td>\n",
       "      <td>14.0</td>\n",
       "      <td>0.0</td>\n",
       "      <td>0.0</td>\n",
       "      <td>0.0</td>\n",
       "      <td>100.0</td>\n",
       "      <td>0.0</td>\n",
       "      <td>0.0</td>\n",
       "      <td>0.0</td>\n",
       "      <td>100.0</td>\n",
       "      <td>50.0</td>\n",
       "      <td>50.0</td>\n",
       "      <td>2</td>\n",
       "    </tr>\n",
       "    <tr>\n",
       "      <th>3</th>\n",
       "      <td>Adler Planetarium</td>\n",
       "      <td>2014</td>\n",
       "      <td>3</td>\n",
       "      <td>2</td>\n",
       "      <td>9</td>\n",
       "      <td>6</td>\n",
       "      <td>8.966667</td>\n",
       "      <td>9.0</td>\n",
       "      <td>100.0</td>\n",
       "      <td>0.0</td>\n",
       "      <td>0.0</td>\n",
       "      <td>0.0</td>\n",
       "      <td>0.0</td>\n",
       "      <td>0.0</td>\n",
       "      <td>0.0</td>\n",
       "      <td>100.0</td>\n",
       "      <td>0.0</td>\n",
       "      <td>100.0</td>\n",
       "      <td>1</td>\n",
       "    </tr>\n",
       "    <tr>\n",
       "      <th>4</th>\n",
       "      <td>Adler Planetarium</td>\n",
       "      <td>2014</td>\n",
       "      <td>3</td>\n",
       "      <td>10</td>\n",
       "      <td>14</td>\n",
       "      <td>0</td>\n",
       "      <td>19.900000</td>\n",
       "      <td>53.1</td>\n",
       "      <td>100.0</td>\n",
       "      <td>0.0</td>\n",
       "      <td>0.0</td>\n",
       "      <td>0.0</td>\n",
       "      <td>0.0</td>\n",
       "      <td>0.0</td>\n",
       "      <td>0.0</td>\n",
       "      <td>100.0</td>\n",
       "      <td>0.0</td>\n",
       "      <td>100.0</td>\n",
       "      <td>1</td>\n",
       "    </tr>\n",
       "  </tbody>\n",
       "</table>\n",
       "</div>"
      ],
      "text/plain": [
       "     to_station_name  year  month  day  hour  num_day_of_week  tripduration  \\\n",
       "0  Adler Planetarium  2014      1   11    14                5     18.116667   \n",
       "1  Adler Planetarium  2014      1   13    13                0     12.000000   \n",
       "2  Adler Planetarium  2014      3    1    18                5     37.475000   \n",
       "3  Adler Planetarium  2014      3    2     9                6      8.966667   \n",
       "4  Adler Planetarium  2014      3   10    14                0     19.900000   \n",
       "\n",
       "   temperature  events_cloudy_pct  events_clear_pct  events_not clear_pct  \\\n",
       "0         34.0              100.0               0.0                   0.0   \n",
       "1         43.0              100.0               0.0                   0.0   \n",
       "2         14.0                0.0               0.0                   0.0   \n",
       "3          9.0              100.0               0.0                   0.0   \n",
       "4         53.1              100.0               0.0                   0.0   \n",
       "\n",
       "   events_rain or snow_pct  events_tstorms_pct  usertype_Customer_pct  \\\n",
       "0                      0.0                 0.0                    0.0   \n",
       "1                      0.0                 0.0                    0.0   \n",
       "2                    100.0                 0.0                    0.0   \n",
       "3                      0.0                 0.0                    0.0   \n",
       "4                      0.0                 0.0                    0.0   \n",
       "\n",
       "   usertype_Dependent_pct  usertype_Subscriber_pct  gender_Female_pct  \\\n",
       "0                     0.0                    100.0                0.0   \n",
       "1                     0.0                    100.0                0.0   \n",
       "2                     0.0                    100.0               50.0   \n",
       "3                     0.0                    100.0                0.0   \n",
       "4                     0.0                    100.0                0.0   \n",
       "\n",
       "   gender_Male_pct  trip_count  \n",
       "0            100.0           1  \n",
       "1            100.0           2  \n",
       "2             50.0           2  \n",
       "3            100.0           1  \n",
       "4            100.0           1  "
      ]
     },
     "execution_count": 94,
     "metadata": {},
     "output_type": "execute_result"
    }
   ],
   "source": [
    "# read in saved csv files - departure\n",
    "pd.set_option('display.max_columns', 30)\n",
    "filename = 'dfamodel.csv'\n",
    "arrival_joindf = pd.read_csv(filename)\n",
    "arrival_joindf.head()"
   ]
  },
  {
   "cell_type": "code",
   "execution_count": 95,
   "metadata": {
    "scrolled": true
   },
   "outputs": [
    {
     "name": "stdout",
     "output_type": "stream",
     "text": [
      "<class 'pandas.core.frame.DataFrame'>\n",
      "RangeIndex: 417193 entries, 0 to 417192\n",
      "Data columns (total 19 columns):\n",
      "to_station_name            417193 non-null object\n",
      "year                       417193 non-null int64\n",
      "month                      417193 non-null int64\n",
      "day                        417193 non-null int64\n",
      "hour                       417193 non-null int64\n",
      "num_day_of_week            417193 non-null int64\n",
      "tripduration               417193 non-null float64\n",
      "temperature                417193 non-null float64\n",
      "events_cloudy_pct          417193 non-null float64\n",
      "events_clear_pct           417193 non-null float64\n",
      "events_not clear_pct       417193 non-null float64\n",
      "events_rain or snow_pct    417193 non-null float64\n",
      "events_tstorms_pct         417193 non-null float64\n",
      "usertype_Customer_pct      417193 non-null float64\n",
      "usertype_Dependent_pct     417193 non-null float64\n",
      "usertype_Subscriber_pct    417193 non-null float64\n",
      "gender_Female_pct          417193 non-null float64\n",
      "gender_Male_pct            417193 non-null float64\n",
      "trip_count                 417193 non-null int64\n",
      "dtypes: float64(12), int64(6), object(1)\n",
      "memory usage: 60.5+ MB\n"
     ]
    }
   ],
   "source": [
    "arrival_joindf.info()"
   ]
  },
  {
   "cell_type": "markdown",
   "metadata": {},
   "source": [
    "## Linear Model - departure"
   ]
  },
  {
   "cell_type": "code",
   "execution_count": 96,
   "metadata": {},
   "outputs": [],
   "source": [
    "# create key to search the joindf\n",
    "depstations = departure_joindf['from_station_name'].unique() "
   ]
  },
  {
   "cell_type": "code",
   "execution_count": 97,
   "metadata": {},
   "outputs": [],
   "source": [
    "departure_joindf = departure_joindf.set_index('from_station_name')"
   ]
  },
  {
   "cell_type": "code",
   "execution_count": 98,
   "metadata": {
    "scrolled": true
   },
   "outputs": [],
   "source": [
    "lmdeparture_rsquared = []\n",
    "lmdeparture_mae = []\n",
    "\n",
    "for k in depstations:\n",
    "    \n",
    "    X_train = departure_joindf.loc[k][departure_joindf.loc[k]['year'].isin([2014,2015,2016])].drop(['trip_count'], axis=1).values\n",
    "    X_test = departure_joindf.loc[k][departure_joindf.loc[k]['year']==2017].drop(['trip_count'], axis=1).values\n",
    "    y_train = departure_joindf.loc[k][departure_joindf.loc[k]['year'].isin([2014,2015,2016])]['trip_count'].values\n",
    "    y_test = departure_joindf.loc[k][departure_joindf.loc[k]['year']==2017]['trip_count'].values\n",
    "\n",
    "    lm = linear_model.LinearRegression()\n",
    "    lm.fit(X_train, y_train)\n",
    "    \n",
    "    y_pred = lm.predict(X_test)\n",
    "    \n",
    "    errors = abs(y_pred - y_test)\n",
    "\n",
    "    lmdeparture_rsquared.append(lm.score(X_test, y_test))\n",
    "    \n",
    "    lmdeparture_mae.append(round(np.mean(errors), 2))"
   ]
  },
  {
   "cell_type": "code",
   "execution_count": 99,
   "metadata": {},
   "outputs": [
    {
     "data": {
      "text/plain": [
       "0.009919743149141317"
      ]
     },
     "execution_count": 99,
     "metadata": {},
     "output_type": "execute_result"
    }
   ],
   "source": [
    "sum(lmdeparture_rsquared)/len(lmdeparture_rsquared)"
   ]
  },
  {
   "cell_type": "code",
   "execution_count": 100,
   "metadata": {
    "scrolled": true
   },
   "outputs": [
    {
     "data": {
      "text/plain": [
       "0.43792452830188705"
      ]
     },
     "execution_count": 100,
     "metadata": {},
     "output_type": "execute_result"
    }
   ],
   "source": [
    "sum(lmdeparture_mae)/len(lmdeparture_mae)"
   ]
  },
  {
   "cell_type": "code",
   "execution_count": null,
   "metadata": {},
   "outputs": [],
   "source": []
  },
  {
   "cell_type": "markdown",
   "metadata": {},
   "source": [
    "## Linear Model - arrival"
   ]
  },
  {
   "cell_type": "code",
   "execution_count": 101,
   "metadata": {},
   "outputs": [],
   "source": [
    "# create key to search the joindf\n",
    "arrstations = arrival_joindf['to_station_name'].unique() "
   ]
  },
  {
   "cell_type": "code",
   "execution_count": 102,
   "metadata": {},
   "outputs": [],
   "source": [
    "arrival_joindf = arrival_joindf.set_index('to_station_name')"
   ]
  },
  {
   "cell_type": "code",
   "execution_count": 103,
   "metadata": {
    "scrolled": true
   },
   "outputs": [
    {
     "data": {
      "text/html": [
       "<div>\n",
       "<style scoped>\n",
       "    .dataframe tbody tr th:only-of-type {\n",
       "        vertical-align: middle;\n",
       "    }\n",
       "\n",
       "    .dataframe tbody tr th {\n",
       "        vertical-align: top;\n",
       "    }\n",
       "\n",
       "    .dataframe thead th {\n",
       "        text-align: right;\n",
       "    }\n",
       "</style>\n",
       "<table border=\"1\" class=\"dataframe\">\n",
       "  <thead>\n",
       "    <tr style=\"text-align: right;\">\n",
       "      <th></th>\n",
       "      <th>year</th>\n",
       "      <th>month</th>\n",
       "      <th>day</th>\n",
       "      <th>hour</th>\n",
       "      <th>num_day_of_week</th>\n",
       "      <th>tripduration</th>\n",
       "      <th>temperature</th>\n",
       "      <th>events_cloudy_pct</th>\n",
       "      <th>events_clear_pct</th>\n",
       "      <th>events_not clear_pct</th>\n",
       "      <th>events_rain or snow_pct</th>\n",
       "      <th>events_tstorms_pct</th>\n",
       "      <th>usertype_Customer_pct</th>\n",
       "      <th>usertype_Dependent_pct</th>\n",
       "      <th>usertype_Subscriber_pct</th>\n",
       "      <th>gender_Female_pct</th>\n",
       "      <th>gender_Male_pct</th>\n",
       "      <th>trip_count</th>\n",
       "    </tr>\n",
       "    <tr>\n",
       "      <th>to_station_name</th>\n",
       "      <th></th>\n",
       "      <th></th>\n",
       "      <th></th>\n",
       "      <th></th>\n",
       "      <th></th>\n",
       "      <th></th>\n",
       "      <th></th>\n",
       "      <th></th>\n",
       "      <th></th>\n",
       "      <th></th>\n",
       "      <th></th>\n",
       "      <th></th>\n",
       "      <th></th>\n",
       "      <th></th>\n",
       "      <th></th>\n",
       "      <th></th>\n",
       "      <th></th>\n",
       "      <th></th>\n",
       "    </tr>\n",
       "  </thead>\n",
       "  <tbody>\n",
       "    <tr>\n",
       "      <th>Adler Planetarium</th>\n",
       "      <td>2014</td>\n",
       "      <td>1</td>\n",
       "      <td>11</td>\n",
       "      <td>14</td>\n",
       "      <td>5</td>\n",
       "      <td>18.116667</td>\n",
       "      <td>34.0</td>\n",
       "      <td>100.0</td>\n",
       "      <td>0.0</td>\n",
       "      <td>0.0</td>\n",
       "      <td>0.0</td>\n",
       "      <td>0.0</td>\n",
       "      <td>0.0</td>\n",
       "      <td>0.0</td>\n",
       "      <td>100.0</td>\n",
       "      <td>0.0</td>\n",
       "      <td>100.0</td>\n",
       "      <td>1</td>\n",
       "    </tr>\n",
       "    <tr>\n",
       "      <th>Adler Planetarium</th>\n",
       "      <td>2014</td>\n",
       "      <td>1</td>\n",
       "      <td>13</td>\n",
       "      <td>13</td>\n",
       "      <td>0</td>\n",
       "      <td>12.000000</td>\n",
       "      <td>43.0</td>\n",
       "      <td>100.0</td>\n",
       "      <td>0.0</td>\n",
       "      <td>0.0</td>\n",
       "      <td>0.0</td>\n",
       "      <td>0.0</td>\n",
       "      <td>0.0</td>\n",
       "      <td>0.0</td>\n",
       "      <td>100.0</td>\n",
       "      <td>0.0</td>\n",
       "      <td>100.0</td>\n",
       "      <td>2</td>\n",
       "    </tr>\n",
       "    <tr>\n",
       "      <th>Adler Planetarium</th>\n",
       "      <td>2014</td>\n",
       "      <td>3</td>\n",
       "      <td>1</td>\n",
       "      <td>18</td>\n",
       "      <td>5</td>\n",
       "      <td>37.475000</td>\n",
       "      <td>14.0</td>\n",
       "      <td>0.0</td>\n",
       "      <td>0.0</td>\n",
       "      <td>0.0</td>\n",
       "      <td>100.0</td>\n",
       "      <td>0.0</td>\n",
       "      <td>0.0</td>\n",
       "      <td>0.0</td>\n",
       "      <td>100.0</td>\n",
       "      <td>50.0</td>\n",
       "      <td>50.0</td>\n",
       "      <td>2</td>\n",
       "    </tr>\n",
       "    <tr>\n",
       "      <th>Adler Planetarium</th>\n",
       "      <td>2014</td>\n",
       "      <td>3</td>\n",
       "      <td>2</td>\n",
       "      <td>9</td>\n",
       "      <td>6</td>\n",
       "      <td>8.966667</td>\n",
       "      <td>9.0</td>\n",
       "      <td>100.0</td>\n",
       "      <td>0.0</td>\n",
       "      <td>0.0</td>\n",
       "      <td>0.0</td>\n",
       "      <td>0.0</td>\n",
       "      <td>0.0</td>\n",
       "      <td>0.0</td>\n",
       "      <td>100.0</td>\n",
       "      <td>0.0</td>\n",
       "      <td>100.0</td>\n",
       "      <td>1</td>\n",
       "    </tr>\n",
       "    <tr>\n",
       "      <th>Adler Planetarium</th>\n",
       "      <td>2014</td>\n",
       "      <td>3</td>\n",
       "      <td>10</td>\n",
       "      <td>14</td>\n",
       "      <td>0</td>\n",
       "      <td>19.900000</td>\n",
       "      <td>53.1</td>\n",
       "      <td>100.0</td>\n",
       "      <td>0.0</td>\n",
       "      <td>0.0</td>\n",
       "      <td>0.0</td>\n",
       "      <td>0.0</td>\n",
       "      <td>0.0</td>\n",
       "      <td>0.0</td>\n",
       "      <td>100.0</td>\n",
       "      <td>0.0</td>\n",
       "      <td>100.0</td>\n",
       "      <td>1</td>\n",
       "    </tr>\n",
       "  </tbody>\n",
       "</table>\n",
       "</div>"
      ],
      "text/plain": [
       "                   year  month  day  hour  num_day_of_week  tripduration  \\\n",
       "to_station_name                                                            \n",
       "Adler Planetarium  2014      1   11    14                5     18.116667   \n",
       "Adler Planetarium  2014      1   13    13                0     12.000000   \n",
       "Adler Planetarium  2014      3    1    18                5     37.475000   \n",
       "Adler Planetarium  2014      3    2     9                6      8.966667   \n",
       "Adler Planetarium  2014      3   10    14                0     19.900000   \n",
       "\n",
       "                   temperature  events_cloudy_pct  events_clear_pct  \\\n",
       "to_station_name                                                       \n",
       "Adler Planetarium         34.0              100.0               0.0   \n",
       "Adler Planetarium         43.0              100.0               0.0   \n",
       "Adler Planetarium         14.0                0.0               0.0   \n",
       "Adler Planetarium          9.0              100.0               0.0   \n",
       "Adler Planetarium         53.1              100.0               0.0   \n",
       "\n",
       "                   events_not clear_pct  events_rain or snow_pct  \\\n",
       "to_station_name                                                    \n",
       "Adler Planetarium                   0.0                      0.0   \n",
       "Adler Planetarium                   0.0                      0.0   \n",
       "Adler Planetarium                   0.0                    100.0   \n",
       "Adler Planetarium                   0.0                      0.0   \n",
       "Adler Planetarium                   0.0                      0.0   \n",
       "\n",
       "                   events_tstorms_pct  usertype_Customer_pct  \\\n",
       "to_station_name                                                \n",
       "Adler Planetarium                 0.0                    0.0   \n",
       "Adler Planetarium                 0.0                    0.0   \n",
       "Adler Planetarium                 0.0                    0.0   \n",
       "Adler Planetarium                 0.0                    0.0   \n",
       "Adler Planetarium                 0.0                    0.0   \n",
       "\n",
       "                   usertype_Dependent_pct  usertype_Subscriber_pct  \\\n",
       "to_station_name                                                      \n",
       "Adler Planetarium                     0.0                    100.0   \n",
       "Adler Planetarium                     0.0                    100.0   \n",
       "Adler Planetarium                     0.0                    100.0   \n",
       "Adler Planetarium                     0.0                    100.0   \n",
       "Adler Planetarium                     0.0                    100.0   \n",
       "\n",
       "                   gender_Female_pct  gender_Male_pct  trip_count  \n",
       "to_station_name                                                    \n",
       "Adler Planetarium                0.0            100.0           1  \n",
       "Adler Planetarium                0.0            100.0           2  \n",
       "Adler Planetarium               50.0             50.0           2  \n",
       "Adler Planetarium                0.0            100.0           1  \n",
       "Adler Planetarium                0.0            100.0           1  "
      ]
     },
     "execution_count": 103,
     "metadata": {},
     "output_type": "execute_result"
    }
   ],
   "source": [
    "arrival_joindf.head()"
   ]
  },
  {
   "cell_type": "code",
   "execution_count": 104,
   "metadata": {
    "scrolled": true
   },
   "outputs": [],
   "source": [
    "lmarrival_rsquared = []\n",
    "lmarrival_mae = []\n",
    "\n",
    "for k in arrstations:\n",
    "    \n",
    "    X_train = arrival_joindf.loc[k][arrival_joindf.loc[k]['year'].isin([2014,2015,2016])].drop(['trip_count'], axis=1).values\n",
    "    X_test = arrival_joindf.loc[k][arrival_joindf.loc[k]['year']==2017].drop(['trip_count'], axis=1).values\n",
    "    y_train = arrival_joindf.loc[k][arrival_joindf.loc[k]['year'].isin([2014,2015,2016])]['trip_count'].values\n",
    "    y_test = arrival_joindf.loc[k][arrival_joindf.loc[k]['year']==2017]['trip_count'].values\n",
    "\n",
    "    lm = linear_model.LinearRegression()\n",
    "    lm.fit(X_train, y_train)\n",
    "    \n",
    "    y_pred = lm.predict(X_test)\n",
    "    \n",
    "    errors = abs(y_pred - y_test)\n",
    "\n",
    "    lmarrival_rsquared.append(lm.score(X_test, y_test))\n",
    "    \n",
    "    lmarrival_mae.append(round(np.mean(errors), 2))"
   ]
  },
  {
   "cell_type": "code",
   "execution_count": 105,
   "metadata": {},
   "outputs": [
    {
     "data": {
      "text/plain": [
       "0.013239831134713779"
      ]
     },
     "execution_count": 105,
     "metadata": {},
     "output_type": "execute_result"
    }
   ],
   "source": [
    "sum(lmarrival_rsquared)/len(lmarrival_rsquared)"
   ]
  },
  {
   "cell_type": "code",
   "execution_count": 106,
   "metadata": {
    "scrolled": false
   },
   "outputs": [
    {
     "data": {
      "text/plain": [
       "0.4405769230769231"
      ]
     },
     "execution_count": 106,
     "metadata": {},
     "output_type": "execute_result"
    }
   ],
   "source": [
    "sum(lmarrival_mae)/len(lmarrival_mae)"
   ]
  },
  {
   "cell_type": "markdown",
   "metadata": {},
   "source": [
    "## RF Model - departure"
   ]
  },
  {
   "cell_type": "code",
   "execution_count": 107,
   "metadata": {},
   "outputs": [
    {
     "data": {
      "text/html": [
       "<div>\n",
       "<style scoped>\n",
       "    .dataframe tbody tr th:only-of-type {\n",
       "        vertical-align: middle;\n",
       "    }\n",
       "\n",
       "    .dataframe tbody tr th {\n",
       "        vertical-align: top;\n",
       "    }\n",
       "\n",
       "    .dataframe thead th {\n",
       "        text-align: right;\n",
       "    }\n",
       "</style>\n",
       "<table border=\"1\" class=\"dataframe\">\n",
       "  <thead>\n",
       "    <tr style=\"text-align: right;\">\n",
       "      <th></th>\n",
       "      <th>year</th>\n",
       "      <th>month</th>\n",
       "      <th>day</th>\n",
       "      <th>hour</th>\n",
       "      <th>num_day_of_week</th>\n",
       "      <th>tripduration</th>\n",
       "      <th>temperature</th>\n",
       "      <th>events_cloudy_pct</th>\n",
       "      <th>events_clear_pct</th>\n",
       "      <th>events_not clear_pct</th>\n",
       "      <th>events_rain or snow_pct</th>\n",
       "      <th>events_tstorms_pct</th>\n",
       "      <th>usertype_Customer_pct</th>\n",
       "      <th>usertype_Dependent_pct</th>\n",
       "      <th>usertype_Subscriber_pct</th>\n",
       "      <th>gender_Female_pct</th>\n",
       "      <th>gender_Male_pct</th>\n",
       "      <th>trip_count</th>\n",
       "    </tr>\n",
       "    <tr>\n",
       "      <th>from_station_name</th>\n",
       "      <th></th>\n",
       "      <th></th>\n",
       "      <th></th>\n",
       "      <th></th>\n",
       "      <th></th>\n",
       "      <th></th>\n",
       "      <th></th>\n",
       "      <th></th>\n",
       "      <th></th>\n",
       "      <th></th>\n",
       "      <th></th>\n",
       "      <th></th>\n",
       "      <th></th>\n",
       "      <th></th>\n",
       "      <th></th>\n",
       "      <th></th>\n",
       "      <th></th>\n",
       "      <th></th>\n",
       "    </tr>\n",
       "  </thead>\n",
       "  <tbody>\n",
       "    <tr>\n",
       "      <th>Adler Planetarium</th>\n",
       "      <td>2014</td>\n",
       "      <td>1</td>\n",
       "      <td>13</td>\n",
       "      <td>13</td>\n",
       "      <td>0</td>\n",
       "      <td>18.050000</td>\n",
       "      <td>43.0</td>\n",
       "      <td>100.0</td>\n",
       "      <td>0.0</td>\n",
       "      <td>0.0</td>\n",
       "      <td>0.0</td>\n",
       "      <td>0.0</td>\n",
       "      <td>0.0</td>\n",
       "      <td>0.0</td>\n",
       "      <td>100.0</td>\n",
       "      <td>0.0</td>\n",
       "      <td>100.0</td>\n",
       "      <td>1</td>\n",
       "    </tr>\n",
       "    <tr>\n",
       "      <th>Adler Planetarium</th>\n",
       "      <td>2014</td>\n",
       "      <td>1</td>\n",
       "      <td>26</td>\n",
       "      <td>14</td>\n",
       "      <td>6</td>\n",
       "      <td>17.083333</td>\n",
       "      <td>30.9</td>\n",
       "      <td>100.0</td>\n",
       "      <td>0.0</td>\n",
       "      <td>0.0</td>\n",
       "      <td>0.0</td>\n",
       "      <td>0.0</td>\n",
       "      <td>0.0</td>\n",
       "      <td>0.0</td>\n",
       "      <td>100.0</td>\n",
       "      <td>100.0</td>\n",
       "      <td>0.0</td>\n",
       "      <td>1</td>\n",
       "    </tr>\n",
       "    <tr>\n",
       "      <th>Adler Planetarium</th>\n",
       "      <td>2014</td>\n",
       "      <td>2</td>\n",
       "      <td>8</td>\n",
       "      <td>14</td>\n",
       "      <td>5</td>\n",
       "      <td>25.033333</td>\n",
       "      <td>15.1</td>\n",
       "      <td>0.0</td>\n",
       "      <td>0.0</td>\n",
       "      <td>0.0</td>\n",
       "      <td>100.0</td>\n",
       "      <td>0.0</td>\n",
       "      <td>0.0</td>\n",
       "      <td>0.0</td>\n",
       "      <td>100.0</td>\n",
       "      <td>0.0</td>\n",
       "      <td>100.0</td>\n",
       "      <td>1</td>\n",
       "    </tr>\n",
       "    <tr>\n",
       "      <th>Adler Planetarium</th>\n",
       "      <td>2014</td>\n",
       "      <td>2</td>\n",
       "      <td>10</td>\n",
       "      <td>15</td>\n",
       "      <td>0</td>\n",
       "      <td>26.500000</td>\n",
       "      <td>9.0</td>\n",
       "      <td>0.0</td>\n",
       "      <td>100.0</td>\n",
       "      <td>0.0</td>\n",
       "      <td>0.0</td>\n",
       "      <td>0.0</td>\n",
       "      <td>0.0</td>\n",
       "      <td>0.0</td>\n",
       "      <td>100.0</td>\n",
       "      <td>0.0</td>\n",
       "      <td>100.0</td>\n",
       "      <td>1</td>\n",
       "    </tr>\n",
       "    <tr>\n",
       "      <th>Adler Planetarium</th>\n",
       "      <td>2014</td>\n",
       "      <td>2</td>\n",
       "      <td>15</td>\n",
       "      <td>15</td>\n",
       "      <td>5</td>\n",
       "      <td>13.975000</td>\n",
       "      <td>21.0</td>\n",
       "      <td>100.0</td>\n",
       "      <td>0.0</td>\n",
       "      <td>0.0</td>\n",
       "      <td>0.0</td>\n",
       "      <td>0.0</td>\n",
       "      <td>0.0</td>\n",
       "      <td>0.0</td>\n",
       "      <td>100.0</td>\n",
       "      <td>50.0</td>\n",
       "      <td>50.0</td>\n",
       "      <td>2</td>\n",
       "    </tr>\n",
       "  </tbody>\n",
       "</table>\n",
       "</div>"
      ],
      "text/plain": [
       "                   year  month  day  hour  num_day_of_week  tripduration  \\\n",
       "from_station_name                                                          \n",
       "Adler Planetarium  2014      1   13    13                0     18.050000   \n",
       "Adler Planetarium  2014      1   26    14                6     17.083333   \n",
       "Adler Planetarium  2014      2    8    14                5     25.033333   \n",
       "Adler Planetarium  2014      2   10    15                0     26.500000   \n",
       "Adler Planetarium  2014      2   15    15                5     13.975000   \n",
       "\n",
       "                   temperature  events_cloudy_pct  events_clear_pct  \\\n",
       "from_station_name                                                     \n",
       "Adler Planetarium         43.0              100.0               0.0   \n",
       "Adler Planetarium         30.9              100.0               0.0   \n",
       "Adler Planetarium         15.1                0.0               0.0   \n",
       "Adler Planetarium          9.0                0.0             100.0   \n",
       "Adler Planetarium         21.0              100.0               0.0   \n",
       "\n",
       "                   events_not clear_pct  events_rain or snow_pct  \\\n",
       "from_station_name                                                  \n",
       "Adler Planetarium                   0.0                      0.0   \n",
       "Adler Planetarium                   0.0                      0.0   \n",
       "Adler Planetarium                   0.0                    100.0   \n",
       "Adler Planetarium                   0.0                      0.0   \n",
       "Adler Planetarium                   0.0                      0.0   \n",
       "\n",
       "                   events_tstorms_pct  usertype_Customer_pct  \\\n",
       "from_station_name                                              \n",
       "Adler Planetarium                 0.0                    0.0   \n",
       "Adler Planetarium                 0.0                    0.0   \n",
       "Adler Planetarium                 0.0                    0.0   \n",
       "Adler Planetarium                 0.0                    0.0   \n",
       "Adler Planetarium                 0.0                    0.0   \n",
       "\n",
       "                   usertype_Dependent_pct  usertype_Subscriber_pct  \\\n",
       "from_station_name                                                    \n",
       "Adler Planetarium                     0.0                    100.0   \n",
       "Adler Planetarium                     0.0                    100.0   \n",
       "Adler Planetarium                     0.0                    100.0   \n",
       "Adler Planetarium                     0.0                    100.0   \n",
       "Adler Planetarium                     0.0                    100.0   \n",
       "\n",
       "                   gender_Female_pct  gender_Male_pct  trip_count  \n",
       "from_station_name                                                  \n",
       "Adler Planetarium                0.0            100.0           1  \n",
       "Adler Planetarium              100.0              0.0           1  \n",
       "Adler Planetarium                0.0            100.0           1  \n",
       "Adler Planetarium                0.0            100.0           1  \n",
       "Adler Planetarium               50.0             50.0           2  "
      ]
     },
     "execution_count": 107,
     "metadata": {},
     "output_type": "execute_result"
    }
   ],
   "source": [
    "departure_joindf.head()"
   ]
  },
  {
   "cell_type": "code",
   "execution_count": 108,
   "metadata": {
    "scrolled": true
   },
   "outputs": [],
   "source": [
    "rfdeparture_rsquared = []\n",
    "rfdeparture_mae = []\n",
    "for k in depstations:\n",
    "    \n",
    "    X_train = departure_joindf.loc[k][departure_joindf.loc[k]['year'].isin([2014,2015,2016])].drop(['trip_count'], axis=1).values\n",
    "    X_test = departure_joindf.loc[k][departure_joindf.loc[k]['year']==2017].drop(['trip_count'], axis=1).values\n",
    "    y_train = departure_joindf.loc[k][departure_joindf.loc[k]['year'].isin([2014,2015,2016])]['trip_count'].values\n",
    "    y_test = departure_joindf.loc[k][departure_joindf.loc[k]['year']==2017]['trip_count'].values\n",
    "\n",
    "    rfdep = RandomForestRegressor(n_estimators = 100, random_state = 42)\n",
    "    rfdep.fit(X_train, y_train)\n",
    "    \n",
    "    y_pred = rfdep.predict(X_test)\n",
    "    \n",
    "    errors = abs(y_pred - y_test)\n",
    "\n",
    "    rfdeparture_rsquared.append(rfdep.score(X_test, y_test))\n",
    "    \n",
    "    rfdeparture_mae.append(round(np.mean(errors), 2))\n",
    "    \n",
    "    "
   ]
  },
  {
   "cell_type": "code",
   "execution_count": 109,
   "metadata": {
    "scrolled": false
   },
   "outputs": [
    {
     "data": {
      "text/plain": [
       "0.5039475932838309"
      ]
     },
     "execution_count": 109,
     "metadata": {},
     "output_type": "execute_result"
    }
   ],
   "source": [
    "sum(rfdeparture_rsquared)/len(rfdeparture_rsquared)"
   ]
  },
  {
   "cell_type": "code",
   "execution_count": 110,
   "metadata": {
    "scrolled": true
   },
   "outputs": [
    {
     "data": {
      "text/plain": [
       "0.22707547169811335"
      ]
     },
     "execution_count": 110,
     "metadata": {},
     "output_type": "execute_result"
    }
   ],
   "source": [
    "sum(rfdeparture_mae)/len(rfdeparture_mae)"
   ]
  },
  {
   "cell_type": "code",
   "execution_count": 111,
   "metadata": {},
   "outputs": [
    {
     "data": {
      "text/plain": [
       "Text(0.5,1,'R-Squared Values for RF Departure Data')"
      ]
     },
     "execution_count": 111,
     "metadata": {},
     "output_type": "execute_result"
    },
    {
     "data": {
      "image/png": "[encoded data removed]",
      "text/plain": [
       "<Figure size 432x288 with 1 Axes>"
      ]
     },
     "metadata": {},
     "output_type": "display_data"
    }
   ],
   "source": [
    "plt.hist(rfdeparture_rsquared, bins=20)\n",
    "plt.title('R-Squared Values for RF Departure Data')"
   ]
  },
  {
   "cell_type": "markdown",
   "metadata": {},
   "source": [
    "## RF Model - arrival"
   ]
  },
  {
   "cell_type": "code",
   "execution_count": 112,
   "metadata": {},
   "outputs": [
    {
     "data": {
      "text/html": [
       "<div>\n",
       "<style scoped>\n",
       "    .dataframe tbody tr th:only-of-type {\n",
       "        vertical-align: middle;\n",
       "    }\n",
       "\n",
       "    .dataframe tbody tr th {\n",
       "        vertical-align: top;\n",
       "    }\n",
       "\n",
       "    .dataframe thead th {\n",
       "        text-align: right;\n",
       "    }\n",
       "</style>\n",
       "<table border=\"1\" class=\"dataframe\">\n",
       "  <thead>\n",
       "    <tr style=\"text-align: right;\">\n",
       "      <th></th>\n",
       "      <th>year</th>\n",
       "      <th>month</th>\n",
       "      <th>day</th>\n",
       "      <th>hour</th>\n",
       "      <th>num_day_of_week</th>\n",
       "      <th>tripduration</th>\n",
       "      <th>temperature</th>\n",
       "      <th>events_cloudy_pct</th>\n",
       "      <th>events_clear_pct</th>\n",
       "      <th>events_not clear_pct</th>\n",
       "      <th>events_rain or snow_pct</th>\n",
       "      <th>events_tstorms_pct</th>\n",
       "      <th>usertype_Customer_pct</th>\n",
       "      <th>usertype_Dependent_pct</th>\n",
       "      <th>usertype_Subscriber_pct</th>\n",
       "      <th>gender_Female_pct</th>\n",
       "      <th>gender_Male_pct</th>\n",
       "      <th>trip_count</th>\n",
       "    </tr>\n",
       "    <tr>\n",
       "      <th>to_station_name</th>\n",
       "      <th></th>\n",
       "      <th></th>\n",
       "      <th></th>\n",
       "      <th></th>\n",
       "      <th></th>\n",
       "      <th></th>\n",
       "      <th></th>\n",
       "      <th></th>\n",
       "      <th></th>\n",
       "      <th></th>\n",
       "      <th></th>\n",
       "      <th></th>\n",
       "      <th></th>\n",
       "      <th></th>\n",
       "      <th></th>\n",
       "      <th></th>\n",
       "      <th></th>\n",
       "      <th></th>\n",
       "    </tr>\n",
       "  </thead>\n",
       "  <tbody>\n",
       "    <tr>\n",
       "      <th>Adler Planetarium</th>\n",
       "      <td>2014</td>\n",
       "      <td>1</td>\n",
       "      <td>11</td>\n",
       "      <td>14</td>\n",
       "      <td>5</td>\n",
       "      <td>18.116667</td>\n",
       "      <td>34.0</td>\n",
       "      <td>100.0</td>\n",
       "      <td>0.0</td>\n",
       "      <td>0.0</td>\n",
       "      <td>0.0</td>\n",
       "      <td>0.0</td>\n",
       "      <td>0.0</td>\n",
       "      <td>0.0</td>\n",
       "      <td>100.0</td>\n",
       "      <td>0.0</td>\n",
       "      <td>100.0</td>\n",
       "      <td>1</td>\n",
       "    </tr>\n",
       "    <tr>\n",
       "      <th>Adler Planetarium</th>\n",
       "      <td>2014</td>\n",
       "      <td>1</td>\n",
       "      <td>13</td>\n",
       "      <td>13</td>\n",
       "      <td>0</td>\n",
       "      <td>12.000000</td>\n",
       "      <td>43.0</td>\n",
       "      <td>100.0</td>\n",
       "      <td>0.0</td>\n",
       "      <td>0.0</td>\n",
       "      <td>0.0</td>\n",
       "      <td>0.0</td>\n",
       "      <td>0.0</td>\n",
       "      <td>0.0</td>\n",
       "      <td>100.0</td>\n",
       "      <td>0.0</td>\n",
       "      <td>100.0</td>\n",
       "      <td>2</td>\n",
       "    </tr>\n",
       "    <tr>\n",
       "      <th>Adler Planetarium</th>\n",
       "      <td>2014</td>\n",
       "      <td>3</td>\n",
       "      <td>1</td>\n",
       "      <td>18</td>\n",
       "      <td>5</td>\n",
       "      <td>37.475000</td>\n",
       "      <td>14.0</td>\n",
       "      <td>0.0</td>\n",
       "      <td>0.0</td>\n",
       "      <td>0.0</td>\n",
       "      <td>100.0</td>\n",
       "      <td>0.0</td>\n",
       "      <td>0.0</td>\n",
       "      <td>0.0</td>\n",
       "      <td>100.0</td>\n",
       "      <td>50.0</td>\n",
       "      <td>50.0</td>\n",
       "      <td>2</td>\n",
       "    </tr>\n",
       "    <tr>\n",
       "      <th>Adler Planetarium</th>\n",
       "      <td>2014</td>\n",
       "      <td>3</td>\n",
       "      <td>2</td>\n",
       "      <td>9</td>\n",
       "      <td>6</td>\n",
       "      <td>8.966667</td>\n",
       "      <td>9.0</td>\n",
       "      <td>100.0</td>\n",
       "      <td>0.0</td>\n",
       "      <td>0.0</td>\n",
       "      <td>0.0</td>\n",
       "      <td>0.0</td>\n",
       "      <td>0.0</td>\n",
       "      <td>0.0</td>\n",
       "      <td>100.0</td>\n",
       "      <td>0.0</td>\n",
       "      <td>100.0</td>\n",
       "      <td>1</td>\n",
       "    </tr>\n",
       "    <tr>\n",
       "      <th>Adler Planetarium</th>\n",
       "      <td>2014</td>\n",
       "      <td>3</td>\n",
       "      <td>10</td>\n",
       "      <td>14</td>\n",
       "      <td>0</td>\n",
       "      <td>19.900000</td>\n",
       "      <td>53.1</td>\n",
       "      <td>100.0</td>\n",
       "      <td>0.0</td>\n",
       "      <td>0.0</td>\n",
       "      <td>0.0</td>\n",
       "      <td>0.0</td>\n",
       "      <td>0.0</td>\n",
       "      <td>0.0</td>\n",
       "      <td>100.0</td>\n",
       "      <td>0.0</td>\n",
       "      <td>100.0</td>\n",
       "      <td>1</td>\n",
       "    </tr>\n",
       "  </tbody>\n",
       "</table>\n",
       "</div>"
      ],
      "text/plain": [
       "                   year  month  day  hour  num_day_of_week  tripduration  \\\n",
       "to_station_name                                                            \n",
       "Adler Planetarium  2014      1   11    14                5     18.116667   \n",
       "Adler Planetarium  2014      1   13    13                0     12.000000   \n",
       "Adler Planetarium  2014      3    1    18                5     37.475000   \n",
       "Adler Planetarium  2014      3    2     9                6      8.966667   \n",
       "Adler Planetarium  2014      3   10    14                0     19.900000   \n",
       "\n",
       "                   temperature  events_cloudy_pct  events_clear_pct  \\\n",
       "to_station_name                                                       \n",
       "Adler Planetarium         34.0              100.0               0.0   \n",
       "Adler Planetarium         43.0              100.0               0.0   \n",
       "Adler Planetarium         14.0                0.0               0.0   \n",
       "Adler Planetarium          9.0              100.0               0.0   \n",
       "Adler Planetarium         53.1              100.0               0.0   \n",
       "\n",
       "                   events_not clear_pct  events_rain or snow_pct  \\\n",
       "to_station_name                                                    \n",
       "Adler Planetarium                   0.0                      0.0   \n",
       "Adler Planetarium                   0.0                      0.0   \n",
       "Adler Planetarium                   0.0                    100.0   \n",
       "Adler Planetarium                   0.0                      0.0   \n",
       "Adler Planetarium                   0.0                      0.0   \n",
       "\n",
       "                   events_tstorms_pct  usertype_Customer_pct  \\\n",
       "to_station_name                                                \n",
       "Adler Planetarium                 0.0                    0.0   \n",
       "Adler Planetarium                 0.0                    0.0   \n",
       "Adler Planetarium                 0.0                    0.0   \n",
       "Adler Planetarium                 0.0                    0.0   \n",
       "Adler Planetarium                 0.0                    0.0   \n",
       "\n",
       "                   usertype_Dependent_pct  usertype_Subscriber_pct  \\\n",
       "to_station_name                                                      \n",
       "Adler Planetarium                     0.0                    100.0   \n",
       "Adler Planetarium                     0.0                    100.0   \n",
       "Adler Planetarium                     0.0                    100.0   \n",
       "Adler Planetarium                     0.0                    100.0   \n",
       "Adler Planetarium                     0.0                    100.0   \n",
       "\n",
       "                   gender_Female_pct  gender_Male_pct  trip_count  \n",
       "to_station_name                                                    \n",
       "Adler Planetarium                0.0            100.0           1  \n",
       "Adler Planetarium                0.0            100.0           2  \n",
       "Adler Planetarium               50.0             50.0           2  \n",
       "Adler Planetarium                0.0            100.0           1  \n",
       "Adler Planetarium                0.0            100.0           1  "
      ]
     },
     "execution_count": 112,
     "metadata": {},
     "output_type": "execute_result"
    }
   ],
   "source": [
    "arrival_joindf.head()"
   ]
  },
  {
   "cell_type": "code",
   "execution_count": 113,
   "metadata": {},
   "outputs": [],
   "source": [
    "rfarrival_rsquared = []\n",
    "rfarrival_mae = []\n",
    "\n",
    "for k in arrstations:\n",
    "    \n",
    "    X_train = arrival_joindf.loc[k][arrival_joindf.loc[k]['year'].isin([2014,2015,2016])].drop(['trip_count'], axis=1).values\n",
    "    X_test = arrival_joindf.loc[k][arrival_joindf.loc[k]['year']==2017].drop(['trip_count'], axis=1).values\n",
    "    y_train = arrival_joindf.loc[k][arrival_joindf.loc[k]['year'].isin([2014,2015,2016])]['trip_count'].values\n",
    "    y_test = arrival_joindf.loc[k][arrival_joindf.loc[k]['year']==2017]['trip_count'].values\n",
    "\n",
    "    rfarr = RandomForestRegressor(n_estimators = 100, random_state = 42)\n",
    "    rfarr.fit(X_train, y_train)\n",
    "    \n",
    "    y_pred = rfarr.predict(X_test)\n",
    "    \n",
    "    errors = abs(y_pred - y_test)\n",
    "\n",
    "    rfarrival_rsquared.append(rfarr.score(X_test, y_test))\n",
    "    \n",
    "    rfarrival_mae.append(round(np.mean(errors), 2))\n"
   ]
  },
  {
   "cell_type": "code",
   "execution_count": 114,
   "metadata": {
    "scrolled": true
   },
   "outputs": [
    {
     "data": {
      "text/plain": [
       "0.5129224979857228"
      ]
     },
     "execution_count": 114,
     "metadata": {},
     "output_type": "execute_result"
    }
   ],
   "source": [
    "sum(rfarrival_rsquared)/len(rfarrival_rsquared)"
   ]
  },
  {
   "cell_type": "code",
   "execution_count": 115,
   "metadata": {
    "scrolled": false
   },
   "outputs": [
    {
     "data": {
      "text/plain": [
       "0.22471153846153852"
      ]
     },
     "execution_count": 115,
     "metadata": {},
     "output_type": "execute_result"
    }
   ],
   "source": [
    "sum(rfarrival_mae)/len(rfarrival_mae)"
   ]
  },
  {
   "cell_type": "code",
   "execution_count": 116,
   "metadata": {},
   "outputs": [
    {
     "data": {
      "text/plain": [
       "Text(0.5,1,'R-Squared Values for RF Arrival Data')"
      ]
     },
     "execution_count": 116,
     "metadata": {},
     "output_type": "execute_result"
    },
    {
     "data": {
      "image/png": "[encoded data removed]",
      "text/plain": [
       "<Figure size 432x288 with 1 Axes>"
      ]
     },
     "metadata": {},
     "output_type": "display_data"
    }
   ],
   "source": [
    "plt.hist(rfarrival_rsquared, bins=20)\n",
    "plt.title('R-Squared Values for RF Arrival Data')"
   ]
  },
  {
   "cell_type": "markdown",
   "metadata": {},
   "source": [
    "## Predict with RF"
   ]
  },
  {
   "cell_type": "markdown",
   "metadata": {},
   "source": [
    "### Departure data"
   ]
  },
  {
   "cell_type": "code",
   "execution_count": 117,
   "metadata": {
    "scrolled": true
   },
   "outputs": [
    {
     "data": {
      "text/html": [
       "<div>\n",
       "<style scoped>\n",
       "    .dataframe tbody tr th:only-of-type {\n",
       "        vertical-align: middle;\n",
       "    }\n",
       "\n",
       "    .dataframe tbody tr th {\n",
       "        vertical-align: top;\n",
       "    }\n",
       "\n",
       "    .dataframe thead th {\n",
       "        text-align: right;\n",
       "    }\n",
       "</style>\n",
       "<table border=\"1\" class=\"dataframe\">\n",
       "  <thead>\n",
       "    <tr style=\"text-align: right;\">\n",
       "      <th></th>\n",
       "      <th>year</th>\n",
       "      <th>month</th>\n",
       "      <th>day</th>\n",
       "      <th>hour</th>\n",
       "      <th>num_day_of_week</th>\n",
       "      <th>tripduration</th>\n",
       "      <th>temperature</th>\n",
       "      <th>events_cloudy_pct</th>\n",
       "      <th>events_clear_pct</th>\n",
       "      <th>events_not clear_pct</th>\n",
       "      <th>events_rain or snow_pct</th>\n",
       "      <th>events_tstorms_pct</th>\n",
       "      <th>usertype_Customer_pct</th>\n",
       "      <th>usertype_Dependent_pct</th>\n",
       "      <th>usertype_Subscriber_pct</th>\n",
       "      <th>gender_Female_pct</th>\n",
       "      <th>gender_Male_pct</th>\n",
       "      <th>trip_count</th>\n",
       "    </tr>\n",
       "    <tr>\n",
       "      <th>from_station_name</th>\n",
       "      <th></th>\n",
       "      <th></th>\n",
       "      <th></th>\n",
       "      <th></th>\n",
       "      <th></th>\n",
       "      <th></th>\n",
       "      <th></th>\n",
       "      <th></th>\n",
       "      <th></th>\n",
       "      <th></th>\n",
       "      <th></th>\n",
       "      <th></th>\n",
       "      <th></th>\n",
       "      <th></th>\n",
       "      <th></th>\n",
       "      <th></th>\n",
       "      <th></th>\n",
       "      <th></th>\n",
       "    </tr>\n",
       "  </thead>\n",
       "  <tbody>\n",
       "    <tr>\n",
       "      <th>Adler Planetarium</th>\n",
       "      <td>2014</td>\n",
       "      <td>1</td>\n",
       "      <td>13</td>\n",
       "      <td>13</td>\n",
       "      <td>0</td>\n",
       "      <td>18.050000</td>\n",
       "      <td>43.0</td>\n",
       "      <td>100.0</td>\n",
       "      <td>0.0</td>\n",
       "      <td>0.0</td>\n",
       "      <td>0.0</td>\n",
       "      <td>0.0</td>\n",
       "      <td>0.0</td>\n",
       "      <td>0.0</td>\n",
       "      <td>100.0</td>\n",
       "      <td>0.0</td>\n",
       "      <td>100.0</td>\n",
       "      <td>1</td>\n",
       "    </tr>\n",
       "    <tr>\n",
       "      <th>Adler Planetarium</th>\n",
       "      <td>2014</td>\n",
       "      <td>1</td>\n",
       "      <td>26</td>\n",
       "      <td>14</td>\n",
       "      <td>6</td>\n",
       "      <td>17.083333</td>\n",
       "      <td>30.9</td>\n",
       "      <td>100.0</td>\n",
       "      <td>0.0</td>\n",
       "      <td>0.0</td>\n",
       "      <td>0.0</td>\n",
       "      <td>0.0</td>\n",
       "      <td>0.0</td>\n",
       "      <td>0.0</td>\n",
       "      <td>100.0</td>\n",
       "      <td>100.0</td>\n",
       "      <td>0.0</td>\n",
       "      <td>1</td>\n",
       "    </tr>\n",
       "    <tr>\n",
       "      <th>Adler Planetarium</th>\n",
       "      <td>2014</td>\n",
       "      <td>2</td>\n",
       "      <td>8</td>\n",
       "      <td>14</td>\n",
       "      <td>5</td>\n",
       "      <td>25.033333</td>\n",
       "      <td>15.1</td>\n",
       "      <td>0.0</td>\n",
       "      <td>0.0</td>\n",
       "      <td>0.0</td>\n",
       "      <td>100.0</td>\n",
       "      <td>0.0</td>\n",
       "      <td>0.0</td>\n",
       "      <td>0.0</td>\n",
       "      <td>100.0</td>\n",
       "      <td>0.0</td>\n",
       "      <td>100.0</td>\n",
       "      <td>1</td>\n",
       "    </tr>\n",
       "    <tr>\n",
       "      <th>Adler Planetarium</th>\n",
       "      <td>2014</td>\n",
       "      <td>2</td>\n",
       "      <td>10</td>\n",
       "      <td>15</td>\n",
       "      <td>0</td>\n",
       "      <td>26.500000</td>\n",
       "      <td>9.0</td>\n",
       "      <td>0.0</td>\n",
       "      <td>100.0</td>\n",
       "      <td>0.0</td>\n",
       "      <td>0.0</td>\n",
       "      <td>0.0</td>\n",
       "      <td>0.0</td>\n",
       "      <td>0.0</td>\n",
       "      <td>100.0</td>\n",
       "      <td>0.0</td>\n",
       "      <td>100.0</td>\n",
       "      <td>1</td>\n",
       "    </tr>\n",
       "    <tr>\n",
       "      <th>Adler Planetarium</th>\n",
       "      <td>2014</td>\n",
       "      <td>2</td>\n",
       "      <td>15</td>\n",
       "      <td>15</td>\n",
       "      <td>5</td>\n",
       "      <td>13.975000</td>\n",
       "      <td>21.0</td>\n",
       "      <td>100.0</td>\n",
       "      <td>0.0</td>\n",
       "      <td>0.0</td>\n",
       "      <td>0.0</td>\n",
       "      <td>0.0</td>\n",
       "      <td>0.0</td>\n",
       "      <td>0.0</td>\n",
       "      <td>100.0</td>\n",
       "      <td>50.0</td>\n",
       "      <td>50.0</td>\n",
       "      <td>2</td>\n",
       "    </tr>\n",
       "  </tbody>\n",
       "</table>\n",
       "</div>"
      ],
      "text/plain": [
       "                   year  month  day  hour  num_day_of_week  tripduration  \\\n",
       "from_station_name                                                          \n",
       "Adler Planetarium  2014      1   13    13                0     18.050000   \n",
       "Adler Planetarium  2014      1   26    14                6     17.083333   \n",
       "Adler Planetarium  2014      2    8    14                5     25.033333   \n",
       "Adler Planetarium  2014      2   10    15                0     26.500000   \n",
       "Adler Planetarium  2014      2   15    15                5     13.975000   \n",
       "\n",
       "                   temperature  events_cloudy_pct  events_clear_pct  \\\n",
       "from_station_name                                                     \n",
       "Adler Planetarium         43.0              100.0               0.0   \n",
       "Adler Planetarium         30.9              100.0               0.0   \n",
       "Adler Planetarium         15.1                0.0               0.0   \n",
       "Adler Planetarium          9.0                0.0             100.0   \n",
       "Adler Planetarium         21.0              100.0               0.0   \n",
       "\n",
       "                   events_not clear_pct  events_rain or snow_pct  \\\n",
       "from_station_name                                                  \n",
       "Adler Planetarium                   0.0                      0.0   \n",
       "Adler Planetarium                   0.0                      0.0   \n",
       "Adler Planetarium                   0.0                    100.0   \n",
       "Adler Planetarium                   0.0                      0.0   \n",
       "Adler Planetarium                   0.0                      0.0   \n",
       "\n",
       "                   events_tstorms_pct  usertype_Customer_pct  \\\n",
       "from_station_name                                              \n",
       "Adler Planetarium                 0.0                    0.0   \n",
       "Adler Planetarium                 0.0                    0.0   \n",
       "Adler Planetarium                 0.0                    0.0   \n",
       "Adler Planetarium                 0.0                    0.0   \n",
       "Adler Planetarium                 0.0                    0.0   \n",
       "\n",
       "                   usertype_Dependent_pct  usertype_Subscriber_pct  \\\n",
       "from_station_name                                                    \n",
       "Adler Planetarium                     0.0                    100.0   \n",
       "Adler Planetarium                     0.0                    100.0   \n",
       "Adler Planetarium                     0.0                    100.0   \n",
       "Adler Planetarium                     0.0                    100.0   \n",
       "Adler Planetarium                     0.0                    100.0   \n",
       "\n",
       "                   gender_Female_pct  gender_Male_pct  trip_count  \n",
       "from_station_name                                                  \n",
       "Adler Planetarium                0.0            100.0           1  \n",
       "Adler Planetarium              100.0              0.0           1  \n",
       "Adler Planetarium                0.0            100.0           1  \n",
       "Adler Planetarium                0.0            100.0           1  \n",
       "Adler Planetarium               50.0             50.0           2  "
      ]
     },
     "execution_count": 117,
     "metadata": {},
     "output_type": "execute_result"
    }
   ],
   "source": [
    "departure_joindf.head()"
   ]
  },
  {
   "cell_type": "code",
   "execution_count": 118,
   "metadata": {},
   "outputs": [],
   "source": [
    "def rfmodeldep(k):\n",
    "\n",
    "    X_train = departure_joindf.loc[k][departure_joindf.loc[k]['year'].isin([2014,2015,2016])].drop(['trip_count'], axis=1).values\n",
    "    X_test = departure_joindf.loc[k][departure_joindf.loc[k]['year']==2017].drop(['trip_count'], axis=1).values\n",
    "    y_train = departure_joindf.loc[k][departure_joindf.loc[k]['year'].isin([2014,2015,2016])]['trip_count'].values\n",
    "    y_test = departure_joindf.loc[k][departure_joindf.loc[k]['year']==2017]['trip_count'].values\n",
    "\n",
    "    rfdep = RandomForestRegressor(n_estimators = 100, random_state = 42)\n",
    "    rfdep.fit(X_train, y_train)\n",
    "    \n",
    "    return rfdep"
   ]
  },
  {
   "cell_type": "code",
   "execution_count": 119,
   "metadata": {},
   "outputs": [],
   "source": [
    "rfdep = rfmodeldep('Adler Planetarium')"
   ]
  },
  {
   "cell_type": "code",
   "execution_count": 120,
   "metadata": {},
   "outputs": [
    {
     "data": {
      "text/plain": [
       "array([2017,    4,   15,   12,    5,    5,   90,    0,  100,    0,    0,\n",
       "          0,    0,    0,  100,    0,  100])"
      ]
     },
     "execution_count": 120,
     "metadata": {},
     "output_type": "execute_result"
    }
   ],
   "source": [
    "X_predict = [2017,4,15,12,5,5,90,0,100,0,0,0,0,0,100,0,100]\n",
    "X_train_sun = np.asarray(X_predict)\n",
    "X_train_sun"
   ]
  },
  {
   "cell_type": "code",
   "execution_count": 121,
   "metadata": {},
   "outputs": [
    {
     "data": {
      "text/plain": [
       "array([1.51])"
      ]
     },
     "execution_count": 121,
     "metadata": {},
     "output_type": "execute_result"
    }
   ],
   "source": [
    "rfdep.predict(X_train_sun.reshape(1,-1))"
   ]
  },
  {
   "cell_type": "code",
   "execution_count": 122,
   "metadata": {},
   "outputs": [
    {
     "data": {
      "text/plain": [
       "array([2017,    4,   15,   12,    5,    5,   30,    0,    0,    0,  100,\n",
       "          0,    0,    0,  100,    0,  100])"
      ]
     },
     "execution_count": 122,
     "metadata": {},
     "output_type": "execute_result"
    }
   ],
   "source": [
    "X_predict = [2017,4,15,12,5,5,30,0,0,0,100,0,0,0,100,0,100]\n",
    "X_train_rain = np.asarray(X_predict)\n",
    "X_train_rain"
   ]
  },
  {
   "cell_type": "code",
   "execution_count": 123,
   "metadata": {
    "scrolled": true
   },
   "outputs": [
    {
     "data": {
      "text/plain": [
       "array([1.02])"
      ]
     },
     "execution_count": 123,
     "metadata": {},
     "output_type": "execute_result"
    }
   ],
   "source": [
    "rfdep.predict(X_train_rain.reshape(1,-1))"
   ]
  },
  {
   "cell_type": "markdown",
   "metadata": {},
   "source": [
    "### Arrival data"
   ]
  },
  {
   "cell_type": "code",
   "execution_count": 124,
   "metadata": {
    "scrolled": true
   },
   "outputs": [
    {
     "data": {
      "text/html": [
       "<div>\n",
       "<style scoped>\n",
       "    .dataframe tbody tr th:only-of-type {\n",
       "        vertical-align: middle;\n",
       "    }\n",
       "\n",
       "    .dataframe tbody tr th {\n",
       "        vertical-align: top;\n",
       "    }\n",
       "\n",
       "    .dataframe thead th {\n",
       "        text-align: right;\n",
       "    }\n",
       "</style>\n",
       "<table border=\"1\" class=\"dataframe\">\n",
       "  <thead>\n",
       "    <tr style=\"text-align: right;\">\n",
       "      <th></th>\n",
       "      <th>year</th>\n",
       "      <th>month</th>\n",
       "      <th>day</th>\n",
       "      <th>hour</th>\n",
       "      <th>num_day_of_week</th>\n",
       "      <th>tripduration</th>\n",
       "      <th>temperature</th>\n",
       "      <th>events_cloudy_pct</th>\n",
       "      <th>events_clear_pct</th>\n",
       "      <th>events_not clear_pct</th>\n",
       "      <th>events_rain or snow_pct</th>\n",
       "      <th>events_tstorms_pct</th>\n",
       "      <th>usertype_Customer_pct</th>\n",
       "      <th>usertype_Dependent_pct</th>\n",
       "      <th>usertype_Subscriber_pct</th>\n",
       "      <th>gender_Female_pct</th>\n",
       "      <th>gender_Male_pct</th>\n",
       "      <th>trip_count</th>\n",
       "    </tr>\n",
       "    <tr>\n",
       "      <th>to_station_name</th>\n",
       "      <th></th>\n",
       "      <th></th>\n",
       "      <th></th>\n",
       "      <th></th>\n",
       "      <th></th>\n",
       "      <th></th>\n",
       "      <th></th>\n",
       "      <th></th>\n",
       "      <th></th>\n",
       "      <th></th>\n",
       "      <th></th>\n",
       "      <th></th>\n",
       "      <th></th>\n",
       "      <th></th>\n",
       "      <th></th>\n",
       "      <th></th>\n",
       "      <th></th>\n",
       "      <th></th>\n",
       "    </tr>\n",
       "  </thead>\n",
       "  <tbody>\n",
       "    <tr>\n",
       "      <th>Adler Planetarium</th>\n",
       "      <td>2014</td>\n",
       "      <td>1</td>\n",
       "      <td>11</td>\n",
       "      <td>14</td>\n",
       "      <td>5</td>\n",
       "      <td>18.116667</td>\n",
       "      <td>34.0</td>\n",
       "      <td>100.0</td>\n",
       "      <td>0.0</td>\n",
       "      <td>0.0</td>\n",
       "      <td>0.0</td>\n",
       "      <td>0.0</td>\n",
       "      <td>0.0</td>\n",
       "      <td>0.0</td>\n",
       "      <td>100.0</td>\n",
       "      <td>0.0</td>\n",
       "      <td>100.0</td>\n",
       "      <td>1</td>\n",
       "    </tr>\n",
       "    <tr>\n",
       "      <th>Adler Planetarium</th>\n",
       "      <td>2014</td>\n",
       "      <td>1</td>\n",
       "      <td>13</td>\n",
       "      <td>13</td>\n",
       "      <td>0</td>\n",
       "      <td>12.000000</td>\n",
       "      <td>43.0</td>\n",
       "      <td>100.0</td>\n",
       "      <td>0.0</td>\n",
       "      <td>0.0</td>\n",
       "      <td>0.0</td>\n",
       "      <td>0.0</td>\n",
       "      <td>0.0</td>\n",
       "      <td>0.0</td>\n",
       "      <td>100.0</td>\n",
       "      <td>0.0</td>\n",
       "      <td>100.0</td>\n",
       "      <td>2</td>\n",
       "    </tr>\n",
       "    <tr>\n",
       "      <th>Adler Planetarium</th>\n",
       "      <td>2014</td>\n",
       "      <td>3</td>\n",
       "      <td>1</td>\n",
       "      <td>18</td>\n",
       "      <td>5</td>\n",
       "      <td>37.475000</td>\n",
       "      <td>14.0</td>\n",
       "      <td>0.0</td>\n",
       "      <td>0.0</td>\n",
       "      <td>0.0</td>\n",
       "      <td>100.0</td>\n",
       "      <td>0.0</td>\n",
       "      <td>0.0</td>\n",
       "      <td>0.0</td>\n",
       "      <td>100.0</td>\n",
       "      <td>50.0</td>\n",
       "      <td>50.0</td>\n",
       "      <td>2</td>\n",
       "    </tr>\n",
       "    <tr>\n",
       "      <th>Adler Planetarium</th>\n",
       "      <td>2014</td>\n",
       "      <td>3</td>\n",
       "      <td>2</td>\n",
       "      <td>9</td>\n",
       "      <td>6</td>\n",
       "      <td>8.966667</td>\n",
       "      <td>9.0</td>\n",
       "      <td>100.0</td>\n",
       "      <td>0.0</td>\n",
       "      <td>0.0</td>\n",
       "      <td>0.0</td>\n",
       "      <td>0.0</td>\n",
       "      <td>0.0</td>\n",
       "      <td>0.0</td>\n",
       "      <td>100.0</td>\n",
       "      <td>0.0</td>\n",
       "      <td>100.0</td>\n",
       "      <td>1</td>\n",
       "    </tr>\n",
       "    <tr>\n",
       "      <th>Adler Planetarium</th>\n",
       "      <td>2014</td>\n",
       "      <td>3</td>\n",
       "      <td>10</td>\n",
       "      <td>14</td>\n",
       "      <td>0</td>\n",
       "      <td>19.900000</td>\n",
       "      <td>53.1</td>\n",
       "      <td>100.0</td>\n",
       "      <td>0.0</td>\n",
       "      <td>0.0</td>\n",
       "      <td>0.0</td>\n",
       "      <td>0.0</td>\n",
       "      <td>0.0</td>\n",
       "      <td>0.0</td>\n",
       "      <td>100.0</td>\n",
       "      <td>0.0</td>\n",
       "      <td>100.0</td>\n",
       "      <td>1</td>\n",
       "    </tr>\n",
       "  </tbody>\n",
       "</table>\n",
       "</div>"
      ],
      "text/plain": [
       "                   year  month  day  hour  num_day_of_week  tripduration  \\\n",
       "to_station_name                                                            \n",
       "Adler Planetarium  2014      1   11    14                5     18.116667   \n",
       "Adler Planetarium  2014      1   13    13                0     12.000000   \n",
       "Adler Planetarium  2014      3    1    18                5     37.475000   \n",
       "Adler Planetarium  2014      3    2     9                6      8.966667   \n",
       "Adler Planetarium  2014      3   10    14                0     19.900000   \n",
       "\n",
       "                   temperature  events_cloudy_pct  events_clear_pct  \\\n",
       "to_station_name                                                       \n",
       "Adler Planetarium         34.0              100.0               0.0   \n",
       "Adler Planetarium         43.0              100.0               0.0   \n",
       "Adler Planetarium         14.0                0.0               0.0   \n",
       "Adler Planetarium          9.0              100.0               0.0   \n",
       "Adler Planetarium         53.1              100.0               0.0   \n",
       "\n",
       "                   events_not clear_pct  events_rain or snow_pct  \\\n",
       "to_station_name                                                    \n",
       "Adler Planetarium                   0.0                      0.0   \n",
       "Adler Planetarium                   0.0                      0.0   \n",
       "Adler Planetarium                   0.0                    100.0   \n",
       "Adler Planetarium                   0.0                      0.0   \n",
       "Adler Planetarium                   0.0                      0.0   \n",
       "\n",
       "                   events_tstorms_pct  usertype_Customer_pct  \\\n",
       "to_station_name                                                \n",
       "Adler Planetarium                 0.0                    0.0   \n",
       "Adler Planetarium                 0.0                    0.0   \n",
       "Adler Planetarium                 0.0                    0.0   \n",
       "Adler Planetarium                 0.0                    0.0   \n",
       "Adler Planetarium                 0.0                    0.0   \n",
       "\n",
       "                   usertype_Dependent_pct  usertype_Subscriber_pct  \\\n",
       "to_station_name                                                      \n",
       "Adler Planetarium                     0.0                    100.0   \n",
       "Adler Planetarium                     0.0                    100.0   \n",
       "Adler Planetarium                     0.0                    100.0   \n",
       "Adler Planetarium                     0.0                    100.0   \n",
       "Adler Planetarium                     0.0                    100.0   \n",
       "\n",
       "                   gender_Female_pct  gender_Male_pct  trip_count  \n",
       "to_station_name                                                    \n",
       "Adler Planetarium                0.0            100.0           1  \n",
       "Adler Planetarium                0.0            100.0           2  \n",
       "Adler Planetarium               50.0             50.0           2  \n",
       "Adler Planetarium                0.0            100.0           1  \n",
       "Adler Planetarium                0.0            100.0           1  "
      ]
     },
     "execution_count": 124,
     "metadata": {},
     "output_type": "execute_result"
    }
   ],
   "source": [
    "arrival_joindf.head()"
   ]
  },
  {
   "cell_type": "code",
   "execution_count": 125,
   "metadata": {},
   "outputs": [],
   "source": [
    "def rfmodelarr(k):\n",
    "\n",
    "    X_train = arrival_joindf.loc[k][arrival_joindf.loc[k]['year'].isin([2014,2015,2016])].drop(['trip_count'], axis=1).values\n",
    "    X_test = arrival_joindf.loc[k][arrival_joindf.loc[k]['year']==2017].drop(['trip_count'], axis=1).values\n",
    "    y_train = arrival_joindf.loc[k][arrival_joindf.loc[k]['year'].isin([2014,2015,2016])]['trip_count'].values\n",
    "    y_test = arrival_joindf.loc[k][arrival_joindf.loc[k]['year']==2017]['trip_count'].values\n",
    "\n",
    "    rfarr = RandomForestRegressor(n_estimators = 100, random_state = 42)\n",
    "    rfarr.fit(X_train, y_train)\n",
    "    \n",
    "    return rfarr"
   ]
  },
  {
   "cell_type": "code",
   "execution_count": 126,
   "metadata": {},
   "outputs": [],
   "source": [
    "rfarr = rfmodelarr('Adler Planetarium')"
   ]
  },
  {
   "cell_type": "code",
   "execution_count": 127,
   "metadata": {},
   "outputs": [
    {
     "data": {
      "text/plain": [
       "array([2017,    4,   15,   12,    5,    5,   90,    0,  100,    0,    0,\n",
       "          0,    0,    0,  100,    0,  100])"
      ]
     },
     "execution_count": 127,
     "metadata": {},
     "output_type": "execute_result"
    }
   ],
   "source": [
    "X_predict = [2017,4,15,12,5,5,90,0,100,0,0,0,0,0,100,0,100]\n",
    "X_train_sun = np.asarray(X_predict)\n",
    "X_train_sun"
   ]
  },
  {
   "cell_type": "code",
   "execution_count": 128,
   "metadata": {},
   "outputs": [
    {
     "data": {
      "text/plain": [
       "array([1.41])"
      ]
     },
     "execution_count": 128,
     "metadata": {},
     "output_type": "execute_result"
    }
   ],
   "source": [
    "rfarr.predict(X_train_sun.reshape(1,-1))"
   ]
  },
  {
   "cell_type": "code",
   "execution_count": 129,
   "metadata": {},
   "outputs": [
    {
     "data": {
      "text/plain": [
       "array([2017,    4,   15,   12,    5,    5,   30,    0,    0,    0,  100,\n",
       "          0,    0,    0,  100,    0,  100])"
      ]
     },
     "execution_count": 129,
     "metadata": {},
     "output_type": "execute_result"
    }
   ],
   "source": [
    "X_predict = [2017,4,15,12,5,5,30,0,0,0,100,0,0,0,100,0,100]\n",
    "X_train_rain = np.asarray(X_predict)\n",
    "X_train_rain"
   ]
  },
  {
   "cell_type": "code",
   "execution_count": 130,
   "metadata": {
    "scrolled": true
   },
   "outputs": [
    {
     "data": {
      "text/plain": [
       "array([1.15])"
      ]
     },
     "execution_count": 130,
     "metadata": {},
     "output_type": "execute_result"
    }
   ],
   "source": [
    "rfarr.predict(X_train_rain.reshape(1,-1))"
   ]
  },
  {
   "cell_type": "code",
   "execution_count": null,
   "metadata": {},
   "outputs": [],
   "source": []
  },
  {
   "cell_type": "code",
   "execution_count": null,
   "metadata": {},
   "outputs": [],
   "source": []
  }
 ],
 "metadata": {
  "kernelspec": {
   "display_name": "Python 3",
   "language": "python",
   "name": "python3"
  },
  "language_info": {
   "codemirror_mode": {
    "name": "ipython",
    "version": 3
   },
   "file_extension": ".py",
   "mimetype": "text/x-python",
   "name": "python",
   "nbconvert_exporter": "python",
   "pygments_lexer": "ipython3",
   "version": "3.6.5"
  }
 },
 "nbformat": 4,
 "nbformat_minor": 2
}
